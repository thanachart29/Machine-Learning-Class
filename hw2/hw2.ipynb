{
 "cells": [
  {
   "cell_type": "markdown",
   "metadata": {},
   "source": [
    "### Provide by\n",
    "\n",
    "นายธนชาติ เสถียรจารุการ 63340500021 <br>\n",
    "\n",
    "นายพชพล เพชรรัตน์ 63340500036"
   ]
  },
  {
   "cell_type": "code",
   "execution_count": null,
   "metadata": {},
   "outputs": [],
   "source": [
    "import pandas as pd\n",
    "import seaborn as sns\n",
    "import matplotlib.pyplot as plt\n",
    "import numpy as np\n",
    "from scipy import stats\n",
    "from sklearn.preprocessing import QuantileTransformer\n",
    "#import tensorflow as tf\n",
    "\n",
    "df = pd.read_csv('bank-additional-full.csv', sep=';')\n",
    "df = df.drop(['duration'], axis=1)\n",
    "df.head()"
   ]
  },
  {
   "cell_type": "markdown",
   "metadata": {},
   "source": [
    "### Data exploration\n"
   ]
  },
  {
   "cell_type": "markdown",
   "metadata": {},
   "source": [
    "##### Check null of dataset"
   ]
  },
  {
   "cell_type": "code",
   "execution_count": null,
   "metadata": {},
   "outputs": [],
   "source": [
    "df.info()"
   ]
  },
  {
   "cell_type": "markdown",
   "metadata": {},
   "source": [
    "##### Target\n",
    "The total number of data is 41188 samples devided into\n",
    "- No: 36548 samples\n",
    "<br>\n",
    "\n",
    "- Yes: 4640 samples\n",
    "\n",
    "**this means that the dataset is imbalanced**\n",
    "\n"
   ]
  },
  {
   "cell_type": "code",
   "execution_count": null,
   "metadata": {},
   "outputs": [],
   "source": [
    "print(df['y'].value_counts())\n",
    "plt.figure(figsize = (4,4))\n",
    "sns.histplot(data = df, x = 'y')\n",
    "plt.show()"
   ]
  },
  {
   "cell_type": "markdown",
   "metadata": {},
   "source": [
    "##### Explore numerical data"
   ]
  },
  {
   "cell_type": "code",
   "execution_count": null,
   "metadata": {},
   "outputs": [],
   "source": [
    "cols = df.columns\n",
    "num_data = list(df._get_numeric_data().columns)\n",
    "cat_data = list(set(cols) - set(num_data))\n",
    "\n",
    "plot_num = 1\n",
    "plt.figure(figsize = (15,27))\n",
    "for i in num_data:\n",
    "    ax = plt.subplot(7, 3, plot_num)\n",
    "    sns.histplot(data=df, x=i)\n",
    "    plot_num += 1\n",
    "plt.show()\n"
   ]
  },
  {
   "cell_type": "markdown",
   "metadata": {},
   "source": [
    "- age\n",
    "    - ages over 60 seem to be the outlier"
   ]
  },
  {
   "cell_type": "code",
   "execution_count": null,
   "metadata": {},
   "outputs": [],
   "source": [
    "print(df['age'].value_counts())\n",
    "cut_sample = df.loc[df['age'] > 60]\n",
    "sns.boxplot(data = cut_sample, x = 'y', y = 'age')\n",
    "plt.show()"
   ]
  },
  {
   "cell_type": "markdown",
   "metadata": {},
   "source": [
    "- campaign\n",
    "    - number of campaign over 20 seem to be the outlier"
   ]
  },
  {
   "cell_type": "code",
   "execution_count": null,
   "metadata": {},
   "outputs": [],
   "source": [
    "print(df['campaign'].value_counts())\n",
    "cut_sample = df.loc[df['campaign'] >= 21]\n",
    "print(cut_sample['y'].value_counts())\n",
    "sns.boxplot(data = cut_sample, x = 'y', y = 'campaign')\n",
    "plt.show()"
   ]
  },
  {
   "cell_type": "markdown",
   "metadata": {},
   "source": [
    "- pdays\n",
    "    - replace value 999 to -1\n",
    "    - and pdays value over 15 seem to be the outlier\n",
    "    - group data to 2 categorical"
   ]
  },
  {
   "cell_type": "code",
   "execution_count": null,
   "metadata": {},
   "outputs": [],
   "source": [
    "df['pdays'] = df['pdays'].replace([999], [-1])\n",
    "print(df['pdays'].value_counts())\n",
    "\n",
    "cut_sample = df.loc[df['pdays'] > 15]\n",
    "print(cut_sample['y'].value_counts())\n",
    "sns.boxplot(data = cut_sample, x = 'y', y = 'pdays')\n",
    "plt.show()"
   ]
  },
  {
   "cell_type": "markdown",
   "metadata": {},
   "source": [
    "- previous\n",
    "    - previous values over 3 seem to be the outlier but most of the sample that has previous values over 3 have target 'yes' i guess it is positive to our model so I decided to keep it\n",
    "    - group data to 2 categorical"
   ]
  },
  {
   "cell_type": "code",
   "execution_count": null,
   "metadata": {},
   "outputs": [],
   "source": [
    "print(df['previous'].value_counts())\n",
    "\n",
    "cut_sample = df.loc[df['previous'] > 3]\n",
    "print(cut_sample['y'].value_counts())\n",
    "sns.boxplot(data = cut_sample, x = 'y', y = 'previous')\n",
    "plt.show()"
   ]
  },
  {
   "cell_type": "markdown",
   "metadata": {},
   "source": [
    "- emp.var.rate"
   ]
  },
  {
   "cell_type": "code",
   "execution_count": null,
   "metadata": {},
   "outputs": [],
   "source": [
    "df['emp.var.rate'].value_counts()\n",
    "unique = df['emp.var.rate'].unique()\n",
    "print(sorted(unique))"
   ]
  },
  {
   "cell_type": "markdown",
   "metadata": {},
   "source": [
    "- cons.price.idx"
   ]
  },
  {
   "cell_type": "code",
   "execution_count": null,
   "metadata": {},
   "outputs": [],
   "source": [
    "df['cons.price.idx'].value_counts()\n",
    "unique = df['cons.price.idx'].unique()\n",
    "print(sorted(unique))"
   ]
  },
  {
   "cell_type": "markdown",
   "metadata": {},
   "source": [
    "- cons.conf.idx"
   ]
  },
  {
   "cell_type": "code",
   "execution_count": null,
   "metadata": {},
   "outputs": [],
   "source": [
    "df['cons.conf.idx'].value_counts()\n",
    "unique = df['cons.conf.idx'].unique()\n",
    "print(sorted(unique))"
   ]
  },
  {
   "cell_type": "markdown",
   "metadata": {},
   "source": [
    "- euribor3m"
   ]
  },
  {
   "cell_type": "code",
   "execution_count": null,
   "metadata": {},
   "outputs": [],
   "source": [
    "df['euribor3m'].value_counts()\n",
    "unique = df['euribor3m'].unique()\n",
    "print(sorted(unique))"
   ]
  },
  {
   "cell_type": "markdown",
   "metadata": {},
   "source": [
    "- nr.employed"
   ]
  },
  {
   "cell_type": "code",
   "execution_count": null,
   "metadata": {},
   "outputs": [],
   "source": [
    "df['nr.employed'].value_counts()\n",
    "unique = df['nr.employed'].unique()\n",
    "print(sorted(unique))"
   ]
  },
  {
   "cell_type": "markdown",
   "metadata": {},
   "source": [
    "##### Summarize numeric outlier\n",
    "- age values over 60\n",
    "- campaign values over 20\n",
    "- pdays values over 15"
   ]
  },
  {
   "cell_type": "markdown",
   "metadata": {},
   "source": [
    "##### Explore categorical data\n"
   ]
  },
  {
   "cell_type": "code",
   "execution_count": null,
   "metadata": {},
   "outputs": [],
   "source": [
    "plot_num = 1\n",
    "plt.figure(figsize = (15,27))\n",
    "for i in cat_data:\n",
    "    ax = plt.subplot(7, 3, plot_num)\n",
    "    sns.histplot(data=df, x=i)\n",
    "    plot_num += 1\n",
    "plt.show()"
   ]
  },
  {
   "cell_type": "markdown",
   "metadata": {},
   "source": [
    "- day_of_week"
   ]
  },
  {
   "cell_type": "code",
   "execution_count": null,
   "metadata": {},
   "outputs": [],
   "source": [
    "df['day_of_week'].value_counts()"
   ]
  },
  {
   "cell_type": "markdown",
   "metadata": {},
   "source": [
    "- job\n",
    "    - consider to cut unknown job"
   ]
  },
  {
   "cell_type": "code",
   "execution_count": null,
   "metadata": {},
   "outputs": [],
   "source": [
    "print(df['job'].value_counts())\n",
    "cut_sample = df.loc[df['job'] == 'unknown']\n",
    "print(cut_sample['y'].value_counts())\n",
    "sns.countplot(data = cut_sample, x = 'job', hue = 'y')\n",
    "plt.show()"
   ]
  },
  {
   "cell_type": "markdown",
   "metadata": {},
   "source": [
    "- poutcome"
   ]
  },
  {
   "cell_type": "code",
   "execution_count": null,
   "metadata": {},
   "outputs": [],
   "source": [
    "df['poutcome'].value_counts()\n"
   ]
  },
  {
   "cell_type": "markdown",
   "metadata": {},
   "source": [
    "- marital\n",
    "    - consider to cut unknown marital status"
   ]
  },
  {
   "cell_type": "code",
   "execution_count": null,
   "metadata": {},
   "outputs": [],
   "source": [
    "print(df['marital'].value_counts())\n",
    "cut_sample = df.loc[df['marital'] == 'unknown']\n",
    "print(cut_sample['y'].value_counts())\n",
    "sns.countplot(data = cut_sample, x = 'marital', hue = 'y')\n",
    "plt.show()\n"
   ]
  },
  {
   "cell_type": "markdown",
   "metadata": {},
   "source": [
    "- housing\n",
    "    - consider to cut unknown housing data\n",
    "    - change to numerical data"
   ]
  },
  {
   "cell_type": "code",
   "execution_count": null,
   "metadata": {},
   "outputs": [],
   "source": [
    "print(df['housing'].value_counts())\n",
    "cut_sample = df.loc[df['housing'] == 'unknown']\n",
    "print(cut_sample['y'].value_counts())\n",
    "sns.countplot(data = cut_sample, x = 'housing', hue = 'y')\n",
    "plt.show()"
   ]
  },
  {
   "cell_type": "markdown",
   "metadata": {},
   "source": [
    "- month\n",
    "    - consider to change months categorical to numerical"
   ]
  },
  {
   "cell_type": "code",
   "execution_count": null,
   "metadata": {},
   "outputs": [],
   "source": [
    "df['month'].value_counts()"
   ]
  },
  {
   "cell_type": "markdown",
   "metadata": {},
   "source": [
    "- loan\n",
    "    - consider to cut unknown loan data\n",
    "    - change to numerical data"
   ]
  },
  {
   "cell_type": "code",
   "execution_count": null,
   "metadata": {},
   "outputs": [],
   "source": [
    "print(df['loan'].value_counts())\n",
    "cut_sample = df.loc[df['loan'] == 'unknown']\n",
    "print(cut_sample['y'].value_counts())\n",
    "sns.countplot(data = cut_sample, x = 'loan', hue = 'y')\n",
    "plt.show()"
   ]
  },
  {
   "cell_type": "markdown",
   "metadata": {},
   "source": [
    "- default\n",
    "    - consider to cut yes data then change to numerical data"
   ]
  },
  {
   "cell_type": "code",
   "execution_count": null,
   "metadata": {},
   "outputs": [],
   "source": [
    "print(df['default'].value_counts())\n",
    "cut_sample = df.loc[df['default'] == 'yes']\n",
    "print(cut_sample['y'].value_counts())\n",
    "sns.countplot(data = cut_sample, x = 'default', hue = 'y')\n",
    "plt.show()"
   ]
  },
  {
   "cell_type": "markdown",
   "metadata": {},
   "source": [
    "- education\n",
    "    - consider to cut illiterate education level"
   ]
  },
  {
   "cell_type": "code",
   "execution_count": null,
   "metadata": {},
   "outputs": [],
   "source": [
    "print(df['education'].value_counts())\n",
    "cut_sample = df.loc[df['education'] == 'illiterate']\n",
    "print(cut_sample['y'].value_counts())\n",
    "sns.countplot(data = cut_sample, x = 'education', hue = 'y')\n",
    "plt.show()"
   ]
  },
  {
   "cell_type": "markdown",
   "metadata": {},
   "source": [
    "- contact\n",
    "    - change to numerical data"
   ]
  },
  {
   "cell_type": "code",
   "execution_count": null,
   "metadata": {},
   "outputs": [],
   "source": [
    "df['contact'].value_counts()"
   ]
  },
  {
   "cell_type": "markdown",
   "metadata": {},
   "source": [
    "##### Summarize categorical outlier\n",
    "- cut unknown from job data\n",
    "- cut unknown from marital data\n",
    "- cut unknown from housing data\n",
    "- cut unknown from loan data\n",
    "- cut yes from default data\n",
    "- cut illiterate from education data\n",
    "- change month categorical to numerical\n",
    "- change default data to numerical\n",
    "- change loan data to numerical\n",
    "- change contact data to numerical\n",
    "- change housing data to numerical\n",
    "- change target data to numerical\n",
    "- group previos data\n",
    "- group pdays data"
   ]
  },
  {
   "cell_type": "markdown",
   "metadata": {},
   "source": [
    "##### Remove outlier"
   ]
  },
  {
   "cell_type": "code",
   "execution_count": null,
   "metadata": {},
   "outputs": [],
   "source": [
    "df = df.loc[df['age'] <= 60]\n",
    "df = df.loc[df['campaign'] <= 20]\n",
    "df = df.loc[df['pdays'] <= 15]\n",
    "df = df.loc[df['job'] != 'unknown']\n",
    "df = df.loc[df['marital'] != 'unknown']\n",
    "df = df.loc[df['housing'] != 'unknown']\n",
    "df = df.loc[df['loan'] != 'unknown']\n",
    "df = df.loc[df['default'] != 'yes']\n",
    "df = df.loc[df['education'] != 'illiterate']\n",
    "df['month'] = df['month'].replace(['jan', 'feb', 'mar', 'apr', 'may', 'jun', 'jul', 'aug', 'sep', 'oct', 'nov', 'dec'], list(range(1,13,1)))\n",
    "df['default'] = df['default'].replace(['no', 'unknown'], [0,1])\n",
    "df['loan'] = df['loan'].replace(['no', 'yes'], [0,1])\n",
    "df['housing'] = df['housing'].replace(['no', 'yes'], [0,1])\n",
    "df['contact'] = df['contact'].replace(['telephone', 'cellular'], [0,1])\n",
    "\n",
    "df['y'] = df['y'].replace(['no', 'yes'], [0, 1])\n",
    "\n",
    "##### group data\n",
    "df['pdays'] = df['pdays'].replace(list(range(16)), ([1]*16))\n",
    "df['pdays'] = df['pdays'].replace([-1], (0))\n",
    "df['previous'] = df['previous'].replace(list(range(1,16,1)), ([1]*15))"
   ]
  },
  {
   "cell_type": "markdown",
   "metadata": {},
   "source": [
    "##### Distribution of numerical data"
   ]
  },
  {
   "cell_type": "code",
   "execution_count": null,
   "metadata": {},
   "outputs": [],
   "source": [
    "cols = df.columns\n",
    "num_data = list(df._get_numeric_data().columns)\n",
    "cat_data = list(set(cols) - set(num_data))\n",
    "\n",
    "plot_num = 1\n",
    "plt.figure(figsize = (15,27))\n",
    "for i in num_data:\n",
    "    ax = plt.subplot(7, 3, plot_num)\n",
    "    sns.histplot(data=df, x=i)\n",
    "    plot_num += 1\n",
    "plt.show()"
   ]
  },
  {
   "cell_type": "markdown",
   "metadata": {},
   "source": [
    "##### Correct skewed data"
   ]
  },
  {
   "cell_type": "code",
   "execution_count": null,
   "metadata": {},
   "outputs": [],
   "source": [
    "quantile_transformer = QuantileTransformer(output_distribution='normal', random_state=1)\n",
    "skewed_data_list = ['age','emp.var.rate', 'cons.price.idx', 'cons.conf.idx', 'euribor3m', 'nr.employed']\n",
    "x = df[skewed_data_list].values\n",
    "X_trans = quantile_transformer.fit_transform(x)\n",
    "df[skewed_data_list] = X_trans\n",
    "\n",
    "plot_num = 1\n",
    "plt.figure(figsize = (15,27))\n",
    "for i in num_data:\n",
    "    ax = plt.subplot(7, 3, plot_num)\n",
    "    sns.histplot(data=df, x=i, kde = True)\n",
    "    plot_num += 1\n",
    "plt.show()"
   ]
  },
  {
   "cell_type": "code",
   "execution_count": null,
   "metadata": {},
   "outputs": [],
   "source": [
    "plot_num = 1\n",
    "plt.figure(figsize = (15,27))\n",
    "for i in cat_data:\n",
    "    ax = plt.subplot(7, 3, plot_num)\n",
    "    sns.countplot(data=df, x=i, hue = 'y')\n",
    "    plot_num += 1\n",
    "plt.show()"
   ]
  },
  {
   "cell_type": "markdown",
   "metadata": {},
   "source": [
    "##### Correlation between numerical data and target\n",
    "- the following list below has a high correlation with the target\n",
    "    - default\n",
    "    - contact\n",
    "    - pdays\n",
    "    - previous\n",
    "    - emp.var.rate\n",
    "    - cons.price.idx\n",
    "    - euribor3m\n",
    "    - nr.employed\n",
    "\n",
    "<br>\n",
    "\n",
    "- the following list below has a low correlation with target\n",
    "    - age\n",
    "    - housing\n",
    "    - loan\n",
    "    - month\n",
    "    - cons.conf.idx\n",
    "    - campaign\n",
    "\n",
    "<br>\n",
    "\n",
    "- the following pair below has a high correlation between feature we devide into 3 range as below\n",
    "\n",
    "    - range 1: correlation 0.7 - 1\n",
    "        - 0.96: emp.var.rate // nr.employed\n",
    "        - 0.85: emp.var.rate // euribor3m\n",
    "        - 0.84: euribor3m // nr.employed\n",
    "\n",
    "        <br>\n",
    "\n",
    "    - range 2: correlation 0.4 - 0.7\n",
    "        - 0.54: contact // cons.price.idx\n",
    "        - 0.47: pdays // previous\n",
    "        - 0.47: emp.var.rate // cons.price.idx\n",
    "        - 0.44: previous // euribor3m\n",
    "        - 0.42: cons.price.idx // euribor3m\n",
    "        \n",
    "        <br>\n",
    "\n",
    "    - range 3: correlation 0.2 - 0.4\n",
    "        - 0.37: previous // nr.employed\n",
    "        - 0.37: previous // emp.var.rate\n",
    "        - 0.34: cons.prive.idx // nr.employed\n",
    "        - 0.33: contact // month\n",
    "        - 0.31: month // cons.conf.idx\n",
    "        - 0.29: pdays // euribor3m\n",
    "        - 0.22: pdays // nr.employed\n",
    "        - 0.21: contact // previous\n",
    "        - 0.20: age // default"
   ]
  },
  {
   "cell_type": "code",
   "execution_count": null,
   "metadata": {},
   "outputs": [],
   "source": [
    "num_df = df[num_data]\n",
    "plt.figure(figsize = (16,9))\n",
    "sns.heatmap(round(df.corr(), 2), annot=True)\n",
    "plt.show()"
   ]
  },
  {
   "cell_type": "markdown",
   "metadata": {},
   "source": [
    "- using ANOVA to verify correlation"
   ]
  },
  {
   "cell_type": "code",
   "execution_count": null,
   "metadata": {},
   "outputs": [],
   "source": [
    "from sklearn.feature_selection import SelectKBest\n",
    "from sklearn.feature_selection import f_classif\n",
    "\n",
    "x = num_df.iloc[:,:-1]\n",
    "y = num_df['y']\n",
    "anova = SelectKBest(f_classif, k=8)\n",
    "x_new = anova.fit(x,y)\n",
    "\n",
    "col = anova.get_support(indices=True)\n",
    "x_new = x.iloc[:,col]\n",
    "x_new.head()"
   ]
  },
  {
   "cell_type": "markdown",
   "metadata": {},
   "source": [
    "- Visualize data that have a high relation to the target\n",
    "    - according to the figure below, it obviously show the separation of the target"
   ]
  },
  {
   "cell_type": "code",
   "execution_count": null,
   "metadata": {},
   "outputs": [],
   "source": [
    "select_value_data = ['emp.var.rate', 'cons.price.idx', 'euribor3m', 'nr.employed']\n",
    "select_count_data = ['default', 'contact', 'pdays', 'previous']\n",
    "\n",
    "plot_num = 1\n",
    "plt.figure(figsize = (15,27))\n",
    "for i in select_value_data:\n",
    "    ax = plt.subplot(7, 3, plot_num)\n",
    "    sns.boxplot(data=df, x='y', y=i)\n",
    "    plot_num += 1\n",
    "plt.show()\n",
    "\n",
    "plot_num = 1\n",
    "plt.figure(figsize = (15,27))\n",
    "for i in select_count_data:\n",
    "    ax = plt.subplot(7, 3, plot_num)\n",
    "    sns.countplot(data=df, x=i, hue='y')\n",
    "    plot_num += 1\n",
    "plt.show()"
   ]
  },
  {
   "cell_type": "markdown",
   "metadata": {},
   "source": [
    "- Visualize data that have a low relation to the target\n",
    "    - according to the figure below the data will distribute on the same level. **This is the reason that support the removal of these data**"
   ]
  },
  {
   "cell_type": "code",
   "execution_count": null,
   "metadata": {},
   "outputs": [],
   "source": [
    "cut_value_data = ['age', 'month', 'cons.conf.idx', 'campaign']\n",
    "cut_count_data = ['housing', 'loan']\n",
    "\n",
    "plot_num = 1\n",
    "plt.figure(figsize = (15,27))\n",
    "for i in cut_value_data:\n",
    "    ax = plt.subplot(7, 3, plot_num)\n",
    "    sns.boxplot(data=df, x='y', y=i)\n",
    "    plot_num += 1\n",
    "plt.show()\n",
    "\n",
    "plot_num = 1\n",
    "plt.figure(figsize = (15,27))\n",
    "for i in cut_count_data:\n",
    "    ax = plt.subplot(7, 3, plot_num)\n",
    "    sns.countplot(data=df, x=i, hue='y')\n",
    "    plot_num += 1\n",
    "plt.show()"
   ]
  },
  {
   "cell_type": "markdown",
   "metadata": {},
   "source": [
    "**loan data seem to be clearly separated but in fact the ratio between target and loan data is the same ratio**"
   ]
  },
  {
   "cell_type": "code",
   "execution_count": null,
   "metadata": {},
   "outputs": [],
   "source": [
    "for i in range(2):\n",
    "    a = df.loc[df['loan'] == i]\n",
    "    count = a['y'].value_counts().values\n",
    "    percent = (count[1]/(count[0] + count[1])) * 100\n",
    "    print(f\"loan = {i}: {percent:0.2f}%\")"
   ]
  },
  {
   "cell_type": "markdown",
   "metadata": {},
   "source": [
    "- Visualize data that have a high relation between feature"
   ]
  },
  {
   "cell_type": "markdown",
   "metadata": {},
   "source": [
    "range 1: correlation 0.7 - 1\n",
    "- all of 3 features below have a high correlation to each other\n",
    "    - emp.var.rate\n",
    "    - nr.employed\n",
    "    - euribor3m\n",
    "<br/>\n",
    "<br>\n",
    "\n",
    "- result\n",
    "    - emp.var.rate and nr.employed values are very close to each other\n",
    "    - select euribor3m feature to keep because it has the most correlation values and it more like normal distribution"
   ]
  },
  {
   "cell_type": "code",
   "execution_count": null,
   "metadata": {},
   "outputs": [],
   "source": [
    "sns.jointplot(data = df, x = 'emp.var.rate', y = 'nr.employed', hue = 'y', height = 4, legend = False)\n",
    "plt.show()\n",
    "##### two data values are very close to each other therefore cut the lower correlation to target feature\n",
    "sns.jointplot(data = df, x = 'emp.var.rate', y = 'euribor3m', hue = 'y', height = 4, legend = False)\n",
    "plt.show()\n",
    "sns.jointplot(data = df, x = 'euribor3m', y = 'nr.employed', hue = 'y', height = 4, legend = False)\n",
    "plt.show()"
   ]
  },
  {
   "cell_type": "markdown",
   "metadata": {},
   "source": [
    "range 2: correlation 0.4 - 0.7\n",
    "- from range 1 we cut feature below\n",
    "    - emp.var.rate\n",
    "    - nr.employed\n",
    "<br/>\n",
    "<br/>\n",
    "\n",
    "- in range 2 will have 4 pair\n",
    "    - contact // cons.price.idx\n",
    "    - pdays // previous\n",
    "    - previous // euribor3m\n",
    "    - cons.price.idx // euribor3m\n",
    "<br/>\n",
    "<br/>\n",
    "\n",
    "- result\n",
    "    - the graph between contact and cons.price.idx was seperate each other but not effect to the target therefore cut cons.price.idx feature because have lower correlation to the target\n",
    "    - the graph between previous and euribor3m seem to be positive to our model we will see the relation of previous, euribor3m and target that separate range of each other\n",
    "    - the graph between cons.price.idx and euribor3m does not obviously show the mathematical function therefore keep both"
   ]
  },
  {
   "cell_type": "code",
   "execution_count": null,
   "metadata": {},
   "outputs": [],
   "source": [
    "sns.boxplot(data = df, x = 'contact', y = 'cons.price.idx', hue = 'y')\n",
    "plt.show()\n",
    "sns.countplot(data = df, x = 'previous', hue = 'pdays')\n",
    "plt.show()\n",
    "sns.boxplot(data = df, x = 'previous', y = 'euribor3m', hue = 'y')\n",
    "plt.show()\n",
    "sns.jointplot(data = df, x = 'cons.price.idx', y = 'euribor3m', hue = 'y')\n",
    "plt.show()"
   ]
  },
  {
   "cell_type": "markdown",
   "metadata": {},
   "source": [
    "range 3: correlation 0.2 - 0.4\n",
    "- from range 1 we cut feature below\n",
    "    - cons.price.idx\n",
    "<br/>\n",
    "<br/>\n",
    "\n",
    "- in range 3 will have 5 pair\n",
    "    - contact // month\n",
    "    - month // cons.conf.idx\n",
    "    - pdays // euribor3m\n",
    "    - contact // previous\n",
    "    - age // default\n",
    "<br/>\n",
    "<br/>\n",
    "\n",
    "- result\n",
    "    - the graph between contact and month separate range from each other but not target so cut month data because have lower correlation to the target\n",
    "    - the graph between age and default separate range from each other but not target so cut age data because have lower correlation to the target\n",
    "    - the graph between pdays and euribor3m seem to be positive to the model and also the graph between contact and previous seem to be positive to the model"
   ]
  },
  {
   "cell_type": "code",
   "execution_count": null,
   "metadata": {},
   "outputs": [],
   "source": [
    "sns.boxplot(data = df, x = 'contact', y = 'month', hue = 'y')\n",
    "plt.show()\n",
    "sns.boxplot(data = df, x = 'month', y = 'cons.conf.idx', hue = 'y')\n",
    "plt.show()\n",
    "sns.boxplot(data = df, x = 'pdays', y = 'euribor3m', hue = 'y')\n",
    "plt.show()\n",
    "sns.boxplot(data = df, x = 'contact', y = 'previous', hue = 'y')\n",
    "plt.show()\n",
    "sns.boxplot(data = df, x = 'default', y = 'age', hue = 'y')\n",
    "plt.show()"
   ]
  },
  {
   "cell_type": "markdown",
   "metadata": {},
   "source": [
    "##### Correlation between categorical data and target \n",
    "- poutcome_nonexistent, poutcome_success and job_student have correlation to target\n",
    "- other feature have few correlation to target so consider to cut all of them out except poutcome_nonexistent, poutcome_success and job_student"
   ]
  },
  {
   "cell_type": "code",
   "execution_count": null,
   "metadata": {},
   "outputs": [],
   "source": [
    "cat_df = df[cat_data]\n",
    "cat_df = pd.get_dummies(cat_df)\n",
    "cat_df['y'] = df['y']\n",
    "plt.figure(figsize = (32,18))\n",
    "sns.heatmap(round(cat_df.corr(),2),annot=True)\n",
    "plt.show()"
   ]
  },
  {
   "cell_type": "markdown",
   "metadata": {},
   "source": [
    "- using chi2 to verify correlation"
   ]
  },
  {
   "cell_type": "code",
   "execution_count": null,
   "metadata": {},
   "outputs": [],
   "source": [
    "from sklearn.feature_selection import SelectKBest\n",
    "from sklearn.feature_selection import chi2\n",
    "\n",
    "x = cat_df.iloc[:,:-1]\n",
    "y = cat_df['y']\n",
    "chi_2 = SelectKBest(chi2, k=3)\n",
    "x_new = chi_2.fit(x,y)\n",
    "\n",
    "col = chi_2.get_support(indices=True)\n",
    "x_new = x.iloc[:,col]\n",
    "x_new.head()"
   ]
  },
  {
   "cell_type": "markdown",
   "metadata": {},
   "source": [
    "##### Plot between categorical data and target\n",
    "according to the heatmap above, we will see a lot of no relation between categorical data and target. **using countplot to verify them**\n",
    "- result\n",
    "    - day_of_week data seem to be useless data\n",
    "    - some feature can group each other"
   ]
  },
  {
   "cell_type": "code",
   "execution_count": null,
   "metadata": {},
   "outputs": [],
   "source": [
    "plot_num = 1\n",
    "plt.figure(figsize = (15,27))\n",
    "for i in cat_data:\n",
    "    ax = plt.subplot(7, 3, plot_num)\n",
    "    sns.countplot(data=df, x=i, hue='y')\n",
    "    plot_num += 1\n",
    "plt.show()"
   ]
  },
  {
   "cell_type": "markdown",
   "metadata": {},
   "source": [
    "**try to group up some categorical feature except poutcome data in the reason that we previous see the correlation to the target**\n",
    "- group education to degree and basic_school\n",
    "- group job to have job and no job\n",
    "- group marital to alone and not alone\n",
    "\n",
    "result\n",
    "- some data is more balanced\n",
    "- correlation to the target is decrease"
   ]
  },
  {
   "cell_type": "code",
   "execution_count": null,
   "metadata": {},
   "outputs": [],
   "source": [
    "cat_df2 = df[cat_data].copy()\n",
    "cat_df2['y'] = df['y']\n",
    "cat_df2 = cat_df2.drop(['day_of_week'],axis=1)\n",
    "##### education\n",
    "degree = ['university.degree', 'professional.course']\n",
    "basic_school = ['high.school', 'basic.9y', 'basic.4y', 'basic.6y', 'unknown']\n",
    "cat_df2['education'] = cat_df2['education'].replace(degree, [1]*len(degree))\n",
    "cat_df2['education'] = cat_df2['education'].replace(basic_school, [0]*len(basic_school))\n",
    "\n",
    "##### job\n",
    "have_job = ['admin.', 'blue-collar', 'technician', 'services', 'management', 'entrepreneur', 'self-employed', 'housemaid']\n",
    "no_job = ['retired', 'unemployed', 'student']\n",
    "cat_df2['job'] = cat_df2['job'].replace(have_job, [1]*len(have_job))\n",
    "cat_df2['job'] = cat_df2['job'].replace(no_job, [0]*len(no_job))\n",
    "\n",
    "##### marital\n",
    "alone = ['single', 'divorced']\n",
    "not_alone = ['married']\n",
    "cat_df2['marital'] = cat_df2['marital'].replace(not_alone, [1]*len(not_alone))\n",
    "cat_df2['marital'] = cat_df2['marital'].replace(alone, [0]*len(alone))\n"
   ]
  },
  {
   "cell_type": "code",
   "execution_count": null,
   "metadata": {},
   "outputs": [],
   "source": [
    "cat_df2_cols = cat_df2.columns\n",
    "plot_num = 1\n",
    "plt.figure(figsize = (15,27))\n",
    "for i in cat_df2_cols:\n",
    "    ax = plt.subplot(7, 3, plot_num)\n",
    "    sns.countplot(data=cat_df2, x=i, hue='y')\n",
    "    plot_num += 1\n",
    "plt.show()\n",
    "\n",
    "plt.figure(figsize = (5,4))\n",
    "sns.heatmap(round(cat_df2.corr(), 2), annot=True)\n",
    "plt.show()"
   ]
  },
  {
   "cell_type": "markdown",
   "metadata": {},
   "source": [
    "##### Plot between categorical data and categorical data"
   ]
  },
  {
   "cell_type": "markdown",
   "metadata": {},
   "source": [
    "- non-group categorical data\n",
    "    - see nothing seems to benefit for model"
   ]
  },
  {
   "cell_type": "code",
   "execution_count": null,
   "metadata": {},
   "outputs": [],
   "source": [
    "plot_num = 1\n",
    "plt.figure(figsize = (30,27))\n",
    "for i in cat_data:\n",
    "    for j in cat_data:\n",
    "        ax = plt.subplot(5, 5, plot_num)\n",
    "        sns.countplot(data=df, x=i, hue=j)\n",
    "        plot_num += 1\n",
    "plt.show()"
   ]
  },
  {
   "cell_type": "markdown",
   "metadata": {},
   "source": [
    "- group categorical data\n",
    "    - seem to be better than non-group categorical data especially the graph between target and education"
   ]
  },
  {
   "cell_type": "code",
   "execution_count": null,
   "metadata": {},
   "outputs": [],
   "source": [
    "plot_num = 1\n",
    "plt.figure(figsize = (30,27))\n",
    "for i in cat_df2_cols:\n",
    "    for j in cat_df2_cols:\n",
    "        ax = plt.subplot(5, 5, plot_num)\n",
    "        sns.countplot(data=cat_df2, x=i, hue=j)\n",
    "        plot_num += 1\n",
    "plt.show()"
   ]
  },
  {
   "cell_type": "markdown",
   "metadata": {},
   "source": [
    "##### Plot between categorical data and numerical data"
   ]
  },
  {
   "cell_type": "markdown",
   "metadata": {},
   "source": [
    "- non-group categorical data\n",
    "    - previous and euribor3m\n",
    "    - pdays and euribor3m\n",
    "    - poutcome and euribor3m\n",
    "\n",
    "**the pair above have a relation to the target and we realize that euribor3m data is significant to target**"
   ]
  },
  {
   "cell_type": "code",
   "execution_count": null,
   "metadata": {},
   "outputs": [],
   "source": [
    "cols = df.columns\n",
    "num_data = [ i for i in cols if (len(df[i].unique()) != 2 and df[i].dtype != 'object')]\n",
    "cat_data = list(set(cols) - set(num_data))\n",
    "cat_data.remove('y')\n",
    "plot_num = 1\n",
    "plt.figure(figsize = (48,60))\n",
    "for i in cat_data:\n",
    "    for j in num_data:\n",
    "        ax = plt.subplot(15, 8, plot_num)\n",
    "        sns.boxplot(data=df, x=i, y=j , hue='y')\n",
    "        plot_num += 1\n",
    "plt.show()"
   ]
  },
  {
   "cell_type": "markdown",
   "metadata": {},
   "source": [
    "- group categorical data\n",
    "\n",
    "the result is the same as non-group in this reason <span style=\"color:red\">**we will use group dataframe to reduce the dimension**</span>"
   ]
  },
  {
   "cell_type": "code",
   "execution_count": null,
   "metadata": {},
   "outputs": [],
   "source": [
    "group_df = df.copy()\n",
    "group_df[cat_df2_cols] = cat_df2[cat_df2_cols]\n",
    "plot_num = 1\n",
    "plt.figure(figsize = (48,60))\n",
    "for i in cat_data:\n",
    "    for j in num_data:\n",
    "        ax = plt.subplot(15, 8, plot_num)\n",
    "        sns.boxplot(data=group_df, x=i, y=j , hue='y')\n",
    "        plot_num += 1\n",
    "plt.show()"
   ]
  },
  {
   "cell_type": "markdown",
   "metadata": {},
   "source": [
    "### Data Preprocessing\n"
   ]
  },
  {
   "cell_type": "code",
   "execution_count": 7,
   "metadata": {},
   "outputs": [],
   "source": [
    "import pandas as pd\n",
    "import seaborn as sns\n",
    "import matplotlib.pyplot as plt\n",
    "import numpy as np\n",
    "import itertools\n",
    "from scipy import stats\n",
    "from sklearn.preprocessing import QuantileTransformer, StandardScaler, OneHotEncoder\n",
    "from sklearn.feature_selection import SelectKBest, chi2, f_classif, mutual_info_classif\n",
    "from sklearn.decomposition import PCA\n",
    "from sklearn.model_selection import GridSearchCV, train_test_split\n",
    "from sklearn.pipeline import Pipeline\n",
    "from sklearn.tree import DecisionTreeClassifier\n",
    "from sklearn.neural_network import MLPClassifier\n",
    "from sklearn.neighbors import KNeighborsClassifier\n",
    "from sklearn.compose import ColumnTransformer\n",
    "from sklearn.metrics import ConfusionMatrixDisplay, classification_report, confusion_matrix\n",
    "from sklearn.ensemble import RandomForestClassifier\n",
    "\n",
    "#import tensorflow as tf\n",
    "def removeOutlier(df:pd.DataFrame):\n",
    "    ##### remove outlier\n",
    "    df = df.loc[(df['age'] <= 60) & (df['campaign'] <= 20)]\n",
    "    df['pdays'] = df['pdays'].replace([999], [-1])\n",
    "    df = df.loc[(df['pdays'] <= 15) & \n",
    "                (df['job'] != 'unknown') & \n",
    "                (df['marital'] != 'unknown') & \n",
    "                (df['housing'] != 'unknown') &\n",
    "                (df['loan'] != 'unknown') &\n",
    "                (df['default'] != 'yes') &\n",
    "                (df['education'] != 'illiterat')]\n",
    "    return df\n",
    "\n",
    "def convertNum2Cat(df:pd.DataFrame):\n",
    "    ##### change numerical data to categorical data\n",
    "    df['month'] = df['month'].replace(['jan', 'feb', 'mar', 'apr', 'may', 'jun', 'jul', 'aug', 'sep', 'oct', 'nov', 'dec'], list(range(1,13,1)))\n",
    "    df['default'] = df['default'].replace(['no', 'unknown'], [0,1])\n",
    "    df['loan'] = df['loan'].replace(['no', 'yes'], [0,1])\n",
    "    df['housing'] = df['housing'].replace(['no', 'yes'], [0,1])\n",
    "    df['contact'] = df['contact'].replace(['telephone', 'cellular'], [0,1])\n",
    "\n",
    "    df['y'] = df['y'].replace(['no', 'yes'], [0, 1])\n",
    "    return df\n",
    "    \n",
    "def groupData(pd:pd.DataFrame):\n",
    "    ### group numerical data\n",
    "    ##### pdays\n",
    "    df['pdays'] = df['pdays'].replace(list(range(16)), ([1]*16))\n",
    "    df['pdays'] = df['pdays'].replace([-1], (0))\n",
    "    #### previous\n",
    "    df['previous'] = df['previous'].replace(list(range(1,16,1)), ([1]*15))\n",
    "    ### group categorical data\n",
    "    ###### education\n",
    "    degree = ['university.degree', 'professional.course']\n",
    "    basic_school = ['high.school', 'basic.9y', 'basic.4y', 'basic.6y', 'unknown']\n",
    "    df['education'] = df['education'].replace(degree, [1]*len(degree))\n",
    "    df['education'] = df['education'].replace(basic_school, [0]*len(basic_school))\n",
    "\n",
    "    ##### job\n",
    "    have_job = ['admin.', 'blue-collar', 'technician', 'services', 'management', 'entrepreneur', 'self-employed', 'housemaid']\n",
    "    no_job = ['retired', 'unemployed', 'student']\n",
    "    df['job'] = df['job'].replace(have_job, [1]*len(have_job))\n",
    "    df['job'] = df['job'].replace(no_job, [0]*len(no_job))\n",
    "\n",
    "    ##### marital\n",
    "    alone = ['single', 'divorced']\n",
    "    not_alone = ['married']\n",
    "    df['marital'] = df['marital'].replace(not_alone, [1]*len(not_alone))\n",
    "    df['marital'] = df['marital'].replace(alone, [0]*len(alone))    \n",
    "    return df\n",
    "\n",
    "\n",
    "\n",
    "def correctSkewed(df:pd.DataFrame):\n",
    "    ##### correct skewed data\n",
    "    quantile_transformer = QuantileTransformer(output_distribution='normal', random_state=1)\n",
    "    skewed_data_list = ['age','emp.var.rate', 'cons.price.idx', 'cons.conf.idx', 'euribor3m', 'nr.employed']\n",
    "    x_skew = df[skewed_data_list].values\n",
    "    X_trans = quantile_transformer.fit_transform(x_skew)\n",
    "    df[skewed_data_list] = X_trans\n",
    "    df_x = df.drop(['y'], axis=1)\n",
    "    df_y = df['y']\n",
    "    return df_x, df_y\n",
    "\n",
    "def preprocessData(drop_list):\n",
    "    df = pd.read_csv('bank-additional-full.csv', sep=';')\n",
    "    df = df.drop(['duration'], axis=1)\n",
    "    df = removeOutlier(df)\n",
    "    df = convertNum2Cat(df)\n",
    "    df = groupData(df)\n",
    "    df_x, df_y = correctSkewed(df)\n",
    "    df_x = df_x.drop(drop_list, axis = 1)\n",
    "    df_x = pd.get_dummies(df_x)\n",
    "    x = df_x.values\n",
    "    y = df_y.values\n",
    "    scaler = StandardScaler()\n",
    "    x_scale = scaler.fit_transform(x)\n",
    "    \n",
    "    return x_scale, y"
   ]
  },
  {
   "cell_type": "markdown",
   "metadata": {},
   "source": [
    "### Model Construction and Analysis"
   ]
  },
  {
   "cell_type": "markdown",
   "metadata": {},
   "source": [
    "- decition tree"
   ]
  },
  {
   "cell_type": "code",
   "execution_count": 3,
   "metadata": {},
   "outputs": [],
   "source": [
    "def trainDecisionTree(drop_list):\n",
    "    ##### get x and y data from preprocessing\n",
    "    x, y = preprocessData(drop_list)\n",
    "    ##### Split train and test data\n",
    "    x_train, x_test, y_train, y_test = train_test_split(x, y, test_size = 0.1, random_state = 1)\n",
    "\n",
    "    ##### Declare model and model parameters\n",
    "    model = DecisionTreeClassifier(random_state=1)\n",
    "    parameters = {'criterion':(\"gini\", \"entropy\"),\n",
    "                  'splitter':(\"best\", \"random\")}\n",
    "\n",
    "    ##### Train model with gridsearchCV and split k-fold = 10\n",
    "    clf = GridSearchCV(model, parameters, scoring='f1', verbose=5, return_train_score=True, n_jobs=-1, cv = 10)\n",
    "    clf.fit(x_train, y_train)\n",
    "\n",
    "    ##### Test model, visualize classification report and confusion matrix\n",
    "    \n",
    "    y_pred = clf.predict(x_test)\n",
    "    print(\"Classification report \\n=======================\")\n",
    "    print(classification_report(y_true=y_test, y_pred=y_pred))\n",
    "    print(\"Confusion matrix \\n=======================\")\n",
    "    #print(confusion_matrix(y_true=y_test, y_pred=y_pred))\n",
    "    ConfusionMatrixDisplay.from_predictions(y_test, y_pred)\n",
    "    plt.show()\n",
    "\n",
    "    return clf"
   ]
  },
  {
   "cell_type": "markdown",
   "metadata": {},
   "source": [
    "- Random Forest"
   ]
  },
  {
   "cell_type": "code",
   "execution_count": 4,
   "metadata": {},
   "outputs": [],
   "source": [
    "def trainRandomForest(drop_list):\n",
    "    ##### get x and y data from preprocessing\n",
    "    x, y = preprocessData(drop_list)\n",
    "    ##### Split train and test data\n",
    "    x_train, x_test, y_train, y_test = train_test_split(x, y, test_size = 0.1, random_state = 1)\n",
    "\n",
    "    ##### Declare model and model parameters\n",
    "    model = RandomForestClassifier(random_state=1)\n",
    "    parameters = {'criterion':(\"gini\", \"entropy\"),\n",
    "                  'splitter':(\"best\", \"random\"),\n",
    "                  'n_estimators': [50, 100, 150, 200, 250]}\n",
    "\n",
    "    ##### Train model with gridsearchCV and split k-fold = 10\n",
    "    clf = GridSearchCV(model, parameters, scoring='f1', verbose=5, return_train_score=True, n_jobs=-1, cv = 10)\n",
    "    clf.fit(x_train, y_train)\n",
    "\n",
    "    ##### Test model, visualize classification report and confusion matrix\n",
    "    \n",
    "    y_pred = clf.predict(x_test)\n",
    "    print(\"Classification report \\n=======================\")\n",
    "    print(classification_report(y_true=y_test, y_pred=y_pred))\n",
    "    print(\"Confusion matrix \\n=======================\")\n",
    "    #print(confusion_matrix(y_true=y_test, y_pred=y_pred))\n",
    "    ConfusionMatrixDisplay.from_predictions(y_test, y_pred)\n",
    "    plt.show()\n",
    "\n",
    "    return clf"
   ]
  },
  {
   "cell_type": "markdown",
   "metadata": {},
   "source": [
    "- KNN"
   ]
  },
  {
   "cell_type": "code",
   "execution_count": 5,
   "metadata": {},
   "outputs": [],
   "source": [
    "def trainKNN(drop_list):\n",
    "    ##### get x and y data from preprocessing\n",
    "    x, y = preprocessData(drop_list)\n",
    "    ##### Split train and test data\n",
    "    x_train, x_test, y_train, y_test = train_test_split(x, y, test_size = 0.1, random_state = 1)\n",
    "\n",
    "    ##### Declare model and model parameters\n",
    "    model = KNeighborsClassifier(n_neighbors=5)\n",
    "    parameters = {'algorithm':('auto', 'ball_tree', 'kd_tree', 'brute'),\n",
    "                  'weights': ('uniform', 'distance')}\n",
    "\n",
    "    ##### Train model with gridsearchCV and split k-fold = 10\n",
    "    clf = GridSearchCV(model, parameters, scoring='f1', verbose=5, return_train_score=True, n_jobs=-1, cv = 10)\n",
    "    clf.fit(x_train, y_train)\n",
    "\n",
    "    ##### Test model, visualize classification report and confusion matrix\n",
    "    \n",
    "    y_pred = clf.predict(x_test)\n",
    "    print(\"Classification report \\n=======================\")\n",
    "    print(classification_report(y_true=y_test, y_pred=y_pred))\n",
    "    print(\"Confusion matrix \\n=======================\")\n",
    "    #print(confusion_matrix(y_true=y_test, y_pred=y_pred))\n",
    "    ConfusionMatrixDisplay.from_predictions(y_test, y_pred)\n",
    "    plt.show()\n",
    "\n",
    "    return clf"
   ]
  },
  {
   "cell_type": "markdown",
   "metadata": {},
   "source": [
    "- Neural network\n",
    "<br>\n",
    "hidden_layer_sizes : This parameter allows us to set the number of layers and the number of nodes we wish to have in the Neural Network Classifier. Each element in the tuple represents the number of nodes at the ith position where i is the index of the tuple. Thus the length of tuple denotes the total number of hidden layers in the network."
   ]
  },
  {
   "cell_type": "code",
   "execution_count": 19,
   "metadata": {},
   "outputs": [],
   "source": [
    "def trainNeural(drop_list):\n",
    "    ##### get x and y data from preprocessing\n",
    "    x, y = preprocessData(drop_list)\n",
    "    ##### Split train and test data\n",
    "    x_train, x_test, y_train, y_test = train_test_split(x, y, test_size = 0.1, random_state = 1)\n",
    "    lst = []\n",
    "    for i in range(1,7,1): ##### max 6 layers\n",
    "        comb = itertools.combinations(range(1,9,1), i) ####### max 8 neuron\n",
    "        for val in comb:\n",
    "            lst.append(val)\n",
    "    ##### Declare model and model parameters\n",
    "    model = MLPClassifier(max_iter=10000, random_state=1)\n",
    "    parameters = {'hidden_layer_sizes': lst,\n",
    "                  'activation': ('identity', 'logistic', 'tanh', 'relu'),\n",
    "                  'solver': ('lbfgs', 'sgd', 'adam'),\n",
    "                  'learning_rate': ('constant', 'invscaling', 'adaptive')}\n",
    "\n",
    "    ##### Train model with gridsearchCV and split k-fold = 10\n",
    "    clf = GridSearchCV(model, parameters, scoring='f1', verbose=5, return_train_score=True, n_jobs=-1, cv = 10)\n",
    "    clf.fit(x_train, y_train)\n",
    "\n",
    "    ##### Test model, visualize classification report and confusion matrix\n",
    "    \n",
    "    y_pred = clf.predict(x_test)\n",
    "    print(\"Classification report \\n=======================\")\n",
    "    print(classification_report(y_true=y_test, y_pred=y_pred))\n",
    "    print(\"Confusion matrix \\n=======================\")\n",
    "    #print(confusion_matrix(y_true=y_test, y_pred=y_pred))\n",
    "    ConfusionMatrixDisplay.from_predictions(y_test, y_pred)\n",
    "    plt.show()\n",
    "\n",
    "    return clf"
   ]
  },
  {
   "cell_type": "markdown",
   "metadata": {},
   "source": [
    "##### Group 1"
   ]
  },
  {
   "cell_type": "code",
   "execution_count": 22,
   "metadata": {},
   "outputs": [
    {
     "name": "stderr",
     "output_type": "stream",
     "text": [
      "c:\\Users\\thana\\Desktop\\TheShit\\FRA503\\lib\\site-packages\\ipykernel_launcher.py:22: SettingWithCopyWarning: \n",
      "A value is trying to be set on a copy of a slice from a DataFrame.\n",
      "Try using .loc[row_indexer,col_indexer] = value instead\n",
      "\n",
      "See the caveats in the documentation: https://pandas.pydata.org/pandas-docs/stable/user_guide/indexing.html#returning-a-view-versus-a-copy\n"
     ]
    },
    {
     "name": "stdout",
     "output_type": "stream",
     "text": [
      "Fitting 10 folds for each of 48 candidates, totalling 480 fits\n"
     ]
    }
   ],
   "source": [
    "model1drop_list = []\n",
    "model1 = trainKNN(model1drop_list)"
   ]
  },
  {
   "cell_type": "markdown",
   "metadata": {},
   "source": [
    "### search reduce dim"
   ]
  },
  {
   "cell_type": "code",
   "execution_count": 1,
   "metadata": {},
   "outputs": [
    {
     "name": "stdout",
     "output_type": "stream",
     "text": [
      "7\n",
      "12\n"
     ]
    }
   ],
   "source": [
    "import pandas as pd\n",
    "import seaborn as sns\n",
    "import matplotlib.pyplot as plt\n",
    "import numpy as np\n",
    "from scipy import stats\n",
    "from sklearn.preprocessing import QuantileTransformer, StandardScaler, OneHotEncoder\n",
    "from sklearn.feature_selection import SelectKBest, chi2, f_classif, mutual_info_classif\n",
    "from sklearn.decomposition import PCA\n",
    "from sklearn.model_selection import GridSearchCV, train_test_split\n",
    "from sklearn.pipeline import Pipeline\n",
    "from sklearn.tree import DecisionTreeClassifier\n",
    "from sklearn.neural_network import MLPClassifier\n",
    "from sklearn.neighbors import KNeighborsClassifier\n",
    "from sklearn.compose import ColumnTransformer\n",
    "from sklearn.metrics import ConfusionMatrixDisplay, classification_report, confusion_matrix\n",
    "from sklearn.ensemble import RandomForestClassifier\n",
    "\n",
    "#import tensorflow as tf\n",
    "\n",
    "##### correct skewed data\n",
    "df = pd.read_csv('bank-additional-full.csv', sep=';')\n",
    "df = df.drop(['duration'], axis=1)\n",
    "df = df.loc[df['age'] <= 60]\n",
    "df = df.loc[df['campaign'] <= 20]\n",
    "df['pdays'] = df['pdays'].replace([999], [-1])\n",
    "df = df.loc[df['pdays'] <= 15]\n",
    "df = df.loc[df['job'] != 'unknown']\n",
    "df = df.loc[df['marital'] != 'unknown']\n",
    "df = df.loc[df['housing'] != 'unknown']\n",
    "df = df.loc[df['loan'] != 'unknown']\n",
    "df = df.loc[df['default'] != 'yes']\n",
    "df = df.loc[df['education'] != 'illiterat']\n",
    "\n",
    "df['y'] = df['y'].replace(['no', 'yes'], [0, 1])\n",
    "\n",
    "### group numerical data\n",
    "##### pdays\n",
    "df['pdays'] = df['pdays'].replace(list(range(16)), (['yes']*16))\n",
    "df['pdays'] = df['pdays'].replace([-1], ('no'))\n",
    "#### previous\n",
    "df['previous'] = df['previous'].replace(list(range(1,16,1)), (['yes']*15))\n",
    "df['previous'] = df['previous'].replace([0], ['no'])\n",
    "\n",
    "### group categorical data\n",
    "###### education\n",
    "degree = ['university.degree', 'professional.course']\n",
    "basic_school = ['high.school', 'basic.9y', 'basic.4y', 'basic.6y', 'unknown']\n",
    "df['education'] = df['education'].replace(degree, ['yes']*len(degree))\n",
    "df['education'] = df['education'].replace(basic_school, ['no']*len(basic_school))\n",
    "\n",
    "##### job\n",
    "have_job = ['admin.', 'blue-collar', 'technician', 'services', 'management', 'entrepreneur', 'self-employed', 'housemaid']\n",
    "no_job = ['retired', 'unemployed', 'student']\n",
    "df['job'] = df['job'].replace(have_job, ['yes']*len(have_job))\n",
    "df['job'] = df['job'].replace(no_job, ['no']*len(no_job))\n",
    "\n",
    "##### marital\n",
    "alone = ['single', 'divorced']\n",
    "not_alone = ['married']\n",
    "df['marital'] = df['marital'].replace(not_alone, ['yes']*len(not_alone))\n",
    "df['marital'] = df['marital'].replace(alone, ['no']*len(alone))\n",
    "\n",
    "##### correct skewed data\n",
    "quantile_transformer = QuantileTransformer(output_distribution='normal', random_state=1)\n",
    "skewed_data_list = ['age','emp.var.rate', 'cons.price.idx', 'cons.conf.idx', 'euribor3m', 'nr.employed']\n",
    "x_skew = df[skewed_data_list].values\n",
    "X_trans = quantile_transformer.fit_transform(x_skew)\n",
    "df[skewed_data_list] = X_trans\n",
    "\n",
    "x = df.drop(['y'], axis=1)\n",
    "y = df['y']\n",
    "\n",
    "cols = x.columns\n",
    "num_data = [i for i in cols if (len(x[i].unique()) != 2 and x[i].dtype != 'object')]\n",
    "cat_data = list(set(cols) - set(num_data))\n",
    "\n",
    "num_data = pd.Index(num_data)\n",
    "cat_data = pd.Index(cat_data)\n",
    "\n",
    "x_train,x_test,y_train,y_test = train_test_split(x, y, test_size = 0.1, random_state = 1)\n",
    "print(len(num_data))\n",
    "print(len(cat_data))\n"
   ]
  },
  {
   "cell_type": "code",
   "execution_count": null,
   "metadata": {},
   "outputs": [],
   "source": [
    "k_chi2 = SelectKBest(chi2)\n",
    "k_mutal = SelectKBest(mutual_info_classif)\n",
    "k_anova = SelectKBest()\n",
    "model_DecisionTree = DecisionTreeClassifier(random_state=1)\n",
    "number_num_feature = list(range(1, 8, 1))\n",
    "number_cat_feature = list(range(1, 13, 1))\n",
    "criterion = [\"gini\", \"entropy\"]\n",
    "splitter = [\"best\", \"random\"]\n",
    "\n",
    "num_tran = Pipeline(steps=[(\"reduce_num_dim\", \"passthrough\"), (\"scaler\", StandardScaler())])\n",
    "cat_tran = Pipeline([(\"one_hot\", OneHotEncoder()), (\"reduce_cat_dim\", \"passthrough\")])\n",
    "preprocessor = ColumnTransformer(\n",
    "    transformers=[\n",
    "        (\"num\", num_tran, num_data),\n",
    "        (\"cat\", cat_tran, cat_data),\n",
    "    ]\n",
    ")\n",
    "pipe = Pipeline(\n",
    "    [\n",
    "        (\"preprocessor\", preprocessor),\n",
    "        (\"classify\", model_DecisionTree),\n",
    "    ]\n",
    ")\n",
    "\n",
    "param_grid = [\n",
    "    {\n",
    "        \"preprocessor__num__reduce_num_dim\" : [k_mutal, k_anova],\n",
    "        \"preprocessor__num__reduce_num_dim__k\" : number_num_feature,\n",
    "        \"preprocessor__cat__reduce_cat_dim\" : [k_chi2],\n",
    "        \"preprocessor__cat__reduce_cat_dim__k\" : number_cat_feature,\n",
    "        \"classify__criterion\" : criterion,\n",
    "        \"classify__splitter\" : splitter,\n",
    "    },\n",
    "    {\n",
    "        \"preprocessor__num__reduce_num_dim\" : [PCA()],\n",
    "        \"preprocessor__num__reduce_num_dim__n_components\" : number_num_feature,\n",
    "        \"preprocessor__cat__reduce_cat_dim\" : [k_chi2],\n",
    "        \"preprocessor__cat__reduce_cat_dim__k\" : number_cat_feature,\n",
    "        \"classify__criterion\" : criterion,\n",
    "        \"classify__splitter\" : splitter,\n",
    "    }\n",
    "]\n",
    "\n",
    "grid = GridSearchCV(pipe, n_jobs = -1, param_grid = param_grid, scoring = 'f1', verbose = 5, cv = 10)\n",
    "grid.fit(x_train, y_train)"
   ]
  },
  {
   "cell_type": "code",
   "execution_count": null,
   "metadata": {},
   "outputs": [],
   "source": [
    "print(grid.best_params_)\n",
    "y_pred = grid.predict(x_test)\n",
    "print(\"Classification report \\n=======================\")\n",
    "print(classification_report(y_true=y_test, y_pred=y_pred))\n",
    "print(\"Confusion matrix \\n=======================\")\n",
    "#print(confusion_matrix(y_true=y_test, y_pred=y_pred))\n",
    "ConfusionMatrixDisplay.from_predictions(y_test, y_pred)\n",
    "plt.show()\n"
   ]
  },
  {
   "cell_type": "code",
   "execution_count": 2,
   "metadata": {},
   "outputs": [
    {
     "name": "stdout",
     "output_type": "stream",
     "text": [
      "Fitting 10 folds for each of 1680 candidates, totalling 16800 fits\n"
     ]
    },
    {
     "data": {
      "text/plain": [
       "GridSearchCV(cv=10,\n",
       "             estimator=Pipeline(steps=[('preprocessor',\n",
       "                                        ColumnTransformer(transformers=[('num',\n",
       "                                                                         Pipeline(steps=[('reduce_num_dim',\n",
       "                                                                                          'passthrough'),\n",
       "                                                                                         ('scaler',\n",
       "                                                                                          StandardScaler())]),\n",
       "                                                                         Index(['age', 'campaign', 'emp.var.rate', 'cons.price.idx', 'cons.conf.idx',\n",
       "       'euribor3m', 'nr.employed'],\n",
       "      dtype='object')),\n",
       "                                                                        ('cat',\n",
       "                                                                         Pipeline(steps=[('one_hot',\n",
       "                                                                                          OneHotEncoder()),\n",
       "                                                                                         ('re...\n",
       "                          'preprocessor__cat__reduce_cat_dim': [SelectKBest(k=12,\n",
       "                                                                            score_func=<function chi2 at 0x00000208B3DDFC18>)],\n",
       "                          'preprocessor__cat__reduce_cat_dim__k': [1, 2, 3, 4,\n",
       "                                                                   5, 6, 7, 8,\n",
       "                                                                   9, 10, 11,\n",
       "                                                                   12],\n",
       "                          'preprocessor__num__reduce_num_dim': [SelectKBest(k=6,\n",
       "                                                                            score_func=<function mutual_info_classif at 0x00000208B413DC18>),\n",
       "                                                                SelectKBest()],\n",
       "                          'preprocessor__num__reduce_num_dim__k': [1, 2, 3, 4,\n",
       "                                                                   5, 6, 7]}],\n",
       "             scoring='f1', verbose=5)"
      ]
     },
     "execution_count": 2,
     "metadata": {},
     "output_type": "execute_result"
    }
   ],
   "source": [
    "k_chi2 = SelectKBest(chi2)\n",
    "k_mutal = SelectKBest(mutual_info_classif)\n",
    "k_anova = SelectKBest()\n",
    "model = RandomForestClassifier(random_state=1)\n",
    "number_num_feature = list(range(1, 8, 1))\n",
    "number_cat_feature = list(range(1, 13, 1))\n",
    "criterion = [\"gini\", \"entropy\"]\n",
    "splitter = [\"best\", \"random\"]\n",
    "n_estimators = [50, 100, 150, 200, 250]\n",
    "\n",
    "num_tran = Pipeline(steps=[(\"reduce_num_dim\", \"passthrough\"), (\"scaler\", StandardScaler())])\n",
    "cat_tran = Pipeline([(\"one_hot\", OneHotEncoder()), (\"reduce_cat_dim\", \"passthrough\")])\n",
    "preprocessor = ColumnTransformer(\n",
    "    transformers=[\n",
    "        (\"num\", num_tran, num_data),\n",
    "        (\"cat\", cat_tran, cat_data),\n",
    "    ]\n",
    ")\n",
    "pipe = Pipeline(\n",
    "    [\n",
    "        (\"preprocessor\", preprocessor),\n",
    "        (\"classify\", model),\n",
    "    ]\n",
    ")\n",
    "\n",
    "param_grid = [\n",
    "    {\n",
    "        \"preprocessor__num__reduce_num_dim\" : [k_mutal, k_anova],\n",
    "        \"preprocessor__num__reduce_num_dim__k\" : number_num_feature,\n",
    "        \"preprocessor__cat__reduce_cat_dim\" : [k_chi2],\n",
    "        \"preprocessor__cat__reduce_cat_dim__k\" : number_cat_feature,\n",
    "        \"classify__criterion\" : criterion,\n",
    "        \"classify__n_estimators\" : n_estimators\n",
    "    },\n",
    "    #{\n",
    "    #    \"preprocessor__num__reduce_num_dim\" : [PCA()],\n",
    "    #    \"preprocessor__num__reduce_num_dim__n_components\" : number_num_feature,\n",
    "    #    \"preprocessor__cat__reduce_cat_dim\" : [k_chi2],\n",
    "    #    \"preprocessor__cat__reduce_cat_dim__k\" : number_cat_feature,\n",
    "    #    \"classify__criterion\" : criterion,\n",
    "    #    \"classify__n_estimators\" : n_estimators\n",
    "    #}\n",
    "]\n",
    "\n",
    "grid = GridSearchCV(pipe, n_jobs = -1, param_grid = param_grid, scoring = 'f1', verbose = 5, cv = 10)\n",
    "grid.fit(x_train, y_train)"
   ]
  },
  {
   "cell_type": "code",
   "execution_count": 3,
   "metadata": {},
   "outputs": [
    {
     "name": "stdout",
     "output_type": "stream",
     "text": [
      "{'classify__criterion': 'gini', 'classify__n_estimators': 100, 'preprocessor__cat__reduce_cat_dim': SelectKBest(k=12, score_func=<function chi2 at 0x00000208B3DDFC18>), 'preprocessor__cat__reduce_cat_dim__k': 12, 'preprocessor__num__reduce_num_dim': SelectKBest(k=6,\n",
      "            score_func=<function mutual_info_classif at 0x00000208B413DC18>), 'preprocessor__num__reduce_num_dim__k': 6}\n",
      "Classification report \n",
      "=======================\n",
      "              precision    recall  f1-score   support\n",
      "\n",
      "           0       0.92      0.96      0.94      3465\n",
      "           1       0.46      0.27      0.34       410\n",
      "\n",
      "    accuracy                           0.89      3875\n",
      "   macro avg       0.69      0.62      0.64      3875\n",
      "weighted avg       0.87      0.89      0.88      3875\n",
      "\n",
      "Confusion matrix \n",
      "=======================\n"
     ]
    },
    {
     "data": {
      "image/png": "[encoded data removed]",
      "text/plain": [
       "<Figure size 640x480 with 2 Axes>"
      ]
     },
     "metadata": {},
     "output_type": "display_data"
    }
   ],
   "source": [
    "print(grid.best_params_)\n",
    "y_pred = grid.predict(x_test)\n",
    "print(\"Classification report \\n=======================\")\n",
    "print(classification_report(y_true=y_test, y_pred=y_pred))\n",
    "print(\"Confusion matrix \\n=======================\")\n",
    "#print(confusion_matrix(y_true=y_test, y_pred=y_pred))\n",
    "ConfusionMatrixDisplay.from_predictions(y_test, y_pred)\n",
    "plt.show()\n"
   ]
  },
  {
   "cell_type": "code",
   "execution_count": 4,
   "metadata": {},
   "outputs": [
    {
     "name": "stdout",
     "output_type": "stream",
     "text": [
      "7\n",
      "12\n"
     ]
    }
   ],
   "source": [
    "import pandas as pd\n",
    "import seaborn as sns\n",
    "import matplotlib.pyplot as plt\n",
    "import numpy as np\n",
    "from scipy import stats\n",
    "from sklearn.preprocessing import QuantileTransformer, StandardScaler, OneHotEncoder\n",
    "from sklearn.feature_selection import SelectKBest, chi2, f_classif, mutual_info_classif\n",
    "from sklearn.decomposition import PCA\n",
    "from sklearn.model_selection import GridSearchCV, train_test_split\n",
    "from sklearn.pipeline import Pipeline\n",
    "from sklearn.tree import DecisionTreeClassifier\n",
    "from sklearn.neural_network import MLPClassifier\n",
    "from sklearn.neighbors import KNeighborsClassifier\n",
    "from sklearn.compose import ColumnTransformer\n",
    "from sklearn.metrics import ConfusionMatrixDisplay, classification_report, confusion_matrix\n",
    "from sklearn.ensemble import RandomForestClassifier\n",
    "\n",
    "#import tensorflow as tf\n",
    "\n",
    "##### correct skewed data\n",
    "df = pd.read_csv('bank-additional-full.csv', sep=';')\n",
    "df = df.drop(['duration'], axis=1)\n",
    "df = df.loc[df['age'] <= 60]\n",
    "df = df.loc[df['campaign'] <= 20]\n",
    "df['pdays'] = df['pdays'].replace([999], [-1])\n",
    "df = df.loc[df['pdays'] <= 15]\n",
    "df = df.loc[df['job'] != 'unknown']\n",
    "df = df.loc[df['marital'] != 'unknown']\n",
    "df = df.loc[df['housing'] != 'unknown']\n",
    "df = df.loc[df['loan'] != 'unknown']\n",
    "df = df.loc[df['default'] != 'yes']\n",
    "df = df.loc[df['education'] != 'illiterat']\n",
    "\n",
    "df['y'] = df['y'].replace(['no', 'yes'], [0, 1])\n",
    "\n",
    "### group numerical data\n",
    "##### pdays\n",
    "df['pdays'] = df['pdays'].replace(list(range(16)), (['yes']*16))\n",
    "df['pdays'] = df['pdays'].replace([-1], ('no'))\n",
    "#### previous\n",
    "df['previous'] = df['previous'].replace(list(range(1,16,1)), (['yes']*15))\n",
    "df['previous'] = df['previous'].replace([0], ['no'])\n",
    "\n",
    "### group categorical data\n",
    "###### education\n",
    "degree = ['university.degree', 'professional.course']\n",
    "basic_school = ['high.school', 'basic.9y', 'basic.4y', 'basic.6y', 'unknown']\n",
    "df['education'] = df['education'].replace(degree, ['yes']*len(degree))\n",
    "df['education'] = df['education'].replace(basic_school, ['no']*len(basic_school))\n",
    "\n",
    "##### job\n",
    "have_job = ['admin.', 'blue-collar', 'technician', 'services', 'management', 'entrepreneur', 'self-employed', 'housemaid']\n",
    "no_job = ['retired', 'unemployed', 'student']\n",
    "df['job'] = df['job'].replace(have_job, ['yes']*len(have_job))\n",
    "df['job'] = df['job'].replace(no_job, ['no']*len(no_job))\n",
    "\n",
    "##### marital\n",
    "alone = ['single', 'divorced']\n",
    "not_alone = ['married']\n",
    "df['marital'] = df['marital'].replace(not_alone, ['yes']*len(not_alone))\n",
    "df['marital'] = df['marital'].replace(alone, ['no']*len(alone))\n",
    "\n",
    "##### correct skewed data\n",
    "quantile_transformer = QuantileTransformer(output_distribution='normal', random_state=1)\n",
    "skewed_data_list = ['age','emp.var.rate', 'cons.price.idx', 'cons.conf.idx', 'euribor3m', 'nr.employed']\n",
    "x_skew = df[skewed_data_list].values\n",
    "X_trans = quantile_transformer.fit_transform(x_skew)\n",
    "df[skewed_data_list] = X_trans\n",
    "\n",
    "x = df.drop(['y'], axis=1)\n",
    "y = df['y']\n",
    "\n",
    "cols = x.columns\n",
    "num_data = [i for i in cols if (len(x[i].unique()) != 2 and x[i].dtype != 'object')]\n",
    "cat_data = list(set(cols) - set(num_data))\n",
    "\n",
    "num_data = pd.Index(num_data)\n",
    "cat_data = pd.Index(cat_data)\n",
    "\n",
    "x_train,x_test,y_train,y_test = train_test_split(x, y, test_size = 0.1, random_state = 1)\n",
    "print(len(num_data))\n",
    "print(len(cat_data))\n"
   ]
  },
  {
   "cell_type": "code",
   "execution_count": 5,
   "metadata": {},
   "outputs": [
    {
     "name": "stdout",
     "output_type": "stream",
     "text": [
      "Fitting 10 folds for each of 672 candidates, totalling 6720 fits\n"
     ]
    },
    {
     "data": {
      "text/plain": [
       "GridSearchCV(cv=10,\n",
       "             estimator=Pipeline(steps=[('preprocessor',\n",
       "                                        ColumnTransformer(transformers=[('num',\n",
       "                                                                         Pipeline(steps=[('reduce_num_dim',\n",
       "                                                                                          'passthrough'),\n",
       "                                                                                         ('scaler',\n",
       "                                                                                          StandardScaler())]),\n",
       "                                                                         Index(['age', 'campaign', 'emp.var.rate', 'cons.price.idx', 'cons.conf.idx',\n",
       "       'euribor3m', 'nr.employed'],\n",
       "      dtype='object')),\n",
       "                                                                        ('cat',\n",
       "                                                                         Pipeline(steps=[('one_hot',\n",
       "                                                                                          OneHotEncoder()),\n",
       "                                                                                         ('re...\n",
       "                          'preprocessor__cat__reduce_cat_dim': [SelectKBest(k=8,\n",
       "                                                                            score_func=<function chi2 at 0x00000208B3DDFC18>)],\n",
       "                          'preprocessor__cat__reduce_cat_dim__k': [1, 2, 3, 4,\n",
       "                                                                   5, 6, 7, 8,\n",
       "                                                                   9, 10, 11,\n",
       "                                                                   12],\n",
       "                          'preprocessor__num__reduce_num_dim': [SelectKBest(k=6,\n",
       "                                                                            score_func=<function mutual_info_classif at 0x00000208B413DC18>),\n",
       "                                                                SelectKBest()],\n",
       "                          'preprocessor__num__reduce_num_dim__k': [1, 2, 3, 4,\n",
       "                                                                   5, 6, 7]}],\n",
       "             scoring='f1', verbose=5)"
      ]
     },
     "execution_count": 5,
     "metadata": {},
     "output_type": "execute_result"
    }
   ],
   "source": [
    "k_chi2 = SelectKBest(chi2)\n",
    "k_mutal = SelectKBest(mutual_info_classif)\n",
    "k_anova = SelectKBest()\n",
    "model_DecisionTree = DecisionTreeClassifier(random_state=1)\n",
    "number_num_feature = list(range(1, 8, 1))\n",
    "number_cat_feature = list(range(1, 13, 1))\n",
    "criterion = [\"gini\", \"entropy\"]\n",
    "splitter = [\"best\", \"random\"]\n",
    "\n",
    "num_tran = Pipeline(steps=[(\"reduce_num_dim\", \"passthrough\"), (\"scaler\", StandardScaler())])\n",
    "cat_tran = Pipeline([(\"one_hot\", OneHotEncoder()), (\"reduce_cat_dim\", \"passthrough\")])\n",
    "preprocessor = ColumnTransformer(\n",
    "    transformers=[\n",
    "        (\"num\", num_tran, num_data),\n",
    "        (\"cat\", cat_tran, cat_data),\n",
    "    ]\n",
    ")\n",
    "pipe = Pipeline(\n",
    "    [\n",
    "        (\"preprocessor\", preprocessor),\n",
    "        (\"classify\", model_DecisionTree),\n",
    "    ]\n",
    ")\n",
    "\n",
    "param_grid = [\n",
    "    {\n",
    "        \"preprocessor__num__reduce_num_dim\" : [k_mutal, k_anova],\n",
    "        \"preprocessor__num__reduce_num_dim__k\" : number_num_feature,\n",
    "        \"preprocessor__cat__reduce_cat_dim\" : [k_chi2],\n",
    "        \"preprocessor__cat__reduce_cat_dim__k\" : number_cat_feature,\n",
    "        \"classify__criterion\" : criterion,\n",
    "        \"classify__splitter\" : splitter,\n",
    "    }\n",
    "]\n",
    "\n",
    "grid = GridSearchCV(pipe, n_jobs = -1, param_grid = param_grid, scoring = 'f1', verbose = 5, cv = 10)\n",
    "grid.fit(x_train, y_train)"
   ]
  },
  {
   "cell_type": "code",
   "execution_count": 6,
   "metadata": {},
   "outputs": [
    {
     "name": "stdout",
     "output_type": "stream",
     "text": [
      "{'classify__criterion': 'entropy', 'classify__splitter': 'best', 'preprocessor__cat__reduce_cat_dim': SelectKBest(k=8, score_func=<function chi2 at 0x00000208B3DDFC18>), 'preprocessor__cat__reduce_cat_dim__k': 8, 'preprocessor__num__reduce_num_dim': SelectKBest(k=6,\n",
      "            score_func=<function mutual_info_classif at 0x00000208B413DC18>), 'preprocessor__num__reduce_num_dim__k': 6}\n",
      "Classification report \n",
      "=======================\n",
      "              precision    recall  f1-score   support\n",
      "\n",
      "           0       0.92      0.96      0.94      3465\n",
      "           1       0.45      0.25      0.32       410\n",
      "\n",
      "    accuracy                           0.89      3875\n",
      "   macro avg       0.68      0.61      0.63      3875\n",
      "weighted avg       0.87      0.89      0.87      3875\n",
      "\n",
      "Confusion matrix \n",
      "=======================\n"
     ]
    },
    {
     "data": {
      "image/png": "[encoded data removed]",
      "text/plain": [
       "<Figure size 640x480 with 2 Axes>"
      ]
     },
     "metadata": {},
     "output_type": "display_data"
    }
   ],
   "source": [
    "print(grid.best_params_)\n",
    "y_pred = grid.predict(x_test)\n",
    "print(\"Classification report \\n=======================\")\n",
    "print(classification_report(y_true=y_test, y_pred=y_pred))\n",
    "print(\"Confusion matrix \\n=======================\")\n",
    "#print(confusion_matrix(y_true=y_test, y_pred=y_pred))\n",
    "ConfusionMatrixDisplay.from_predictions(y_test, y_pred)\n",
    "plt.show()\n"
   ]
  },
  {
   "cell_type": "code",
   "execution_count": null,
   "metadata": {},
   "outputs": [],
   "source": []
  }
 ],
 "metadata": {
  "kernelspec": {
   "display_name": "Python 3.7.9 ('FRA503': venv)",
   "language": "python",
   "name": "python3"
  },
  "language_info": {
   "codemirror_mode": {
    "name": "ipython",
    "version": 3
   },
   "file_extension": ".py",
   "mimetype": "text/x-python",
   "name": "python",
   "nbconvert_exporter": "python",
   "pygments_lexer": "ipython3",
   "version": "3.7.9"
  },
  "orig_nbformat": 4,
  "vscode": {
   "interpreter": {
    "hash": "64dadede5b611bea0003f916b3ffa8d6ffd0cb12e9e46b2f5e54ff5aa5c7df92"
   }
  }
 },
 "nbformat": 4,
 "nbformat_minor": 2
}
