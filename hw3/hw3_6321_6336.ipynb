{
 "cells": [
  {
   "cell_type": "markdown",
   "metadata": {},
   "source": [
    "### Provide by\n",
    "\n",
    "นายธนชาติ เสถียรจารุการ 63340500021 <br>\n",
    "\n",
    "นายพชพล เพชรรัตน์ 63340500036"
   ]
  },
  {
   "cell_type": "code",
   "execution_count": null,
   "metadata": {},
   "outputs": [],
   "source": [
    "import pandas as pd\n",
    "import seaborn as sns\n",
    "import matplotlib.pyplot as plt\n",
    "import numpy as np\n",
    "from sklearn.utils import resample\n",
    "from sklearn.preprocessing import QuantileTransformer\n",
    "import math\n",
    "\n",
    "RandomState = 1\n",
    "df = pd.read_csv('credit_card_churn.csv')\n",
    "df = df.drop(['Naive_Bayes_Classifier_Attrition_Flag_Card_Category_Contacts_Count_12_mon_Dependent_count_Education_Level_Months_Inactive_12_mon_1', 'Naive_Bayes_Classifier_Attrition_Flag_Card_Category_Contacts_Count_12_mon_Dependent_count_Education_Level_Months_Inactive_12_mon_2', 'CLIENTNUM'], axis=1)\n",
    "df = df.rename(columns={'Attrition_Flag': 'y',\n",
    "                         'Customer_Age': 'age',\n",
    "                         'Gender': 'gender',\n",
    "                         'Dependent_count': 'dependency',\n",
    "                         'Education_Level': 'education',\n",
    "                         'Marital_Status': 'marital',\n",
    "                         'Income_Category': 'income',\n",
    "                         'Card_Category': 'card',\n",
    "                         'Months_on_book': 'book_period',\n",
    "                         'Total_Relationship_Count': 'total_product',\n",
    "                         'Months_Inactive_12_mon': 'month_inactive',\n",
    "                         'Contacts_Count_12_mon': 'contact_num',\n",
    "                         'Credit_Limit': 'credit_limit',\n",
    "                         'Total_Revolving_Bal': 'revolving_balance',\n",
    "                         'Avg_Open_To_Buy': 'open2buy',\n",
    "                         'Total_Amt_Chng_Q4_Q1': 'transaction_change',\n",
    "                         'Total_Trans_Amt': 'transaction_amount',\n",
    "                         'Total_Trans_Ct': 'transaction_count',\n",
    "                         'Total_Ct_Chng_Q4_Q1': 'transaction_count_change',\n",
    "                         'Avg_Utilization_Ratio': 'utilization_ratio',\n",
    "                         }\n",
    ")\n",
    "df['y'] = df['y'].replace(['Attrited Customer', 'Existing Customer'], [0, 1])"
   ]
  },
  {
   "cell_type": "markdown",
   "metadata": {},
   "source": [
    "### Data exploration"
   ]
  },
  {
   "cell_type": "code",
   "execution_count": null,
   "metadata": {},
   "outputs": [],
   "source": [
    "df.info()"
   ]
  },
  {
   "cell_type": "markdown",
   "metadata": {},
   "source": [
    "##### Target\n",
    "The total number of data is 10,127 samples devided into\n",
    "- Attrited: 8,500 samples\n",
    "<br>\n",
    "\n",
    "- Existing: 1,627 samples\n",
    "\n",
    "**the dataset is imbalanced**"
   ]
  },
  {
   "cell_type": "code",
   "execution_count": null,
   "metadata": {},
   "outputs": [],
   "source": [
    "count = df['y'].value_counts(); print(count)\n",
    "plt.figure(figsize = (4, 3))\n",
    "sns.histplot(data = df, x = 'y')\n",
    "plt.show()\n",
    "print(f\"major target: {(count[1]/(count[0] + count[1])) * 100:0.2f}%\")"
   ]
  },
  {
   "cell_type": "markdown",
   "metadata": {},
   "source": [
    "##### resample data"
   ]
  },
  {
   "cell_type": "code",
   "execution_count": null,
   "metadata": {},
   "outputs": [],
   "source": [
    "major_target = df.loc[df['y'] == 1]\n",
    "minor_target = df.loc[df['y'] == 0]\n",
    "upsampling_df = resample(minor_target, n_samples=major_target.shape[0], replace=True, random_state=RandomState)\n",
    "df = pd.concat([major_target, upsampling_df], ignore_index=True)\n",
    "df = df.sample(frac = 1, ignore_index=True)\n",
    "\n",
    "count = df['y'].value_counts(); print(count)\n",
    "plt.figure(figsize = (4, 3))\n",
    "sns.histplot(data = df, x = 'y')\n",
    "plt.show()\n",
    "\n",
    "print(f\"major target: {(count[1]/(count[0] + count[1])) * 100:0.2f}%\")"
   ]
  },
  {
   "cell_type": "markdown",
   "metadata": {},
   "source": [
    "##### Explore numerical data\n",
    "\n",
    "the data that seem to have an outlier is listed below\n",
    "- age\n",
    "- transaction_change\n",
    "- transaction_count_change"
   ]
  },
  {
   "cell_type": "code",
   "execution_count": null,
   "metadata": {},
   "outputs": [],
   "source": [
    "def seperateDataType(df): ## return list of numerical and categorical data\n",
    "    cols = df.columns\n",
    "    num_data = [i for i in cols if (len(df[i].unique()) > 7 and df[i].dtype != 'object')]\n",
    "    cat_data = list(set(cols) - set(num_data))\n",
    "    return num_data, cat_data\n",
    "\n",
    "num_data, cat_data = seperateDataType(df)\n",
    "plot_num = 1\n",
    "plt.figure(figsize = (15,27))\n",
    "for i in num_data:\n",
    "    ax = plt.subplot(7, 3, plot_num)\n",
    "    sns.histplot(data=df, x=i, hue='y', kde=True)\n",
    "    plot_num += 1\n",
    "plt.show()\n"
   ]
  },
  {
   "cell_type": "markdown",
   "metadata": {},
   "source": [
    "- Using IQR for remove outlier"
   ]
  },
  {
   "cell_type": "code",
   "execution_count": null,
   "metadata": {},
   "outputs": [],
   "source": [
    "def removeNumericalOutlier(df:pd.DataFrame, feature_list:list):\n",
    "    new_df = df.copy()\n",
    "    for feature in feature_list:       \n",
    "        q1 = df[feature].quantile(0.25)\n",
    "        q3 = df[feature].quantile(0.75)\n",
    "        IQR = q3 - q1\n",
    "        lower_bound = q1 - 1.5*IQR\n",
    "        upper_bound = q3 + 1.5*IQR\n",
    "        new_df = new_df[(new_df[feature]>lower_bound)&(new_df[feature]<upper_bound)]\n",
    "    return new_df\n",
    "\n",
    "outlier_list = ['age', 'transaction_change', 'transaction_count_change']\n",
    "df = removeNumericalOutlier(df, outlier_list)\n",
    "\n",
    "plot_num = 1\n",
    "plt.figure(figsize = (9, 4))\n",
    "for i in outlier_list:\n",
    "    ax = plt.subplot(1, 3, plot_num)\n",
    "    sns.histplot(data=df, x=i, hue='y')\n",
    "    plot_num += 1\n",
    "plt.show()"
   ]
  },
  {
   "cell_type": "markdown",
   "metadata": {},
   "source": [
    "- Using quantile transformer to correct skewed data and standardlize"
   ]
  },
  {
   "cell_type": "code",
   "execution_count": null,
   "metadata": {},
   "outputs": [],
   "source": [
    "def correctSkewed(df:pd.DataFrame, skewed_data_list:list):\n",
    "    ##### correct skewed data\n",
    "    quantile_transformer = QuantileTransformer(output_distribution='normal', random_state=1)\n",
    "    x_skew = df[skewed_data_list].values\n",
    "    X_trans = quantile_transformer.fit_transform(x_skew)\n",
    "    df[skewed_data_list] = X_trans\n",
    "    return df\n",
    "\n",
    "df = correctSkewed(df, num_data)\n",
    "plot_num = 1\n",
    "plt.figure(figsize = (15,27))\n",
    "for i in num_data:\n",
    "    ax = plt.subplot(7, 3, plot_num)\n",
    "    sns.histplot(data=df, x=i, hue='y', kde=True)\n",
    "    plot_num += 1\n",
    "plt.show()"
   ]
  },
  {
   "cell_type": "markdown",
   "metadata": {},
   "source": [
    "- plot heatmap of numerical data correlation"
   ]
  },
  {
   "cell_type": "code",
   "execution_count": null,
   "metadata": {},
   "outputs": [],
   "source": [
    "num_df = df[num_data]\n",
    "num_df['y'] = df['y']\n",
    "plt.figure(figsize = (10,7))\n",
    "sns.heatmap(round(num_df.corr(), 2), annot=True)\n",
    "plt.show()"
   ]
  },
  {
   "cell_type": "markdown",
   "metadata": {},
   "source": [
    "- visualize high correlation to target"
   ]
  },
  {
   "cell_type": "code",
   "execution_count": null,
   "metadata": {},
   "outputs": [],
   "source": [
    "high_corr_data_list = ['transaction_count', 'transaction_count_change', 'utilization_ratio', 'transaction_amount', 'revolving_balance']\n",
    "plot_num = 1\n",
    "plt.figure(figsize = (15,27))\n",
    "for i in high_corr_data_list:\n",
    "    ax = plt.subplot(7, 3, plot_num)\n",
    "    sns.boxplot(data=num_df, x='y', y=i)\n",
    "    plot_num += 1\n",
    "plt.show()"
   ]
  },
  {
   "cell_type": "markdown",
   "metadata": {},
   "source": [
    "- visualize relation between numerical data"
   ]
  },
  {
   "cell_type": "code",
   "execution_count": null,
   "metadata": {},
   "outputs": [],
   "source": [
    "sns.pairplot(data=num_df, hue='y')\n",
    "plt.show()"
   ]
  },
  {
   "cell_type": "markdown",
   "metadata": {},
   "source": [
    "analyze: "
   ]
  },
  {
   "cell_type": "markdown",
   "metadata": {},
   "source": [
    "##### Explore categorical data"
   ]
  },
  {
   "cell_type": "code",
   "execution_count": null,
   "metadata": {},
   "outputs": [],
   "source": [
    "plot_num = 1\n",
    "plt.figure(figsize = (15,27))\n",
    "for i in cat_data:\n",
    "    ax = plt.subplot(7, 3, plot_num)\n",
    "    sns.histplot(data=df, x=i, hue='y')\n",
    "    plot_num += 1\n",
    "plt.show()"
   ]
  },
  {
   "cell_type": "markdown",
   "metadata": {},
   "source": [
    "- group card category "
   ]
  },
  {
   "cell_type": "code",
   "execution_count": null,
   "metadata": {},
   "outputs": [],
   "source": [
    "df['card'] = df['card'].replace(['Silver', 'Gold', 'Platinum'], ['not_blue']*3)\n",
    "plt.figure(figsize = (3,4))\n",
    "sns.histplot(data=df, x='card', hue='y')\n",
    "plt.show()"
   ]
  },
  {
   "cell_type": "markdown",
   "metadata": {},
   "source": [
    "- plot heatmap of categorial data correlation"
   ]
  },
  {
   "cell_type": "code",
   "execution_count": null,
   "metadata": {},
   "outputs": [],
   "source": [
    "cat_df = df[cat_data]\n",
    "cat_df = cat_df.drop(['y'],axis=1)\n",
    "cat_df = pd.get_dummies(cat_df)\n",
    "cat_df['y'] = df['y']\n",
    "plt.figure(figsize = (32,18))\n",
    "sns.heatmap(round(cat_df.corr(), 2), annot=True)\n",
    "plt.show()"
   ]
  },
  {
   "cell_type": "markdown",
   "metadata": {},
   "source": [
    "- visualize high correlation to target"
   ]
  },
  {
   "cell_type": "code",
   "execution_count": null,
   "metadata": {},
   "outputs": [],
   "source": [
    "high_corr_data_list = ['contact_num', 'month_inactive', 'total_product']\n",
    "plot_num = 1\n",
    "plt.figure(figsize = (15,27))\n",
    "for i in high_corr_data_list:\n",
    "    ax = plt.subplot(7, 3, plot_num)\n",
    "    sns.countplot(data=cat_df, x=i, hue='y')\n",
    "    plot_num += 1\n",
    "plt.show()"
   ]
  },
  {
   "cell_type": "markdown",
   "metadata": {},
   "source": [
    "- visualize relation between categorical data"
   ]
  },
  {
   "cell_type": "code",
   "execution_count": null,
   "metadata": {},
   "outputs": [],
   "source": [
    "plot_num = 1\n",
    "plt.figure(figsize = (60,60))\n",
    "for i in cat_data:\n",
    "    for j in cat_data:\n",
    "        ax = plt.subplot(10, 10, plot_num)\n",
    "        sns.countplot(data=df, x=i, hue=j)\n",
    "        plot_num += 1\n",
    "plt.show()"
   ]
  },
  {
   "cell_type": "markdown",
   "metadata": {},
   "source": [
    "##### visualize relation between categoriacal and numerical data"
   ]
  },
  {
   "cell_type": "code",
   "execution_count": null,
   "metadata": {},
   "outputs": [],
   "source": [
    "plot_num = 1\n",
    "plt.figure(figsize = (60,60))\n",
    "for i in cat_data:\n",
    "    for j in num_data:\n",
    "        ax = plt.subplot(10, 10, plot_num)\n",
    "        sns.boxplot(data=df, x=j, y=i ,hue='y')\n",
    "        plot_num += 1\n",
    "plt.show()"
   ]
  },
  {
   "cell_type": "code",
   "execution_count": null,
   "metadata": {},
   "outputs": [],
   "source": []
  }
 ],
 "metadata": {
  "kernelspec": {
   "display_name": "Python 3.7.9 ('FRA503': venv)",
   "language": "python",
   "name": "python3"
  },
  "language_info": {
   "codemirror_mode": {
    "name": "ipython",
    "version": 3
   },
   "file_extension": ".py",
   "mimetype": "text/x-python",
   "name": "python",
   "nbconvert_exporter": "python",
   "pygments_lexer": "ipython3",
   "version": "3.7.9"
  },
  "orig_nbformat": 4,
  "vscode": {
   "interpreter": {
    "hash": "64dadede5b611bea0003f916b3ffa8d6ffd0cb12e9e46b2f5e54ff5aa5c7df92"
   }
  }
 },
 "nbformat": 4,
 "nbformat_minor": 2
}
