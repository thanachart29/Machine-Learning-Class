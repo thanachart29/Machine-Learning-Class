{
 "cells": [
  {
   "cell_type": "code",
   "execution_count": null,
   "metadata": {},
   "outputs": [],
   "source": [
    "import pandas as pd\n",
    "import seaborn as sns\n",
    "import matplotlib.pyplot as plt\n",
    "import numpy as np\n",
    "from tqdm import tqdm ##### pip install tqdm ได้เลย\n",
    "from sklearn.cluster import KMeans\n",
    "from sklearn.preprocessing import MinMaxScaler\n",
    "from sklearn.metrics import silhouette_score\n",
    "from joblib import load ##### น่าจะเป็น python build-in นะไม่แน่ใจ\n",
    "\n",
    "RandomState = 1"
   ]
  },
  {
   "cell_type": "markdown",
   "metadata": {},
   "source": [
    "### Setting up for exploration"
   ]
  },
  {
   "cell_type": "markdown",
   "metadata": {},
   "source": [
    "- declare function"
   ]
  },
  {
   "cell_type": "code",
   "execution_count": null,
   "metadata": {},
   "outputs": [],
   "source": [
    "def plotHistrogram(df:pd.DataFrame, hue=None, palette=None):\n",
    "    cols = df.columns\n",
    "    plot_cols = 5\n",
    "    plot_row = round((len(cols)/plot_cols)+1)\n",
    "    plot_num = 1\n",
    "    plt.figure(figsize=(plot_cols*6, plot_row*6))\n",
    "    for i in tqdm(cols):\n",
    "        ax = plt.subplot(plot_row, plot_cols, plot_num)\n",
    "        sns.histplot(data=df, x=i, kde=True, hue=hue, palette=palette)\n",
    "        plot_num += 1\n",
    "    plt.show()\n",
    "\n",
    "def plotScatter(df:pd.DataFrame, hue=None):\n",
    "    cols = df.columns\n",
    "    plot_cols = len(cols)\n",
    "    plot_row = len(cols)\n",
    "    plot_num = 1\n",
    "    plt.figure(figsize=(plot_cols*8, plot_row*8))\n",
    "    for i in tqdm(cols):\n",
    "        for j in cols:\n",
    "            ax = plt.subplot(plot_row, plot_cols, plot_num)\n",
    "            sns.scatterplot(data=df, x=i, y=j, hue=hue)\n",
    "            plot_num += 1\n",
    "    plt.show()\n",
    "\n",
    "def removeNumericalOutlier(df:pd.DataFrame, feature_list:list):\n",
    "    new_df = df.copy()\n",
    "    for feature in feature_list:       \n",
    "        q1 = df[feature].quantile(0.25)\n",
    "        q3 = df[feature].quantile(0.75)\n",
    "        IQR = q3 - q1\n",
    "        lower_bound = q1 - 1.5*IQR\n",
    "        upper_bound = q3 + 1.5*IQR\n",
    "        new_df = new_df[(new_df[feature]>lower_bound)&(new_df[feature]<upper_bound)]\n",
    "    return new_df\n",
    "\n",
    "def plotClusteringScore(res_kmean):\n",
    "    kmean_num = list(res_kmean.keys())\n",
    "    kmean_WCSS = [res_kmean[i]['WCSS'] for i in kmean_num]\n",
    "    kmean_sil_score = [res_kmean[i]['silhouette_score'] for i in kmean_num]\n",
    "    \n",
    "    fig, ax = plt.subplots(ncols=2, figsize=(14, 3))\n",
    "    ax[0].scatter(kmean_num, kmean_WCSS)\n",
    "    ax[0].plot(kmean_num, kmean_WCSS)\n",
    "    ax[0].set_xlabel(\"K\")\n",
    "    ax[0].set_ylabel(\"WCSS\")\n",
    "    \n",
    "    ax[1].scatter(kmean_num, kmean_sil_score)\n",
    "    ax[1].plot(kmean_num, kmean_sil_score)\n",
    "    ax[1].set_xlabel(\"K\")\n",
    "    ax[1].set_ylabel(\"silhouette_score\")\n",
    "    \n",
    "    \n",
    "    plt.legend(loc='upper right')\n",
    "    plt.show()\n"
   ]
  },
  {
   "cell_type": "markdown",
   "metadata": {},
   "source": [
    "### Data Exploration"
   ]
  },
  {
   "cell_type": "markdown",
   "metadata": {},
   "source": [
    "##### explore match data\n",
    "\n",
    "> ไฟลนี้มาจากการที่เอาไฟล match กับ player โดยในไฟล player จะมีข้อมูลของผู้เล่นทุกคนใน match id นั้นๆ ซึ่งนำข้อมูลของแต่ละคนมาบวกกันโดยแบ่งเป็นทีม radiant กับ dire\n",
    "\n",
    "> หมายความว่าในไฟลนี้จะเป็นไฟลที่บ่งบอกถึงในแต่ละ match แต่ละทีมมี statistic อย่างไร"
   ]
  },
  {
   "cell_type": "code",
   "execution_count": null,
   "metadata": {},
   "outputs": [],
   "source": [
    "new_match_df = pd.read_csv(\"./new_dataframe/new_match_df.csv\", index_col=0)\n",
    "new_match_df['radiant_total_leaver_status'] = new_match_df['radiant_total_leaver_status'].replace(list(range(10)), [0, 0, 1, 1, 1, 1, 1, 1, 1, 1])\n",
    "new_match_df['dire_total_leaver_status'] = new_match_df['dire_total_leaver_status'].replace(list(range(10)), [0, 0, 1, 1, 1, 1, 1, 1, 1, 1])\n",
    "new_match_df.head()"
   ]
  },
  {
   "cell_type": "markdown",
   "metadata": {},
   "source": [
    "- histrogram plot\n",
    "\n",
    "> the duration of gameplay is 2476 seconds and the standard deviation is 634.631261 and <font color=red>**the data also have outliers**</font> if we remove the outliers of this feature will affect the outliers of other features\n",
    "\n",
    "> 36.7% of first blood time is in range 0 - 41.55\n",
    "\n",
    "> tower and barracks status obviously show the impact on wins and losses because it is measured at the last tower, which to get it must eliminate the previous tower first.\n",
    "\n",
    "> The winning team obviously shows more gold spent, GPM, XPM, kills, deaths, assists, level and damage to tower and heroes\n",
    "\n",
    "> **Surprising stuns duration and leaver status do not impact wins and losses**\n",
    "\n",
    "> Most games end at 2476 seconds, the average level of the whole team is 18, and the killing score of winner team is 44.7 and 29.37 for the loser team\n"
   ]
  },
  {
   "cell_type": "code",
   "execution_count": null,
   "metadata": {},
   "outputs": [],
   "source": [
    "rm_outliers_match_df = removeNumericalOutlier(new_match_df, ['duration'])\n",
    "plotHistrogram(rm_outliers_match_df, hue='radiant_win')"
   ]
  },
  {
   "cell_type": "markdown",
   "metadata": {},
   "source": [
    "- scatter plot\n",
    "\n",
    "> obviously see better sepration except stuns, LH, denies and assist"
   ]
  },
  {
   "cell_type": "markdown",
   "metadata": {},
   "source": [
    "<font color=red>**ไม่แนะนำให้รันโค้ดด้านล่างนี้ ใช้เวลาอย่างต่ำ 20 นาที**</font><br>\n",
    "\n",
    "ดูภาพนี้เอาละกัน\n",
    "\n",
    "<center><img src=\"./new_dataframe/match_scatter.png\"><center>"
   ]
  },
  {
   "cell_type": "code",
   "execution_count": null,
   "metadata": {},
   "outputs": [],
   "source": [
    "# plotScatter(rm_outliers_match_df.drop(['match_id', 'tower_status_radiant', \n",
    "#                                         'tower_status_dire', 'barracks_status_dire', \n",
    "#                                         'barracks_status_radiant'], axis=1), hue='radiant_win')"
   ]
  },
  {
   "cell_type": "markdown",
   "metadata": {},
   "source": [
    "- does leaver status shown anything?\n",
    "\n",
    "> <u>**ANS**</u> the data of abandoned matches is too less"
   ]
  },
  {
   "cell_type": "code",
   "execution_count": null,
   "metadata": {},
   "outputs": [],
   "source": [
    "plotHistrogram(rm_outliers_match_df.drop(['match_id'], axis=1), 'radiant_total_leaver_status')"
   ]
  },
  {
   "cell_type": "markdown",
   "metadata": {},
   "source": [
    "- cluster radiant and dire total stuns\n",
    "    - ['radiant_total_stuns', 'dire_total_stuns']\n",
    "\n",
    "> The cluster of stuns duration doesn't indicate any significant terms. But the clusters with high stuns duration will slightly increase gameplay time and it also affects the killing score"
   ]
  },
  {
   "cell_type": "markdown",
   "metadata": {},
   "source": [
    "> เราเห็นจากการทำ histogram แล้วเราประหลาดใจที่ว่าตัว stun duration ไม่ได้ส่งผลอะไรกับอัตราการแพ้ชนะเลย แล้วมันส่งผลกับอะไรกันแน่ เลยมาลอง cluster ดูโดย\n",
    "\n",
    "> assumtion ที่ว่ามันน่าจะส่งผลต่ออัตราการชนะเพิ่มขึ้นมา\n",
    "\n",
    "> result มันไม่ได้ส่งผลกับอัตราแพ้ชนะเลย มันส่งผลกับระยะเวลาใน match นั้นๆอย่างเดียวแต่ก็ไม่ strong พอที่จะ judge มัน"
   ]
  },
  {
   "cell_type": "code",
   "execution_count": null,
   "metadata": {},
   "outputs": [],
   "source": [
    "cluster_stuns = load('cluster_stuns.joblib')\n",
    "new_match_df['cluster_stuns'] = cluster_stuns.labels_\n",
    "rm_outliers_match_df = removeNumericalOutlier(new_match_df, ['duration'])\n",
    "plotHistrogram(rm_outliers_match_df, hue='cluster_stuns')"
   ]
  },
  {
   "cell_type": "markdown",
   "metadata": {},
   "source": [
    "##### explore teamfight data"
   ]
  },
  {
   "cell_type": "markdown",
   "metadata": {},
   "source": [
    "> ข้อมูลในส่วนนี้อธิบายถึง team fight ทั้งหมดในแต่ละ match โดย feature ของมันมาจาก sum value ของผู้เล่น และเวลาที่เกิด team fight โดยที่เราเอาเวลานั้นไปหาเวลาที่ใกล้ที่สุดที่หารด้วย 60 ลงตัว เนื่องจากในไฟลหนึ่งของ dataset เก็บค่า gold xp ต่างๆเอาไว้โดย dependent on times every 60 seconds "
   ]
  },
  {
   "cell_type": "code",
   "execution_count": null,
   "metadata": {},
   "outputs": [],
   "source": [
    "team_stat_on_time = pd.read_csv(\"./new_dataframe/team_stat_on_time.csv\", index_col=0)\n",
    "new_teamfight_df = pd.read_csv(\"./new_dataframe/new_teamfight_df.csv\", index_col=0)\n",
    "##### calculate time before team fight and merge to team status on times\n",
    "new_teamfight_df['time_before_fight'] = new_teamfight_df['start'] - new_teamfight_df['start']%60\n",
    "new_teamfight_df = new_teamfight_df.drop(['start', 'end'], axis=1)\n",
    "teamfight = new_teamfight_df.merge(team_stat_on_time, left_on=['match_id', 'time_before_fight'], right_on=['match_id', 'times'])\n",
    "teamfight = teamfight.drop(['times'], axis=1)\n",
    "teamfight['radiant_benefit'] = (teamfight['radiant_total_delta_gold'] + teamfight['radiant_total_delta_xp']) > (teamfight['dire_total_delta_gold'] + teamfight['dire_total_delta_xp'])\n",
    "teamfight['radiant_benefit'] = teamfight['radiant_benefit'].replace([False, True], [0, 1])\n",
    "teamfight.head()"
   ]
  },
  {
   "cell_type": "markdown",
   "metadata": {},
   "source": [
    "- histogram plot\n",
    "\n",
    "> We don't consider delta gold and XP because the benefit of a team fight calculate from delta gold and XP after the team fight occurs\n",
    "\n",
    "> The histogram plot didn't show any feature that shows the team fight benefit but <font color=yellow>amazing that the gold and XP each team before the team fight doesn't affect to the benefit of that team fight</font>\n",
    "\n",
    "> <font color=red>**Time before fight data have outliers**</font> if we remove the outliers of this feature will affect the outliers of other features\n"
   ]
  },
  {
   "cell_type": "code",
   "execution_count": null,
   "metadata": {},
   "outputs": [],
   "source": [
    "rm_outliers_teamfight_df = removeNumericalOutlier(teamfight, ['time_before_fight'])\n",
    "plotHistrogram(rm_outliers_teamfight_df.drop(['match_id'], axis=1), hue='radiant_benefit')"
   ]
  },
  {
   "cell_type": "markdown",
   "metadata": {},
   "source": [
    "- scatter plot\n",
    "\n",
    "> the result is also the same as the histogram plot it doesn't have any feature that seems to impact on team fight benefit"
   ]
  },
  {
   "cell_type": "markdown",
   "metadata": {},
   "source": [
    "<font color=red>**ไม่แนะนำให้รันโค้ดด้านล่างนี้ ใช้เวลาอย่างต่ำ 20 นาที**</font>\n",
    "\n",
    "<center><img src=\"./new_dataframe/teamfight_status_scatter.png\"><center>\n"
   ]
  },
  {
   "cell_type": "code",
   "execution_count": null,
   "metadata": {},
   "outputs": [],
   "source": [
    "# plotScatter(rm_outliers_teamfight_df.drop(['match_id'], axis=1), hue='radiant_benefit')"
   ]
  },
  {
   "cell_type": "markdown",
   "metadata": {},
   "source": [
    "- cluster delta gold and XP\n",
    "    - ['radiant_total_delta_gold', 'dire_total_delta_gold', 'radiant_total_delta_xp', 'dire_total_delta_xp']\n",
    "\n",
    "> Cluster 1 is show the benefit in teamfight mean is 1036 and the team fight time in range 0 to 3720 with mean 1065\n",
    "\n",
    "> Cluster 0 & 2 is show the benefit in teamfight that more higher and lower than cluster 1 and the team fight time in range 420 to 3720 with mean 1966\n",
    "\n",
    "> Those cluster show the team gold, XP, LH score are dependent on time before fight and it also effect to benefit in team fight but not the significant terms for predict team fight win and lose"
   ]
  },
  {
   "cell_type": "markdown",
   "metadata": {},
   "source": [
    "> ข้อมูลพวก delta gold กับ XP มันเป็นข้อมูลที่เอามาใช้คิดตัว benefit in team fight ซึ่งเราอยากรู้ว่าถ้าเป็น raw data พวกนีแล้วจริงๆมันทำให้เกิด cluster ตัวไหนบ้าง\n",
    "\n",
    "> assumption delta gold and XP น่าจะเป็นคลัสเตอร์ที่ทำให้เรารู้ได้ว่าอะไรกันแน่ที่ส่งผลต่อความได้เปรียบใน team fight\n",
    "\n",
    "> result ทำให้เราได้รู้ว่าพวก delta gold and XP ทั้งหลายใน team fight มันเกิดจากเวลายิ่ง gameplay นานขึ้นผลต่างของ gold and XP ใน teamfight ยิ่งสูงขึ้น"
   ]
  },
  {
   "cell_type": "code",
   "execution_count": null,
   "metadata": {},
   "outputs": [],
   "source": [
    "cluster_delta_stat = load('cluster_delta_stat.joblib')\n",
    "teamfight['cluster_delta_stat'] = cluster_delta_stat.labels_\n",
    "rm_outliers_teamfight_df = removeNumericalOutlier(teamfight, ['time_before_fight'])\n",
    "plotHistrogram(rm_outliers_teamfight_df, hue='cluster_delta_stat', palette=['r', 'g', 'b'])"
   ]
  },
  {
   "cell_type": "markdown",
   "metadata": {},
   "source": [
    "- cluster team stat\n",
    "    - ['radiant_gold_t_', 'dire_gold_t_', 'radiant_xp_t_', 'dire_xp_t_', 'radiant_lh_t_', 'dire_lh_t_']\n",
    "\n",
    "> The result is also the same as the delta gold and XP cluster it shows 2 clusters that are different on time before the team fight"
   ]
  },
  {
   "cell_type": "markdown",
   "metadata": {},
   "source": [
    "> ส่วนคลัสเตอร์อันนี้ก็แค่อยากรู้ว่า gold xp lh stat พวกนี้ก่อนทีมไฟท์มันบอกอะไรได้บ้าง\n",
    "> assumption ถ้ามันไม่ได้บอกถึงความได้เปรียบมันก็น่าจะบอกถึงเวลา เพราะของพวกนี้ยิ่งเวลานานๆมันก็น่าจะเพิ่มขึ้นเรื่อย\n",
    "\n",
    "> result ตาม assumption เลย"
   ]
  },
  {
   "cell_type": "code",
   "execution_count": null,
   "metadata": {},
   "outputs": [],
   "source": [
    "cluster_teamfight_stat = load('cluster_teamfight_stat_2.joblib')\n",
    "teamfight['cluster_teamfight_stat2'] = cluster_teamfight_stat.labels_\n",
    "rm_outliers_teamfight_df = removeNumericalOutlier(teamfight, ['time_before_fight'])\n",
    "plotHistrogram(rm_outliers_teamfight_df, hue='cluster_teamfight_stat2')"
   ]
  },
  {
   "cell_type": "markdown",
   "metadata": {},
   "source": [
    "##### explore player statistic in match"
   ]
  },
  {
   "cell_type": "code",
   "execution_count": null,
   "metadata": {},
   "outputs": [],
   "source": [
    "player_df = pd.read_csv('players.csv')\n",
    "player_df = player_df.iloc[:, 0:25]\n",
    "player_df = player_df.drop(['gold', 'account_id', 'item_0', 'item_1', 'item_2', 'item_3', 'item_4', 'item_5'], axis=1)\n",
    "player_df['stuns'] = player_df['stuns'].replace(['None'], [0.0])\n",
    "player_df['stuns'] = player_df['stuns'].astype(np.float64)\n",
    "# player_df['leaver_status'] = player_df['leaver_status'].replace(list(range(5)), [0, 0, 1, 1, 1])\n",
    "player_df.head()"
   ]
  },
  {
   "cell_type": "markdown",
   "metadata": {},
   "source": [
    "- cluster player score\n",
    "    - ['gold_spent', 'gold_per_min', 'xp_per_min', 'kills', 'deaths', 'assists', 'denies', 'last_hits', 'stuns', 'hero_damage', 'hero_healing', 'tower_damage']\n",
    "\n",
    "> cluster 0 show the lower statistic and we guess it should be the support hero\n",
    "\n",
    "> cluster 1 show the better score, damage and gold spent we guess that is the carry or farming hero type"
   ]
  },
  {
   "cell_type": "markdown",
   "metadata": {},
   "source": [
    "> คลัสเตอร์ player score ใช้ฟีเจอร์ต่างๆที่เกี่ยวกับ hero ซึ่ง features พวกนี้น่าจะบ่งบอกถึงประเภทของฮีโร่\n",
    "\n",
    "> assumption บ่งบอก role ของ hero ต่างๆ\n",
    "\n",
    "> result บ่งบอกแค่ตัวที่ใช้เงินมากๆตัว carry หรือ farming"
   ]
  },
  {
   "cell_type": "code",
   "execution_count": null,
   "metadata": {},
   "outputs": [],
   "source": [
    "player_stat_cluster = load('player_stat_cluster.joblib')\n",
    "player_df['player_stat_cluster'] = player_stat_cluster.labels_\n",
    "plotHistrogram(player_df, hue='player_stat_cluster')"
   ]
  },
  {
   "cell_type": "code",
   "execution_count": null,
   "metadata": {},
   "outputs": [],
   "source": [
    "hero_name = pd.read_csv('hero_names.csv')\n",
    "hero_name['hero_id'] = hero_name['hero_id']\n",
    "hero_lookup_table = dict(zip(hero_name['hero_id'],hero_name['localized_name']))\n",
    "hero_lookup_table[0] = 'missing'\n",
    "player_df['hero_name'] = player_df['hero_id'].apply(lambda id : hero_lookup_table[id])\n",
    "print(player_df.loc[player_df['player_stat_cluster']==1]['hero_name'].value_counts())\n",
    "print(player_df.loc[player_df['player_stat_cluster']==0]['hero_name'].value_counts())"
   ]
  },
  {
   "cell_type": "markdown",
   "metadata": {},
   "source": [
    "- answer the assumtion\n",
    "\n",
    "> cluster 1 shows the carry hero and the top 5 heroes of this cluster is Shadow Fiend, Windranger, Alchemist, Juggernaut, Invoker\n",
    "\n",
    "> cluster 0 show the other roles hero the top 5 heroes of this cluster is Windranger, Earthshaker, Slardar, Dazzle, Rubick"
   ]
  }
 ],
 "metadata": {
  "kernelspec": {
   "display_name": "Python 3.7.9 ('FRA503': venv)",
   "language": "python",
   "name": "python3"
  },
  "language_info": {
   "codemirror_mode": {
    "name": "ipython",
    "version": 3
   },
   "file_extension": ".py",
   "mimetype": "text/x-python",
   "name": "python",
   "nbconvert_exporter": "python",
   "pygments_lexer": "ipython3",
   "version": "3.7.9"
  },
  "orig_nbformat": 4,
  "vscode": {
   "interpreter": {
    "hash": "64dadede5b611bea0003f916b3ffa8d6ffd0cb12e9e46b2f5e54ff5aa5c7df92"
   }
  }
 },
 "nbformat": 4,
 "nbformat_minor": 2
}
