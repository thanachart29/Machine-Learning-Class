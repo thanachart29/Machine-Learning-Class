{
 "cells": [
  {
   "cell_type": "code",
   "execution_count": 1,
   "metadata": {},
   "outputs": [],
   "source": [
    "import pandas as pd\n",
    "from sklearn.preprocessing import MinMaxScaler\n",
    "from multiprocessing import Pool\n",
    "from src.mp_script import clusterKMean\n",
    "from functools import partial\n",
    "\n",
    "RandomState = 1"
   ]
  },
  {
   "cell_type": "markdown",
   "metadata": {},
   "source": [
    "##### clutering delta gold and xp each team fight"
   ]
  },
  {
   "cell_type": "code",
   "execution_count": 2,
   "metadata": {},
   "outputs": [],
   "source": [
    "if __name__ ==  '__main__':\n",
    "    new_time_stat_df = pd.read_csv(\"./new_dataframe/new_time_stat_df.csv\", index_col=0)\n",
    "    new_teamfight_df = pd.read_csv(\"./new_dataframe/new_teamfight_df.csv\", index_col=0)\n",
    "    ##### calculate time before team fight and merge to team status on times\n",
    "    new_teamfight_df['time_before_fight'] = new_teamfight_df['start'] - new_teamfight_df['start']%60\n",
    "    new_teamfight_df = new_teamfight_df.drop(['start', 'end'], axis=1)\n",
    "    teamfight_status = new_teamfight_df.merge(new_time_stat_df, left_on=['match_id', 'time_before_fight'], right_on=['match_id', 'times'])\n",
    "    teamfight_status = teamfight_status.drop(['times'], axis=1)\n",
    "    ##### scale for cluster\n",
    "    scaler = MinMaxScaler()\n",
    "    teamfight_cluster_df = teamfight_status[['radiant_total_delta_gold', 'dire_total_delta_gold', 'radiant_total_delta_xp', 'dire_total_delta_xp']]\n",
    "    x_scale = scaler.fit_transform(teamfight_cluster_df.values)\n",
    "    scale_df = pd.DataFrame(x_scale, columns=teamfight_cluster_df.columns)\n",
    "    with Pool(processes=4) as p:\n",
    "        output = p.map(partial(clusterKMean, scale_df), range(2,10,1))\n",
    "        p.close()\n",
    "        p.join()\n",
    "        print('finish')\n"
   ]
  },
  {
   "cell_type": "code",
   "execution_count": null,
   "metadata": {},
   "outputs": [],
   "source": []
  }
 ],
 "metadata": {
  "kernelspec": {
   "display_name": "Python 3.7.9 ('FRA503': venv)",
   "language": "python",
   "name": "python3"
  },
  "language_info": {
   "codemirror_mode": {
    "name": "ipython",
    "version": 3
   },
   "file_extension": ".py",
   "mimetype": "text/x-python",
   "name": "python",
   "nbconvert_exporter": "python",
   "pygments_lexer": "ipython3",
   "version": "3.7.9"
  },
  "orig_nbformat": 4,
  "vscode": {
   "interpreter": {
    "hash": "64dadede5b611bea0003f916b3ffa8d6ffd0cb12e9e46b2f5e54ff5aa5c7df92"
   }
  }
 },
 "nbformat": 4,
 "nbformat_minor": 2
}
