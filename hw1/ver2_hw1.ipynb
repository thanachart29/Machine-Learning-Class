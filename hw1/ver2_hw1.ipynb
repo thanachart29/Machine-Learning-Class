{
 "cells": [
  {
   "cell_type": "code",
   "execution_count": null,
   "metadata": {},
   "outputs": [],
   "source": [
    "import pandas as pd\n",
    "import seaborn as sns\n",
    "import matplotlib.pyplot as plt\n",
    "import numpy as np\n",
    "from scipy import stats\n",
    "\n",
    "df = pd.read_csv('credit_card_churn.csv')\n",
    "df = df.drop(['Naive_Bayes_Classifier_Attrition_Flag_Card_Category_Contacts_Count_12_mon_Dependent_count_Education_Level_Months_Inactive_12_mon_1', 'Naive_Bayes_Classifier_Attrition_Flag_Card_Category_Contacts_Count_12_mon_Dependent_count_Education_Level_Months_Inactive_12_mon_2', 'CLIENTNUM'], axis=1)\n",
    "cols = df.columns\n",
    "num_data = list(df._get_numeric_data().columns)\n",
    "cat_data = list(set(cols) - set(num_data))\n",
    "num_data.remove('Dependent_count')\n",
    "num_data.remove('Total_Relationship_Count')\n",
    "num_data.remove('Months_Inactive_12_mon')\n",
    "num_data.remove('Contacts_Count_12_mon')\n",
    "cat_data.append('Dependent_count')\n",
    "cat_data.append('Total_Relationship_Count')\n",
    "cat_data.append('Months_Inactive_12_mon')\n",
    "cat_data.append('Contacts_Count_12_mon')\n",
    "num_data_plot = num_data\n",
    "cat_data_plot = cat_data\n",
    "\n",
    "df = df.loc[df['Card_Category'] != 'Platinum']\n",
    "df = df.loc[df['Total_Ct_Chng_Q4_Q1'] <= 1.6]\n",
    "df = df.loc[df['Months_Inactive_12_mon'] >= 1]\n",
    "df = df.loc[df['Months_Inactive_12_mon'] < 6]\n",
    "df = df.loc[df['Customer_Age'] <= 66]\n",
    "df = df.loc[df['Total_Amt_Chng_Q4_Q1'] <= 1.5]\n",
    "df['Credit_Limit'] = np.log10(df['Credit_Limit'])\n",
    "fitted_data, fitted_lambda = stats.boxcox(df['Avg_Open_To_Buy'])\n",
    "df['Avg_Open_To_Buy'] = fitted_data\n",
    "df['Total_Trans_Amt'] = np.log10(df['Total_Trans_Amt'])\n",
    "df['Avg_Utilization_Ratio'] = (df['Avg_Utilization_Ratio'])**(1/2)\n",
    "#sns.histplot(df, x= 'Avg_Open_To_Buy', hue='Attrition_Flag', kde=True)\n",
    "#for i in cols:\n",
    "#    sns.histplot(df, x= i, hue='Attrition_Flag', kde=True)\n",
    "#    plt.show()\n",
    "#    df[i].value_counts()"
   ]
  },
  {
   "cell_type": "code",
   "execution_count": null,
   "metadata": {},
   "outputs": [],
   "source": [
    "y = df['Attrition_Flag']\n",
    "x = df.drop(['Attrition_Flag', 'Customer_Age', 'Gender', 'Marital_Status', 'Card_Category', 'Months_on_book'], axis=1)\n",
    "col = x.columns\n",
    "num_data = list(x._get_numeric_data().columns)\n",
    "cat_data = list(set(col) - set(num_data))\n",
    "x = pd.get_dummies(x)\n",
    "y = y.replace(['Existing Customer', 'Attrited Customer'], [1, 0])"
   ]
  },
  {
   "cell_type": "markdown",
   "metadata": {},
   "source": [
    "for i in num_data:\n",
    "    pass\n",
    "    sns.boxplot(data=df, x='Total_Relationship_Count', y= i, hue='Attrition_Flag')\n",
    "    plt.show()"
   ]
  },
  {
   "cell_type": "code",
   "execution_count": null,
   "metadata": {},
   "outputs": [],
   "source": [
    "from sklearn.preprocessing import MinMaxScaler\n",
    "from sklearn.model_selection import train_test_split\n",
    "\n",
    "x = x.values\n",
    "y = y.values\n",
    "scaler = MinMaxScaler()\n",
    "x_scaled = scaler.fit_transform(x)\n",
    "x_train,x_test,y_train,y_test = train_test_split(x_scaled, y, test_size = 0.1, random_state = 0)\n"
   ]
  },
  {
   "cell_type": "code",
   "execution_count": null,
   "metadata": {},
   "outputs": [],
   "source": [
    "from sklearn.model_selection import GridSearchCV\n",
    "from sklearn.linear_model import LogisticRegression\n",
    "\n",
    "#parameters = {'C':[0.01, 0.1, 1, 10, 100],\n",
    "#                'solver':('newton-cg', 'lbfgs', 'liblinear', 'sag', 'saga')}\n",
    "\n",
    "parameters = {'C':[0.01, 0.1, 1, 10, 100],\n",
    "                'solver':('newton-cg', 'liblinear', 'sag', 'saga')}\n",
    "logisReg = LogisticRegression()\n",
    "clf = GridSearchCV(logisReg, parameters, scoring='f1')\n",
    "clf.fit(x_train, y_train)"
   ]
  },
  {
   "cell_type": "code",
   "execution_count": null,
   "metadata": {},
   "outputs": [],
   "source": [
    "from sklearn.metrics import classification_report\n",
    "from sklearn.metrics import ConfusionMatrixDisplay\n",
    "\n",
    "print(clf.best_params_)\n",
    "y_pred = clf.predict(x_test)\n",
    "print(classification_report(y_test, y_pred))\n",
    "ConfusionMatrixDisplay.from_predictions(y_test, y_pred)\n",
    "plt.show()"
   ]
  },
  {
   "cell_type": "code",
   "execution_count": null,
   "metadata": {},
   "outputs": [],
   "source": [
    "from sklearn.metrics import roc_curve, auc, roc_auc_score\n",
    "\n",
    "y_score = clf.decision_function(x_test)\n",
    "n_classes = y.shape[1]\n",
    "# Compute ROC curve and ROC area for each class\n",
    "fpr = dict()\n",
    "tpr = dict()\n",
    "roc_auc = dict()\n",
    "fpr, tpr, _ = roc_curve(y_test, y_score)\n",
    "roc_auc = auc(fpr, tpr)\n",
    "\n",
    "plt.figure()\n",
    "lw = 2\n",
    "plt.plot(\n",
    "    fpr,\n",
    "    tpr,\n",
    "    color=\"darkorange\",\n",
    "    lw=lw,\n",
    "    label=\"ROC curve (area = %0.2f)\" % roc_auc,\n",
    ")\n",
    "plt.plot([0, 1], [0, 1], color=\"navy\", lw=lw, linestyle=\"--\")\n",
    "plt.xlim([0.0, 1.0])\n",
    "plt.ylim([0.0, 1.05])\n",
    "plt.xlabel(\"False Positive Rate\")\n",
    "plt.ylabel(\"True Positive Rate\")\n",
    "plt.title(\"Receiver operating characteristic example\")\n",
    "plt.legend(loc=\"lower right\")\n",
    "plt.show()"
   ]
  },
  {
   "cell_type": "code",
   "execution_count": null,
   "metadata": {},
   "outputs": [],
   "source": []
  }
 ],
 "metadata": {
  "kernelspec": {
   "display_name": "Python 3.7.9 ('FRA503': venv)",
   "language": "python",
   "name": "python3"
  },
  "language_info": {
   "codemirror_mode": {
    "name": "ipython",
    "version": 3
   },
   "file_extension": ".py",
   "mimetype": "text/x-python",
   "name": "python",
   "nbconvert_exporter": "python",
   "pygments_lexer": "ipython3",
   "version": "3.7.9"
  },
  "orig_nbformat": 4,
  "vscode": {
   "interpreter": {
    "hash": "64dadede5b611bea0003f916b3ffa8d6ffd0cb12e9e46b2f5e54ff5aa5c7df92"
   }
  }
 },
 "nbformat": 4,
 "nbformat_minor": 2
}
