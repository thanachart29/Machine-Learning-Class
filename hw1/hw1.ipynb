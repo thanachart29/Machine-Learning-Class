{
 "cells": [
  {
   "cell_type": "code",
   "execution_count": null,
   "metadata": {},
   "outputs": [],
   "source": [
    "import pandas as pd\n",
    "import seaborn as sns\n",
    "import matplotlib.pyplot as plt\n",
    "import sklearn.preprocessing\n",
    "import numpy as np\n",
    "from scipy import stats\n",
    "\n",
    "df = pd.read_csv('credit_card_churn.csv')\n",
    "df = df.drop(['Naive_Bayes_Classifier_Attrition_Flag_Card_Category_Contacts_Count_12_mon_Dependent_count_Education_Level_Months_Inactive_12_mon_1', 'Naive_Bayes_Classifier_Attrition_Flag_Card_Category_Contacts_Count_12_mon_Dependent_count_Education_Level_Months_Inactive_12_mon_2'], axis=1)\n",
    "\n",
    "df = df.loc[df['Card_Category'] != 'Platinum']\n",
    "df = df.loc[df['Total_Ct_Chng_Q4_Q1'] <= 1.6]\n",
    "df = df.loc[df['Months_Inactive_12_mon'] >= 1]\n",
    "df = df.loc[df['Months_Inactive_12_mon'] < 6]\n",
    "df = df.loc[df['Customer_Age'] <= 66]\n",
    "df = df.loc[df['Total_Amt_Chng_Q4_Q1'] <= 1.5]\n",
    "df['Credit_Limit'] = np.log10(df['Credit_Limit'])\n",
    "fitted_data, fitted_lambda = stats.boxcox(df['Avg_Open_To_Buy'])\n",
    "df['Avg_Open_To_Buy'] = fitted_data\n",
    "df['Total_Trans_Amt'] = np.log10(df['Total_Trans_Amt'])\n",
    "df['Avg_Utilization_Ratio'] = (df['Avg_Utilization_Ratio'])**(1/2)"
   ]
  },
  {
   "cell_type": "markdown",
   "metadata": {},
   "source": [
    "Data Exploration\n",
    "ข้อมุลไม่มีช่องไหนที่หายไป\n",
    "ข้อมูลประกอบไปด้วย feature 21 ตัวดังนี้\n",
    "- Clientnum: หมายเลขที่ใช้ระบุลูกค้า\n",
    "- Customer Age: อายุ\n",
    "- Gender: เพศ\n",
    "- Dependent count: จำนวนบุตรที่อยู่ในการอุปการะ\n",
    "- Education level: การศึกษา\n",
    "- Martial Status: สถานภาพ\n",
    "- Income Category: หมวดหมู่รายได้ประจำปี\n",
    "- Card Category: ชนิดของบัตรที่ถือ\n",
    "- Months on book: **\n",
    "- Total Relationship Count: จำนวน product ที่ถืออยู่\n",
    "- Month inactive last 12 months: จำนวนเดือนที่ไม่ได้ใช้งาน\n",
    "- Contact Count last 12 months: จำนวนการติดต่อ\n",
    "- Credit Limit: จำกัดวงเงินในบัตรเครดิต\n",
    "- Total Revolving Balance: ยอดเงินหมุนเวียนในบัตรเครดิต\n",
    "- Average Open to buy: **\n",
    "- Change in Transaction Amount (Q4 over Q1): ยอดการเปลี่ยนแปลงธุรกรรม\n",
    "- Total Transaction Amount (Last 12 months): ยอดรวมธุรกรรม\n",
    "- Total transaction count last 12 months: จำนวนธุรกรรม\n",
    "- Change in Transaction Count (Q4 over Q1): จำนวนครั้งการเปลี่ยนแปลงธุรกรรม\n",
    "- Average Card Utilization Ratio: อัตราการใช้บัตรเฉลี่ย\n",
    "- Attrition_Flag: เธอจะอยู่หรือเธอจะไป"
   ]
  },
  {
   "cell_type": "code",
   "execution_count": null,
   "metadata": {},
   "outputs": [],
   "source": [
    "print(df.isnull().sum())"
   ]
  },
  {
   "cell_type": "markdown",
   "metadata": {},
   "source": [
    "##### Clientnum\n",
    "- รหัสลูกค้าเป็นข้อมูลที่ดูไม่มีความสัมพันธุ์อะไรกับข้อมูลอื่นๆที่สื่อถึงการสูญเสียลูกค้าแต่อาจจะมีความสัมพันธุ์กับการระบุตัวตนของผู้ใช้งานหรือประเภทบัตรได้\n",
    "- เมื่อ plot ดูความสัมพันธุ์แล้วพบว่าไม่มีความสัมพันธุ์ใดๆ จึงทำการตัดข้อมูล Clientnum ออก"
   ]
  },
  {
   "cell_type": "code",
   "execution_count": null,
   "metadata": {},
   "outputs": [],
   "source": [
    "df1 = df[['CLIENTNUM', 'Customer_Age', 'Attrition_Flag']]\n",
    "card_cat = df['Card_Category']\n",
    "label_encoder = sklearn.preprocessing.LabelEncoder()\n",
    "card_cat = label_encoder.fit_transform(card_cat)\n",
    "df1['Card_Category'] = card_cat\n",
    "#df1.loc[:, 'Card_Category'] = card_cat\n",
    "plt.figure(figsize = (8,4))\n",
    "sns.pairplot(df1, hue=\"Attrition_Flag\")\n"
   ]
  },
  {
   "cell_type": "markdown",
   "metadata": {},
   "source": [
    "##### Attrition_Flag\n",
    "    - ข้อมูลมีความ imbalance โดยที่ Existing Customer มากกว่า Attried Customer จำนวนมาก\n",
    "    - ข้อมูล Total_Trans_Amt, Total_Trans_Ct และ Total_Ct_Chng_Q4_Q1 ดูมีความสัมพันธุ์กับ output เนื่องจากสังเกตุได้ถึงการแยกกลุ่มของข้อมูลเหล่านี้"
   ]
  },
  {
   "cell_type": "code",
   "execution_count": null,
   "metadata": {},
   "outputs": [],
   "source": [
    "df = df.drop(['CLIENTNUM'], axis=1)\n",
    "cols = df.columns\n",
    "num_data = list(df._get_numeric_data().columns)\n",
    "cat_data = list(set(cols) - set(num_data))\n",
    "num_data.remove('Dependent_count')\n",
    "num_data.remove('Total_Relationship_Count')\n",
    "num_data.remove('Months_Inactive_12_mon')\n",
    "num_data.remove('Contacts_Count_12_mon')\n",
    "cat_data.append('Dependent_count')\n",
    "cat_data.append('Total_Relationship_Count')\n",
    "cat_data.append('Months_Inactive_12_mon')\n",
    "cat_data.append('Contacts_Count_12_mon')\n",
    "num_data_plot = num_data\n",
    "cat_data_plot = cat_data\n"
   ]
  },
  {
   "cell_type": "code",
   "execution_count": null,
   "metadata": {},
   "outputs": [],
   "source": [
    "plt.figure(figsize = (6,3))\n",
    "sns.countplot(data=df, x=\"Attrition_Flag\")\n",
    "df['Attrition_Flag'].value_counts()"
   ]
  },
  {
   "cell_type": "code",
   "execution_count": null,
   "metadata": {},
   "outputs": [],
   "source": [
    "for i in num_data_plot:\n",
    "    sns.boxplot(data=df, x='Attrition_Flag', y= i)\n",
    "    plt.show()\n",
    "cat_data_plot.remove('Attrition_Flag')\n",
    "for j in cat_data_plot:\n",
    "    sns.countplot(data=df, x=j, hue=\"Attrition_Flag\")\n",
    "    plt.show()"
   ]
  },
  {
   "cell_type": "markdown",
   "metadata": {},
   "source": [
    "##### Customer Age\n",
    "    - ข้อมูลอายุมีการกระจายเกือบจะเป็น normal distribution โดยลูกค้าส่วนมากมีอายุช่วง 40 - 50 ปี มีความแปรปรวนเท่ากับ 64\n",
    "    - ช่วงอายุไม่มีความสัมพันธุ์กับการสูญเสียลูกค้าทั้ง Existing customer และ Attrited customer มีอายุเฉลี่ยประมาณ 45 เท่ากัน\n",
    "    - ช่วงอายุที่มากกว่า 66 อาจพิจารณาเป็น outlier\n",
    "    - ข้อมูลอายุมีความสัมพันธุ์กับฟีเจอร์ month on book แต่ไม่เห็นถึงความสัมพันธุ์ต่อ output จึงอาจพิจารณาตัดข้อมูลใดข้อมูลหนึ่งออก\n",
    "    - ข้อมูล Customer_Age เมื่อ plot กับ Total_Trans_Amt เห็นถึงการแบ่งกลุ่มของ output ในช่วงที่ Total_Trans_Amt มากกว่า 12000"
   ]
  },
  {
   "cell_type": "code",
   "execution_count": null,
   "metadata": {},
   "outputs": [],
   "source": [
    "plt.figure(figsize = (6,3))\n",
    "sns.boxplot(data=df, x='Attrition_Flag', y='Customer_Age')\n",
    "plt.figure(figsize = (6,3))\n",
    "sns.histplot(data=df, x=\"Customer_Age\", hue=\"Attrition_Flag\", multiple=\"stack\", kde=True)\n",
    "df['Customer_Age'].describe()"
   ]
  },
  {
   "cell_type": "code",
   "execution_count": null,
   "metadata": {},
   "outputs": [],
   "source": [
    "num_data_plot.remove('Customer_Age')\n",
    "for i in num_data_plot:\n",
    "    sns.jointplot(data=df, x=i, y=\"Customer_Age\", hue=\"Attrition_Flag\")\n",
    "    plt.show()\n",
    "for j in cat_data_plot:\n",
    "    sns.boxplot(data=df, x=j, y='Customer_Age', hue = 'Attrition_Flag')\n",
    "    plt.show()"
   ]
  },
  {
   "cell_type": "markdown",
   "metadata": {},
   "source": [
    "##### Gender\n",
    "    - จำนวนประชากรเพศชายกับหญิงมีจำนวนห่างกันเพียง 589 คน\n",
    "    - ข้อมูลเพศของลูกค้าไม่มีความสัมพันธุ์กับ output ของข้อมูล และไม่มีความสัมพันธุ์ใดๆกับข้อมูลอื่นๆ\n",
    "    - เพศหญิงมี credit limit และ Avg_open_to_buy ต่ำกว่าเพศชายอย่างเห็นได้ชัด\n",
    "    - ในข้อมูลของ income กลุ่มที่มีรายได้ต่ำกว่า 40000 และรายได้ที่ไม่ทราบส่วนใหญ่เป็นเพศหญิง\n",
    "    - กลุ่มรายได้ 60k-80k, 80k-120k, 120k+ ส่วนใหญ่เป็นเพศชาย\n",
    "    - ข้อมูล Total_Trans_Amt ในเพศหญิงมีการแบ่งกลุ่มโดย Existing Customer มี Total_Trans_Amt อยู่ในช่วง 2500 – 500 แต่ Attrited Customer อยู่ในช่วง 2500 +- เล็กน้อยแต่ในเพศชายไม่เห็นการแบ่งกลุ่มโดยมี mean ที่ใกล้เคียงกัน\n",
    "    - ข้อมูล Total_Trans_Ct ในเพศหญิงมีการแบ่งกลุ่มโดย Existing Customer มี Total_Trans_Ct อยู่ในช่วง 60-80 แต่ Attrited Customer อยู่ในช่วง 40-50 แต่ในเพศชายไม่เห็นการแบ่งกลุ่มอย่างชัดเจนแต่สังเกตุเห็นได้ว่ากลุ่ม Attrited Customer จะมีช่วง Totl_Trans_Ct ต่ำกว่ากลุ่ม Existing Customer\n"
   ]
  },
  {
   "cell_type": "code",
   "execution_count": null,
   "metadata": {},
   "outputs": [],
   "source": [
    "plt.figure(figsize = (6,3))\n",
    "sns.countplot(data=df, x=\"Gender\", hue=\"Attrition_Flag\")\n",
    "df['Gender'].value_counts()"
   ]
  },
  {
   "cell_type": "code",
   "execution_count": null,
   "metadata": {},
   "outputs": [],
   "source": [
    "for i in num_data_plot:\n",
    "    sns.boxplot(data=df, x='Gender', y= i, hue = 'Attrition_Flag')\n",
    "    plt.show()\n",
    "cat_data_plot.remove('Gender')\n",
    "for j in cat_data_plot:\n",
    "    sns.countplot(data=df, x=j, hue=\"Gender\")\n",
    "    plt.show()"
   ]
  },
  {
   "cell_type": "markdown",
   "metadata": {},
   "source": [
    "##### Dependent Count\n",
    "    - ลูกค้าส่วนมากมีบุตร 2-3 คน\n",
    "    - จำนวนบุตรไม่มีความสัมพันธุ์ใดๆกับข้อมูลอื่นๆจึงพิจารณาที่จะตัดทิ้งได้\n",
    "    - เมื่อ plot total_trans_ct กับ dependent count ทำให้เห็นการจัดกลุ่มของการสูญเสียลูกค้าได้ดีมีซ้อนบ้างเล็กน้อย\n",
    "    - แต่การดู boxplot ทำให้เห็นได้ชัดเจนว่าข้อมูล total revolving balance ดูมีความสัมพันธุ์กับการสูญเสียลูกค้า"
   ]
  },
  {
   "cell_type": "code",
   "execution_count": null,
   "metadata": {},
   "outputs": [],
   "source": [
    "sns.histplot(data=df, x=\"Dependent_count\", hue=\"Attrition_Flag\", multiple=\"stack\", kde=True)"
   ]
  },
  {
   "cell_type": "code",
   "execution_count": null,
   "metadata": {},
   "outputs": [],
   "source": [
    "for i in num_data_plot:\n",
    "    sns.boxplot(data=df, x='Dependent_count', y= i, hue = 'Attrition_Flag')\n",
    "    plt.show()\n",
    "cat_data_plot.remove('Dependent_count')\n",
    "for j in cat_data_plot:\n",
    "    sns.countplot(data=df, x=j, hue=\"Dependent_count\")\n",
    "    plt.show()"
   ]
  },
  {
   "cell_type": "markdown",
   "metadata": {},
   "source": [
    "##### Education Level\n",
    "    - ลูกค้าส่วนมากเป็นลูกค้าที่เรียนจบแล้ว\n",
    "    - จากการวิเคราะฟีเจอร์ Dependent count ซึ่งพบว่า total_trans_ct เมื่อ plot กับ Education Level แล้วพบว่าเกิดการแบ่งกลุ่มของการสูญเสียลูกค้าได้อย่างชัดเจน"
   ]
  },
  {
   "cell_type": "code",
   "execution_count": null,
   "metadata": {},
   "outputs": [],
   "source": [
    "plt.figure(figsize = (8,4))\n",
    "sns.countplot(data=df, x=\"Education_Level\", hue=\"Attrition_Flag\")\n",
    "df['Education_Level'].value_counts()"
   ]
  },
  {
   "cell_type": "code",
   "execution_count": null,
   "metadata": {},
   "outputs": [],
   "source": [
    "for i in num_data_plot:\n",
    "    sns.boxplot(data=df, x='Education_Level', y= i, hue = 'Attrition_Flag')\n",
    "    plt.show()\n",
    "    \n",
    "cat_data_plot.remove('Education_Level')\n",
    "for j in cat_data_plot:\n",
    "    sns.countplot(data=df, x=j, hue=\"Education_Level\")\n",
    "    plt.show()"
   ]
  },
  {
   "cell_type": "markdown",
   "metadata": {},
   "source": [
    "##### Marital Status\n",
    "    - สถานภาพไม่มีความสัมพันธุ์ใดๆกับข้อมูลอื่นๆ"
   ]
  },
  {
   "cell_type": "code",
   "execution_count": null,
   "metadata": {},
   "outputs": [],
   "source": [
    "plt.figure(figsize = (8,4))\n",
    "sns.countplot(data=df, x=\"Marital_Status\", hue=\"Attrition_Flag\")\n",
    "df['Marital_Status'].value_counts()"
   ]
  },
  {
   "cell_type": "code",
   "execution_count": null,
   "metadata": {},
   "outputs": [],
   "source": [
    "for i in num_data_plot:\n",
    "    sns.boxplot(data=df, x='Marital_Status', y= i, hue = 'Attrition_Flag')\n",
    "    plt.show()\n",
    "cat_data_plot.remove('Marital_Status')\n",
    "for j in cat_data_plot:\n",
    "    sns.countplot(data=df, x=j, hue=\"Marital_Status\")\n",
    "    plt.show()"
   ]
  },
  {
   "cell_type": "markdown",
   "metadata": {},
   "source": [
    "##### Income Category\n",
    "    - ลูกค้าส่วนใหญ่มีรายได้ต่ำกว่า 40000\n",
    "    - คนที่มีรายได้มากกว่า 120k มี credit limit และ avg_open_to_buy สูงกว่ากลุ่มอื่นๆ"
   ]
  },
  {
   "cell_type": "code",
   "execution_count": null,
   "metadata": {},
   "outputs": [],
   "source": [
    "plt.figure(figsize = (8,4))\n",
    "sns.countplot(data=df, x=\"Income_Category\", hue=\"Attrition_Flag\")\n",
    "df['Income_Category'].value_counts()"
   ]
  },
  {
   "cell_type": "code",
   "execution_count": null,
   "metadata": {},
   "outputs": [],
   "source": [
    "for i in num_data_plot:\n",
    "    sns.boxplot(data=df, x='Income_Category', y= i, hue = 'Attrition_Flag')\n",
    "    plt.show()\n",
    "cat_data_plot.remove('Income_Category')\n",
    "for j in cat_data_plot:\n",
    "    sns.countplot(data=df, x=j, hue=\"Income_Category\")\n",
    "    plt.show()"
   ]
  },
  {
   "cell_type": "markdown",
   "metadata": {},
   "source": [
    "##### Card Category\n",
    "    - ผู้ใช้งานส่วนมากเป็นผู้ใช้งานระดับ Blue\n",
    "    - ผู้ใช้งานระดับ Blue มี avg_open_to_buy และ credit limit ต่ำกว่ากลุ่มอื่นๆแต่เนื่องจากข้อมูลที่ไม่ใช่ระดับ Blue น้อยมากจึงพิจารณาที่จะตัดข้อมูลนี้ทิ้ง"
   ]
  },
  {
   "cell_type": "code",
   "execution_count": null,
   "metadata": {},
   "outputs": [],
   "source": [
    "plt.figure(figsize = (8,4))\n",
    "sns.countplot(data=df, x=\"Card_Category\", hue=\"Attrition_Flag\")\n",
    "df['Card_Category'].value_counts()"
   ]
  },
  {
   "cell_type": "code",
   "execution_count": null,
   "metadata": {},
   "outputs": [],
   "source": [
    "for i in num_data_plot:\n",
    "    sns.boxplot(data=df, x='Card_Category', y= i, hue = 'Attrition_Flag')\n",
    "    plt.show()\n",
    "cat_data_plot.remove('Card_Category')\n",
    "for j in cat_data_plot:\n",
    "    sns.countplot(data=df, x=j, hue=\"Card_Category\")\n",
    "    plt.show()"
   ]
  },
  {
   "cell_type": "markdown",
   "metadata": {},
   "source": [
    "##### Months_on_book\n",
    "    - จำนวนมากสุด 36 คือ 2463 คน\n",
    "    - เมื่อ plot ค่า Months_on_book กับ Total_Trans_Amt พบว่าช่วงที่ Total_Trans_Amt มากกว่า 12000 เห็นกลุ่มของ Existing Customer ชัดเจน แต่ช่วงที่น้อยกว่า 12000 ยังคงเห็นการปนกันของ Existing Customer และ Attrited Customer แต่การที่เห็นการแบ่งกลุ่มชัดเจนเนื่องมาจากตัวข้อมูลของ Total_Trans_Amt ที่มีการแบ่งกลุ่ม output ในตัวของข้อมูลอยู่แล้ว"
   ]
  },
  {
   "cell_type": "code",
   "execution_count": null,
   "metadata": {},
   "outputs": [],
   "source": [
    "plt.figure(figsize = (8,4))\n",
    "sns.histplot(data=df, x=\"Months_on_book\", hue=\"Attrition_Flag\", multiple=\"stack\", kde=True)"
   ]
  },
  {
   "cell_type": "code",
   "execution_count": null,
   "metadata": {},
   "outputs": [],
   "source": [
    "num_data_plot.remove('Months_on_book')\n",
    "for i in num_data_plot:\n",
    "    sns.jointplot(data=df, x=i, y=\"Months_on_book\", hue=\"Attrition_Flag\")\n",
    "    plt.show()\n",
    "for j in cat_data_plot:\n",
    "    sns.boxplot(data=df, x=j, y='Months_on_book', hue = 'Attrition_Flag')\n",
    "    plt.show()"
   ]
  },
  {
   "cell_type": "markdown",
   "metadata": {},
   "source": [
    "##### Total_Relationship_Count\n",
    "    - ข้อมูลไม่มีความสัมพันธุ์โดยตรงกับ Attrition Flag\n",
    "    - แต่เมื่อ plot กับ total_trans_amt พบว่าเกิดการแบ่งแยกของ Attriton Flag แต่ยังมีทับซ้อนกันบางส่วน"
   ]
  },
  {
   "cell_type": "code",
   "execution_count": null,
   "metadata": {},
   "outputs": [],
   "source": [
    "plt.figure(figsize = (8,4))\n",
    "sns.histplot(data=df, x=\"Total_Relationship_Count\", hue=\"Attrition_Flag\", multiple=\"stack\", kde=True)"
   ]
  },
  {
   "cell_type": "code",
   "execution_count": null,
   "metadata": {},
   "outputs": [],
   "source": [
    "for i in num_data_plot:\n",
    "    sns.boxplot(data=df, x='Total_Relationship_Count', y= i, hue = 'Attrition_Flag')\n",
    "    plt.show()\n",
    "cat_data_plot.remove('Total_Relationship_Count')\n",
    "for j in cat_data_plot:\n",
    "    sns.countplot(data=df, x=j, hue=\"Total_Relationship_Count\")\n",
    "    plt.show()"
   ]
  },
  {
   "cell_type": "code",
   "execution_count": null,
   "metadata": {},
   "outputs": [],
   "source": [
    "sns.pairplot(df, x_vars= 'Total_Trans_Amt', y_vars=[\"Total_Relationship_Count\"], hue = 'Attrition_Flag')\n",
    "plt.show()"
   ]
  },
  {
   "cell_type": "markdown",
   "metadata": {},
   "source": [
    "##### Months Inactive 12_mon\n",
    "    - ข้อมูลมีความสัมพันธุ์กับ total revolving balance และ total_trans_ct"
   ]
  },
  {
   "cell_type": "code",
   "execution_count": null,
   "metadata": {},
   "outputs": [],
   "source": [
    "plt.figure(figsize = (8,4))\n",
    "sns.histplot(data=df, x=\"Months_Inactive_12_mon\", hue=\"Attrition_Flag\", multiple=\"stack\", kde=True)"
   ]
  },
  {
   "cell_type": "code",
   "execution_count": null,
   "metadata": {},
   "outputs": [],
   "source": [
    "for i in num_data_plot:\n",
    "    sns.boxplot(data=df, x='Months_Inactive_12_mon', y= i, hue = 'Attrition_Flag')\n",
    "    plt.show()\n",
    "cat_data_plot.remove('Months_Inactive_12_mon')\n",
    "for j in cat_data_plot:\n",
    "    sns.countplot(data=df, x=j, hue=\"Months_Inactive_12_mon\")\n",
    "    plt.show()"
   ]
  },
  {
   "cell_type": "markdown",
   "metadata": {},
   "source": [
    "##### Contacts_Count_12_mon\n",
    "    - contacts_count_12_mon จำนวน 6 ครั้ง พบว่าเป็นลูกค้าที่เสียไปทั้งหมด แต่เป็นเพียงข้อมูลเล็กน้อยของข้อมูลทั้งหมด"
   ]
  },
  {
   "cell_type": "code",
   "execution_count": null,
   "metadata": {},
   "outputs": [],
   "source": [
    "plt.figure(figsize = (8,4))\n",
    "sns.histplot(data=df, x=\"Contacts_Count_12_mon\", hue=\"Attrition_Flag\", multiple=\"stack\", kde=True)\n",
    "df['Contacts_Count_12_mon'].value_counts()"
   ]
  },
  {
   "cell_type": "code",
   "execution_count": null,
   "metadata": {},
   "outputs": [],
   "source": [
    "for i in num_data_plot:\n",
    "    sns.boxplot(data=df, x='Contacts_Count_12_mon', y= i, hue = 'Attrition_Flag')\n",
    "    plt.show()\n",
    "cat_data_plot.remove('Contacts_Count_12_mon')"
   ]
  },
  {
   "cell_type": "markdown",
   "metadata": {},
   "source": [
    "##### Credit_Limit\n",
    "    - จำนวน credit limit มีลักษณะ right skewed จึงทำการ correct skewed data ด้วยวิธีการ Box-cox แต่ส่งผลให้รูปแบบความสัมพันธุ์ของ Credit_Limit กับ Avg_open_to_buy เปลี่ยนจาก linear เป็น parabola\n",
    "    - ข้อมูลมีความสัมพันธุ์กับ Avg_Utilization_Ratio เมื่อ Credit_Limit เพิ่มมากขึ้น Avg_Utilization_Ratio ก็จะต่ำลงอย่างเห็นได้ชัด"
   ]
  },
  {
   "cell_type": "code",
   "execution_count": null,
   "metadata": {},
   "outputs": [],
   "source": [
    "plt.figure(figsize = (8,4))\n",
    "sns.histplot(data=df, x=\"Credit_Limit\", hue=\"Attrition_Flag\", multiple=\"stack\", kde=True)"
   ]
  },
  {
   "cell_type": "markdown",
   "metadata": {},
   "source": [
    "from scipy import stats\n",
    "\n",
    "df1 = df\n",
    "df1['Credit_Limit'], fitted_lambda  = stats.boxcox(df1['Credit_Limit'].values)\n",
    "plt.figure(figsize = (8,4))\n",
    "sns.histplot(data=df1, x=\"Credit_Limit\", hue=\"Attrition_Flag\", multiple=\"stack\", kde=True)"
   ]
  },
  {
   "cell_type": "code",
   "execution_count": null,
   "metadata": {},
   "outputs": [],
   "source": [
    "num_data_plot.remove('Credit_Limit')\n",
    "for i in num_data_plot:\n",
    "    sns.jointplot(data=df, x=\"Credit_Limit\", y=i, hue=\"Attrition_Flag\")\n",
    "    plt.show()\n"
   ]
  },
  {
   "cell_type": "markdown",
   "metadata": {},
   "source": [
    "##### Total_Revolving_Bal\n",
    "    - ข้อมูลมีความสัมพันธุ์กับข้อมูล Avg_Utilization_Ratio แต่มีความแปรปรวนมาก"
   ]
  },
  {
   "cell_type": "code",
   "execution_count": null,
   "metadata": {},
   "outputs": [],
   "source": [
    "plt.figure(figsize = (8,4))\n",
    "sns.histplot(data=df, x=\"Total_Revolving_Bal\", hue=\"Attrition_Flag\", multiple=\"stack\", kde=True)"
   ]
  },
  {
   "cell_type": "code",
   "execution_count": null,
   "metadata": {},
   "outputs": [],
   "source": [
    "num_data_plot.remove('Total_Revolving_Bal')\n",
    "for i in num_data_plot:\n",
    "    sns.jointplot(data=df, x=\"Total_Revolving_Bal\", y=i, hue=\"Attrition_Flag\")\n",
    "    plt.show()\n"
   ]
  },
  {
   "cell_type": "markdown",
   "metadata": {},
   "source": [
    "##### Avg_Open_To_Buy\n",
    "    - ข้อมูลมีลักษณะ Right Skewed\n",
    "    - ข้อมูล Avg_open_To_Buy มีความสัมพันธุ์กับ Avg_Utilzation_Ratio เมื่อค่า Avg_open_To_Buy มากขึ้น Avg_Utilzation_Ratio ลดลงอย่างเห็นได้ชัดจึงอาจพิจารณาตัดข้อมูลใดข้อมูลนึงออก\n"
   ]
  },
  {
   "cell_type": "code",
   "execution_count": null,
   "metadata": {},
   "outputs": [],
   "source": [
    "plt.figure(figsize = (8,4))\n",
    "sns.histplot(data=df, x=\"Avg_Open_To_Buy\", hue=\"Attrition_Flag\", multiple=\"stack\", kde=True)"
   ]
  },
  {
   "cell_type": "code",
   "execution_count": null,
   "metadata": {},
   "outputs": [],
   "source": [
    "num_data_plot.remove('Avg_Open_To_Buy')\n",
    "for i in num_data_plot:\n",
    "    sns.jointplot(data=df, x=\"Avg_Open_To_Buy\", y=i, hue=\"Attrition_Flag\")\n",
    "    plt.show()\n"
   ]
  },
  {
   "cell_type": "markdown",
   "metadata": {},
   "source": [
    "##### Total_Amt_Chng_Q4_Q1\n",
    "    - จากกราฟ histrogram จะสังเกตุได้ว่าเมื่อ Total_Amt_Chng_Q4_Q1 มากกว่า 1 ข้อมูลที่เหลือจะเป็น Existing Customer แต่เป็นเพียงข้อมูลส่วนน้อย\n",
    "    - Total_Amt_Chng_Q4_Q1 มีความสัมพันธุ์กับ Total_Trans_Amt มองเห็นการแบ่งกลุ่มอย่างชัดเจนเมื่อ Total_Trans_Amt มากกว่า 12000 แต่ยังคงมีกลุ่มที่ซ้อนทับกันอยู่ในช่วงที่ต่ำกว่า 12000"
   ]
  },
  {
   "cell_type": "code",
   "execution_count": null,
   "metadata": {},
   "outputs": [],
   "source": [
    "plt.figure(figsize = (8,4))\n",
    "sns.histplot(data=df, x=\"Total_Amt_Chng_Q4_Q1\", hue=\"Attrition_Flag\", multiple=\"stack\", kde=True)"
   ]
  },
  {
   "cell_type": "code",
   "execution_count": null,
   "metadata": {},
   "outputs": [],
   "source": [
    "num_data_plot.remove('Total_Amt_Chng_Q4_Q1')\n",
    "for i in num_data_plot:\n",
    "    sns.jointplot(data=df, x=\"Total_Amt_Chng_Q4_Q1\", y=i, hue=\"Attrition_Flag\")\n",
    "    plt.show()\n"
   ]
  },
  {
   "cell_type": "markdown",
   "metadata": {},
   "source": [
    "##### Total_Trans_Amt\n",
    "    - จากกราฟการกระจายตัวของข้อมูลพบว่าเมื่อ Total_Trans_Amt มีค่ามากกว่า 10000 ลูกค้าส่วนใหญ่เป็น Attrited Customer\n",
    "    - ความสัมพันธุ์ระหว่าง Total_Trans_Amt และ Total_Trans_Ct มีการแบ่งกลุ่ม Output\n",
    "    - ความสัมพันธุ์ระหว่าง Total_Trans_Amt และ Total_Ct_Chng_Q4_Q1 มีการแบ่งกลุ่ม Output\n",
    "    - ความสัมพันธุ์ระหว่าง Total_Trans_Amt และ Avg_Utilization_ratio มีการแบ่งกลุ่ม Output"
   ]
  },
  {
   "cell_type": "code",
   "execution_count": null,
   "metadata": {},
   "outputs": [],
   "source": [
    "plt.figure(figsize = (8,4))\n",
    "sns.histplot(data=df, x=\"Total_Trans_Amt\", hue=\"Attrition_Flag\", multiple=\"stack\", kde=True)"
   ]
  },
  {
   "cell_type": "code",
   "execution_count": null,
   "metadata": {},
   "outputs": [],
   "source": [
    "num_data_plot.remove('Total_Trans_Amt')\n",
    "for i in num_data_plot:\n",
    "    sns.jointplot(data=df, x=\"Total_Trans_Amt\", y=i, hue=\"Attrition_Flag\")\n",
    "    plt.show()\n"
   ]
  },
  {
   "cell_type": "markdown",
   "metadata": {},
   "source": [
    "##### Total_Trans_Ct"
   ]
  },
  {
   "cell_type": "code",
   "execution_count": null,
   "metadata": {},
   "outputs": [],
   "source": [
    "plt.figure(figsize = (8,4))\n",
    "sns.histplot(data=df, x=\"Total_Trans_Ct\", hue=\"Attrition_Flag\", multiple=\"stack\", kde=True)"
   ]
  },
  {
   "cell_type": "code",
   "execution_count": null,
   "metadata": {},
   "outputs": [],
   "source": [
    "num_data_plot.remove('Total_Trans_Ct')\n",
    "for i in num_data_plot:\n",
    "    sns.jointplot(data=df, x=\"Total_Trans_Ct\", y=i, hue=\"Attrition_Flag\")\n",
    "    plt.show()\n"
   ]
  },
  {
   "cell_type": "markdown",
   "metadata": {},
   "source": [
    "##### Total_Ct_Chng_Q4_Q1"
   ]
  },
  {
   "cell_type": "code",
   "execution_count": null,
   "metadata": {},
   "outputs": [],
   "source": [
    "plt.figure(figsize = (8,4))\n",
    "sns.histplot(data=df, x=\"Total_Ct_Chng_Q4_Q1\", hue=\"Attrition_Flag\", multiple=\"stack\", kde=True)"
   ]
  },
  {
   "cell_type": "code",
   "execution_count": null,
   "metadata": {},
   "outputs": [],
   "source": [
    "num_data_plot.remove('Total_Ct_Chng_Q4_Q1')\n",
    "for i in num_data_plot:\n",
    "    sns.jointplot(data=df, x=\"Total_Ct_Chng_Q4_Q1\", y=i, hue=\"Attrition_Flag\")\n",
    "    plt.show()\n"
   ]
  },
  {
   "cell_type": "markdown",
   "metadata": {},
   "source": [
    "##### Avg_Utilization_Ratio\n",
    "    - ข้อมูลมีลักษณะแบบ right skewed"
   ]
  },
  {
   "cell_type": "code",
   "execution_count": null,
   "metadata": {},
   "outputs": [],
   "source": [
    "plt.figure(figsize = (8,4))\n",
    "sns.histplot(data=df, x=\"Avg_Utilization_Ratio\", hue=\"Attrition_Flag\", multiple=\"stack\", kde=True)"
   ]
  },
  {
   "cell_type": "markdown",
   "metadata": {},
   "source": [
    "##### Preprocessing"
   ]
  },
  {
   "cell_type": "code",
   "execution_count": null,
   "metadata": {},
   "outputs": [],
   "source": [
    "import pandas as pd\n",
    "import seaborn as sns\n",
    "import matplotlib.pyplot as plt\n",
    "import sklearn.preprocessing\n",
    "import numpy as np\n",
    "\n",
    "df = pd.read_csv('credit_card_churn.csv')\n",
    "df = df.drop(['Naive_Bayes_Classifier_Attrition_Flag_Card_Category_Contacts_Count_12_mon_Dependent_count_Education_Level_Months_Inactive_12_mon_1', 'Naive_Bayes_Classifier_Attrition_Flag_Card_Category_Contacts_Count_12_mon_Dependent_count_Education_Level_Months_Inactive_12_mon_2'], axis=1)\n",
    "#df1 = df[['Education_Level', 'Months_Inactive_12_mon', 'Total_Trans_Amt', 'Total_Trans_Ct', 'Total_Ct_Chng_Q4_Q1', 'Attrition_Flag']]"
   ]
  },
  {
   "cell_type": "code",
   "execution_count": null,
   "metadata": {},
   "outputs": [],
   "source": [
    "df1.head()"
   ]
  },
  {
   "cell_type": "code",
   "execution_count": null,
   "metadata": {},
   "outputs": [],
   "source": [
    "df1 = df1.loc[df1['Total_Ct_Chng_Q4_Q1'] <= 1.6]\n",
    "df1 = df1.loc[df1['Months_Inactive_12_mon'] >= 1]\n",
    "df1 = df1.loc[df1['Months_Inactive_12_mon'] < 6]"
   ]
  },
  {
   "cell_type": "code",
   "execution_count": null,
   "metadata": {},
   "outputs": [],
   "source": [
    "x = df1.iloc[:,:-1]\n",
    "y = df1.iloc[:,-1]\n",
    "#x = pd.get_dummies(x)\n",
    "#y = y.replace(['Existing Customer', 'Attrited Customer'], [1, 0])"
   ]
  },
  {
   "cell_type": "code",
   "execution_count": null,
   "metadata": {},
   "outputs": [],
   "source": [
    "x = pd.get_dummies(x)\n",
    "x.head()"
   ]
  },
  {
   "cell_type": "code",
   "execution_count": null,
   "metadata": {},
   "outputs": [],
   "source": [
    "from sklearn.preprocessing import MinMaxScaler\n",
    "from sklearn.model_selection import train_test_split\n",
    "\n",
    "x = x.values\n",
    "y = y.values\n",
    "scaler = MinMaxScaler()\n",
    "x_scaled = scaler.fit_transform(x)\n",
    "x_train,x_test,y_train,y_test = train_test_split(x_scaled, y, test_size = 0.1, random_state = 1)\n"
   ]
  },
  {
   "cell_type": "code",
   "execution_count": null,
   "metadata": {},
   "outputs": [],
   "source": [
    "from sklearn.model_selection import GridSearchCV\n",
    "from sklearn.linear_model import LogisticRegression\n",
    "from sklearn.metrics import classification_report\n",
    "\n",
    "parameters = {'C':[0.01, 0.1, 1, 10, 100],\n",
    "                'solver':('newton-cg', 'lbfgs', 'liblinear', 'sag', 'saga')}\n",
    "logisReg = LogisticRegression()\n",
    "clf = GridSearchCV(logisReg, parameters, scoring='f1')\n",
    "clf.fit(x_train, y_train)"
   ]
  },
  {
   "cell_type": "code",
   "execution_count": null,
   "metadata": {},
   "outputs": [],
   "source": [
    "print(clf.best_params_)\n",
    "y_pred = clf.predict(x_test)\n",
    "print(classification_report(y_test, y_pred))"
   ]
  },
  {
   "cell_type": "code",
   "execution_count": null,
   "metadata": {},
   "outputs": [],
   "source": []
  }
 ],
 "metadata": {
  "kernelspec": {
   "display_name": "Python 3.7.9 ('FRA503': venv)",
   "language": "python",
   "name": "python3"
  },
  "language_info": {
   "codemirror_mode": {
    "name": "ipython",
    "version": 3
   },
   "file_extension": ".py",
   "mimetype": "text/x-python",
   "name": "python",
   "nbconvert_exporter": "python",
   "pygments_lexer": "ipython3",
   "version": "3.7.9"
  },
  "orig_nbformat": 4,
  "vscode": {
   "interpreter": {
    "hash": "64dadede5b611bea0003f916b3ffa8d6ffd0cb12e9e46b2f5e54ff5aa5c7df92"
   }
  }
 },
 "nbformat": 4,
 "nbformat_minor": 2
}
