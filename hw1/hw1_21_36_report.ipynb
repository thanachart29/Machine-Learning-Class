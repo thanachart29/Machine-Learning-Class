{
 "cells": [
  {
   "cell_type": "markdown",
   "metadata": {},
   "source": [
    "##### Provide by"
   ]
  },
  {
   "cell_type": "markdown",
   "metadata": {},
   "source": [
    "นายธนชาติ เสถียรจารุการ 63340500021 <br>\n",
    "\n",
    "นายพชพล เพชรรัตน์ 63340500036"
   ]
  },
  {
   "cell_type": "code",
   "execution_count": null,
   "metadata": {},
   "outputs": [],
   "source": [
    "import pandas as pd\n",
    "import seaborn as sns\n",
    "import matplotlib.pyplot as plt\n",
    "import numpy as np\n",
    "from scipy import stats\n",
    "\n",
    "df = pd.read_csv('credit_card_churn.csv')\n",
    "df = df.drop(['Naive_Bayes_Classifier_Attrition_Flag_Card_Category_Contacts_Count_12_mon_Dependent_count_Education_Level_Months_Inactive_12_mon_1', 'Naive_Bayes_Classifier_Attrition_Flag_Card_Category_Contacts_Count_12_mon_Dependent_count_Education_Level_Months_Inactive_12_mon_2', 'CLIENTNUM'], axis=1)"
   ]
  },
  {
   "cell_type": "markdown",
   "metadata": {},
   "source": [
    "##### Data exploration"
   ]
  },
  {
   "cell_type": "markdown",
   "metadata": {},
   "source": [
    "plot numerical data\n",
    "- ข้อมูล Customer_Age มี outlier ที่อายุมากกว่า 66\n",
    "- ข้อมูล Total_Ct_Chng_Q4_Q1 มี outlier ที่จำนวนมากกว่า 1.6\n",
    "- ข้อมูล Contact_Count_12_mon จำนวน 6 ครั้งมีน้อยมากจึงพิจารณาเป็น outlier\n",
    "- ข้อมูล Total_Amt_Chng_Q4_Q1 มี outlier ที่จำนวนมากกว่า 1.6\n",
    "- ข้อมูล Credit_Limit, Avg_Open_To_Buy, Total_Trans_Amt และ Avg_Utilization_Ratio มีความเบ้ขวา"
   ]
  },
  {
   "cell_type": "code",
   "execution_count": null,
   "metadata": {},
   "outputs": [],
   "source": [
    "###### plot numerical data\n",
    "cols = df.columns\n",
    "num_data = list(df._get_numeric_data().columns)\n",
    "cat_data = list(set(cols) - set(num_data))\n",
    "for i in num_data:\n",
    "    sns.histplot(data = df, x = i, kde = True)\n",
    "    plt.show()"
   ]
  },
  {
   "cell_type": "markdown",
   "metadata": {},
   "source": [
    "Remove Outlier and Correct Skewed data"
   ]
  },
  {
   "cell_type": "code",
   "execution_count": null,
   "metadata": {},
   "outputs": [],
   "source": [
    "##### remove outlier\n",
    "df = df.loc[df['Customer_Age'] <= 66]\n",
    "df = df.loc[df['Total_Ct_Chng_Q4_Q1'] <= 1.6]\n",
    "df = df.loc[df['Months_Inactive_12_mon'] < 6]\n",
    "df = df.loc[df['Total_Amt_Chng_Q4_Q1'] <= 1.6]\n",
    "\n",
    "##### correct skewed data\n",
    "df['Credit_Limit'] = np.log10(df['Credit_Limit'])\n",
    "fitted_data, fitted_lambda = stats.boxcox(df['Avg_Open_To_Buy'])\n",
    "df['Avg_Open_To_Buy'] = fitted_data\n",
    "df['Total_Trans_Amt'] = np.log10(df['Total_Trans_Amt'])\n",
    "df['Avg_Utilization_Ratio'] = (df['Avg_Utilization_Ratio'])**(1/2)"
   ]
  },
  {
   "cell_type": "markdown",
   "metadata": {},
   "source": [
    "Plot caterical data"
   ]
  },
  {
   "cell_type": "code",
   "execution_count": null,
   "metadata": {},
   "outputs": [],
   "source": [
    "for i in cat_data:\n",
    "    sns.histplot(data = df, x = i, kde = False)\n",
    "    plt.show()"
   ]
  },
  {
   "cell_type": "markdown",
   "metadata": {},
   "source": [
    "จากการ plot Categorical data\n",
    "- ข้อมูล output หรือ Attrition_Flag มีความ Imbalance โดย Attrited Customer คิดเป็นเพียง 16% ของข้อมูลทั้งหมด\n",
    "- ข้อมูล Card_Category ที่เป็นระดับ platinum มีจำนวนผู้ใช้งานเพียง 0.002% จากข้อมูลทั้งหมดจึงทำการลบ instance เหล่านี้ทิ้ง"
   ]
  },
  {
   "cell_type": "code",
   "execution_count": null,
   "metadata": {},
   "outputs": [],
   "source": [
    "print(df['Card_Category'].value_counts())\n",
    "df = df.loc[df['Card_Category'] != 'Platinum']"
   ]
  },
  {
   "cell_type": "markdown",
   "metadata": {},
   "source": [
    "Plot Heatmap เพื่อดูความสัมพันธุ์ระหว่าง Output กับข้อมูลประเภท Numerical"
   ]
  },
  {
   "cell_type": "code",
   "execution_count": null,
   "metadata": {},
   "outputs": [],
   "source": [
    "df['Attrition_Flag'] = df['Attrition_Flag'].replace(['Existing Customer', 'Attrited Customer'], [0, 1])\n",
    "plt.figure(figsize = (16,9))\n",
    "sns.heatmap(round(df.corr(),2),annot=True)\n",
    "plt.show()"
   ]
  },
  {
   "cell_type": "markdown",
   "metadata": {},
   "source": [
    "จากการ Plot Heatmap พบว่าค่าความสัมพันธุ์ของ feature กับ Output ที่มีค่ามากกว่า 0.1 เรียงจากมากไปน้อยได้ดังนี้\n",
    "- Total_Trans_Ct\n",
    "- Total_Ct_Chng_Q4_Q1\n",
    "- Total_Revolving_Bal\n",
    "- Avg_Utilization_Ratio\n",
    "- Total_Trans_Amt\n",
    "- Contacts_Count_12_mon\n",
    "- Months_Inactive_12_mon\n",
    "- Total_Relationship_Count\n",
    "- Total_Amt_Chng_Q4_Q1\n",
    "\n",
    "และความความสัมพันธ์ระหว่างข้อมูล ที่มีค่ามากกว่า 0.1 เรียงจากมากไปน้อยได้ดังนี้\n",
    "- 0.93 : Avg_Open_To_Buy / Credit_Limit\n",
    "- 0.91 : Total_Trans_Ct / Total_Trans_Amt\n",
    "- 0.79 : Months_on_book / Customer_Age\n",
    "- 0.75 : Avg_Utilization_Ratio / Total_Revolving_Bal\n",
    "- 0.66 : Avg_Utilization_Ratio / Avg_Open_To_Buy\n",
    "- 0.42 : Avg_Utilization_Ratio / Credit_Limit\n",
    "- 0.33 : Total_Ct_Chng_Q4_Q1 / Total_Amt_Chng_Q4_Q1\n",
    "- 0.30 : Total_Trans_Amt / Total_Relationship_Count\n",
    "- 0.24 : Total_Trans_Ct / Total_Relationship_Count\n",
    "- 0.22 : Total_Ct_Chng_Q4_Q1 / Total_Trans_Ct\n",
    "- 0.20 : Total_Ct_Chng_Q4_Q1 / Total_Trans_Amt\n",
    "- 0.16 : Total_Trans_Ct  / Contacts_Count_12_mon\n",
    "- 0.14 : Total_Trans_Amt / Contacts_Count_12_mon\n",
    "- 0.11 : Total_Trans_Amt / Total_Amt_Chng_Q4_Q1\n",
    "- 0.11 : Dependent_count / Customer_Age\n",
    "- 0.10 : Total_Ct_Chng_Q4_Q1 / Contacts_Count_12_mon\n",
    "- 0.10 : Total_Trans_Amt / Credit_Limit\n",
    "- 0.10 : Avg_Utilization_Ratio / Total_Ct_Chng_Q4_Q1\n",
    "- 0.10 : Total_Revolving_Bal / Credit_Limit\n",
    "- 0.10 : Months_on_book / Dependent_count"
   ]
  },
  {
   "cell_type": "markdown",
   "metadata": {},
   "source": [
    "Plot ข้อมูลที่มีความสัมพันธุ์กับ Output\n",
    "- ข้อมูลที่มีความสัมพันธุ์กับ output ที่มากที่สุดคือ 0.38 หรือข้อมูล Total_Trans_Ct พบว่าข้อมูลส่วนใหญ่มีการแบ่งกลุ่มอย่างเห็นได้ชัด\n",
    "- ข้อมูลที่มีความสัมพันธุ์กับ output ที่น้อยกว่า 0.38 แต่มากกว่า 0.2 มีการแบ่งกลุ่มกันแต่มีบางส่วนที่ซ้อนทับกันอยู่\n",
    "- ข้อมูลที่มีความสัมพันธุ์กับ output ที่น้อยกว่าหรือเท่ากับ 0.2 มีการซ้อนทับกันของข้อมูลอย่างเห็นได้ชัด"
   ]
  },
  {
   "cell_type": "code",
   "execution_count": null,
   "metadata": {},
   "outputs": [],
   "source": [
    "cols = list(df.columns)\n",
    "relate2output = ['Total_Trans_Ct', 'Total_Ct_Chng_Q4_Q1', 'Total_Revolving_Bal', 'Avg_Utilization_Ratio', 'Total_Trans_Amt', 'Contacts_Count_12_mon', 'Months_Inactive_12_mon', 'Total_Relationship_Count', 'Total_Amt_Chng_Q4_Q1']\n",
    "\n",
    "for i in relate2output:\n",
    "    sns.boxplot(data = df, x = 'Attrition_Flag', y = i)\n",
    "    plt.show()"
   ]
  },
  {
   "cell_type": "markdown",
   "metadata": {},
   "source": [
    "Plot ข้อมูลที่มี relation ระหว่างข้อมูลกันเองที่มีความสัมพันธุ์มากกว่า 0.66\n",
    "- กราฟ Credit_Limit เทียบ Avg_Open_To_Buy พบว่ามีความสัมพันธุ์ทางคณิตศาสตร์จึงทำให้เลือกตัดข้อมูล Avg_Open_To_Buy เนื่องจากมีความสัมพันธุ์เทียบกับ Output น้อยกว่า Credit_Limit\n",
    "- กราฟ Total_Trans_Ct เทียบ Total_Trans_Amt พบว่ามีแนวโน้มไปในทางเดียวกันแต่มองเห็นถึงการแบ่งกลุ่มของ output จึงเลือกที่จะเก็บข้อมูลทั้งสองเอาไว้ก่อน\n",
    "- กราฟ Months_on_book เทียบ Customer_Age พบว่ามีความสัมพันธุ์ทางคณิตศาสตร์อย่างชัดเจนซึ่งทั้งสองมีความสัมพันธุ์กับ output ต่ำมากและจากกราฟไม่แสดงให้เห็นถึงการแบ่งกลุ่มของ Output จึงเป็นเหตุผลที่เลือกตัดทิ้งทั้งสองข้อมูล\n",
    "- กราฟ Avg_Utilization_Ratio เทียบ Total_Revolving_Bal พบว่ามีความสัมพันธุ์กันแต่อยู่ในขอบเขตที่กว้างและเห็นถึงข้อมูล Attrited Customer บางส่วนในช่วง (0,0) ถึง (0.6, 500)\n",
    "- กราฟ Avg_Utilization_Ratio เทียบ Avg_Open_To_Buy มีความสัมพันธุ์ทางคณิตศาสตร์ที่ชัดเจนมากและจาก plot กราฟ Credit_Limit เทียบ Avg_Open_To_Buy ที่ได้เลือกทำการตัด Avg_Open_To_Buy จึงเก็บข้อมูล Avg_Utilization_Ratio เอาไว้\n",
    "- กราฟ Avg_Utilization_Ratio เทียบ Credit_Limit พบเห็นความสัมพันธุ์ทางคณิตศาสตร์แต่อยู่ในช่วงที่กว้างและตรงขอบของกราฟมีการกระจายตัวของ Output อยู่จึงทำให้เลือกเก็บข้อมูลทั้งสองข้อมูลเอาไว้"
   ]
  },
  {
   "cell_type": "code",
   "execution_count": null,
   "metadata": {},
   "outputs": [],
   "source": [
    "sns.jointplot(data = df, x = 'Credit_Limit', y = 'Avg_Open_To_Buy', hue = 'Attrition_Flag')\n",
    "plt.show()\n",
    "sns.jointplot(data = df, x = 'Total_Trans_Ct', y = 'Total_Trans_Amt', hue = 'Attrition_Flag')\n",
    "plt.show()\n",
    "sns.jointplot(data = df, x = 'Months_on_book', y = 'Customer_Age', hue = 'Attrition_Flag')\n",
    "plt.show()\n",
    "sns.jointplot(data = df, x = 'Avg_Utilization_Ratio', y = 'Total_Revolving_Bal', hue = 'Attrition_Flag')\n",
    "plt.show()\n",
    "sns.jointplot(data = df, x = 'Avg_Utilization_Ratio', y = 'Avg_Open_To_Buy', hue = 'Attrition_Flag')\n",
    "plt.show()\n",
    "sns.jointplot(data = df, x = 'Avg_Utilization_Ratio', y = 'Credit_Limit', hue = 'Attrition_Flag')\n",
    "plt.show()"
   ]
  },
  {
   "cell_type": "markdown",
   "metadata": {},
   "source": [
    "Plot ข้อมูลที่มี relation ระหว่างข้อมูลกันเองที่มีความสัมพันธุ์มากกว่า 0.66\n",
    "- จากการ plot กราฟที่มีความสัมพันธ์กันเองที่เหลือทั้งหมดพบว่าไม่เห็นถึงความสัมพันธ์ทางคณิตศาสตร์ที่ชัดเจนจึงทำให้เลือกที่จะไม่ตัดข้อมูลใดออก"
   ]
  },
  {
   "cell_type": "code",
   "execution_count": null,
   "metadata": {},
   "outputs": [],
   "source": [
    "sns.jointplot(data = df, x = 'Total_Ct_Chng_Q4_Q1', y = 'Total_Amt_Chng_Q4_Q1', hue = 'Attrition_Flag')\n",
    "plt.show()\n",
    "sns.boxplot(data = df, x = 'Total_Relationship_Count', y = 'Total_Trans_Amt', hue = 'Attrition_Flag')\n",
    "plt.show()\n",
    "sns.boxplot(data = df, x = 'Total_Relationship_Count', y = 'Total_Trans_Ct', hue = 'Attrition_Flag')\n",
    "plt.show()\n",
    "sns.jointplot(data = df, x = 'Total_Ct_Chng_Q4_Q1', y = 'Total_Trans_Ct', hue = 'Attrition_Flag')\n",
    "plt.show()\n",
    "sns.jointplot(data = df, x = 'Total_Ct_Chng_Q4_Q1', y = 'Total_Trans_Amt', hue = 'Attrition_Flag')\n",
    "plt.show()"
   ]
  },
  {
   "cell_type": "markdown",
   "metadata": {},
   "source": [
    "สรุปจากการ plot ความสัมพันธ์ระหว่างข้อมูลกันเองทำให้เลือกตัดข้อมูลดังต่อไปนี้\n",
    "- Avg_Open_To_Buy\n",
    "- Months_on_book\n",
    "- Customer_Age"
   ]
  },
  {
   "cell_type": "markdown",
   "metadata": {},
   "source": [
    "ข้อมูลที่ยังไม่ได้ทำการวิเคราะห์แบ่งเป็น\n",
    "- numerical data\n",
    "    - Credit_Limit\n",
    "<br>\n",
    "<br>\n",
    "\n",
    "- categorical data\n",
    "    - Dependent_count\n",
    "    - Marital_Status\n",
    "    - Gender\n",
    "    - Education_Level\n",
    "    - Card_Category\n",
    "    - Income_Category"
   ]
  },
  {
   "cell_type": "code",
   "execution_count": null,
   "metadata": {},
   "outputs": [],
   "source": [
    "df = df.drop(['Avg_Open_To_Buy', 'Months_on_book', 'Customer_Age'], axis = 1)\n",
    "cols = list(df.columns)\n",
    "cols.remove('Attrition_Flag')\n",
    "num_data = list(df._get_numeric_data().columns)\n",
    "num_data.remove('Attrition_Flag')\n",
    "cat_data = list(set(cols) - set(num_data))\n",
    "num_data.remove('Dependent_count')\n",
    "num_data.remove('Total_Relationship_Count')\n",
    "num_data.remove('Months_Inactive_12_mon')\n",
    "num_data.remove('Contacts_Count_12_mon')\n",
    "cat_data.append('Dependent_count')\n",
    "cat_data.append('Total_Relationship_Count')\n",
    "cat_data.append('Months_Inactive_12_mon')\n",
    "cat_data.append('Contacts_Count_12_mon')\n",
    "\n",
    "ex_cols = list(set(df.columns) - set(relate2output))\n",
    "ex_num_data = list(set(df._get_numeric_data().columns) - set(relate2output))\n",
    "ex_cat_data = list(set(ex_cols) - set(num_data))\n",
    "print(ex_num_data)\n",
    "print(ex_cat_data)"
   ]
  },
  {
   "cell_type": "markdown",
   "metadata": {},
   "source": [
    "Plot Categorical Data"
   ]
  },
  {
   "cell_type": "markdown",
   "metadata": {},
   "source": [
    "- Plot Credit_Limit\n",
    "    - จากการดูข้อมูล Credit_Limit พบว่าเมื่อเทียบกับ Total_Trans_Amt มองเห็นการแบ่งกลุ่มของข้อมูลในบางส่วน"
   ]
  },
  {
   "cell_type": "code",
   "execution_count": null,
   "metadata": {},
   "outputs": [],
   "source": [
    "num_data.remove('Credit_Limit')\n",
    "for i in num_data:\n",
    "    sns.jointplot(data = df, x = 'Credit_Limit', y = i, hue = 'Attrition_Flag')\n",
    "    plt.show()\n",
    "for j in cat_data:\n",
    "    sns.boxplot(data = df, x = j, y = 'Credit_Limit', hue = 'Attrition_Flag')\n",
    "    plt.show()\n",
    "num_data.append('Credit_Limit')"
   ]
  },
  {
   "cell_type": "markdown",
   "metadata": {},
   "source": [
    "Plot Categorical Data"
   ]
  },
  {
   "cell_type": "markdown",
   "metadata": {},
   "source": [
    "- Income_Category\n",
    "    - คนที่มีรายได้มากกว่า 120k มี credit limit และ avg_open_to_buy สูงกว่ากลุ่มอื่นๆ\n",
    "    - สังเกตเห็นถึงการแบ่งกลุ่มของ output เมื่อเทียบกับหลายข้อมูลเช่น Total_Revolving_Bal, Total_Trans_Ct, Total_Trans_Ct_Chng_Q4_Q1, Avg_Utilization_Ratio\n"
   ]
  },
  {
   "cell_type": "code",
   "execution_count": null,
   "metadata": {},
   "outputs": [],
   "source": [
    "for i in num_data:\n",
    "    sns.boxplot(data=df, x='Income_Category', y= i, hue = 'Attrition_Flag')\n",
    "    plt.show()\n",
    "cat_data.remove('Income_Category')\n",
    "for j in cat_data:\n",
    "    sns.countplot(data=df, x=j, hue=\"Income_Category\")\n",
    "    plt.show()"
   ]
  },
  {
   "cell_type": "markdown",
   "metadata": {},
   "source": [
    "- Education_Level\n",
    "    - สังเกตเห็นถึงการแบ่งกลุ่มของ output เมื่อเทียบกับหลายข้อมูลเช่น Total_Revolving_Bal, Total_Trans_Amt, Total_Trans_Ct_Chng_Q4_Q1, Avg_Utilization_Ratio\n",
    "    - และที่เห็นชัดเจนถึงการแบ่งกลุ่มของ Output คือเมื่อเปรียบเทียบกับ Total_Trans_Ct ข้อมูลมีการแบ่งกลุ่มอย่างชัดเจน"
   ]
  },
  {
   "cell_type": "code",
   "execution_count": null,
   "metadata": {},
   "outputs": [],
   "source": [
    "for i in num_data:\n",
    "    sns.boxplot(data=df, x='Education_Level', y= i, hue = 'Attrition_Flag')\n",
    "    plt.show()\n",
    "cat_data.remove('Education_Level')\n",
    "for j in cat_data:\n",
    "    sns.countplot(data=df, x=j, hue=\"Education_Level\")\n",
    "    plt.show()"
   ]
  },
  {
   "cell_type": "markdown",
   "metadata": {},
   "source": [
    "- Dependent_count\n",
    "    - สังเกตเห็นถึงการแบ่งกลุ่มของ output เมื่อเทียบกับหลายข้อมูลเช่น Total_Revolving_Bal, Total_Trans_Ct, Total_Trans_Ct_Chng_Q4_Q1, Avg_Utilization_Ratio"
   ]
  },
  {
   "cell_type": "code",
   "execution_count": null,
   "metadata": {},
   "outputs": [],
   "source": [
    "for i in num_data:\n",
    "    sns.boxplot(data=df, x='Dependent_count', y= i, hue = 'Attrition_Flag')\n",
    "    plt.show()\n",
    "cat_data.remove('Dependent_count')\n",
    "for j in cat_data:\n",
    "    sns.countplot(data=df, x=j, hue=\"Dependent_count\")\n",
    "    plt.show()"
   ]
  },
  {
   "cell_type": "markdown",
   "metadata": {},
   "source": [
    "- Marital_Status\n",
    "    - แสดงถึงการแบ่งกลุ่มของ Output เมื่อเทียบกับ Total_Trans_Amt, Total_Trans_Ct ในกลุ่มคนที่ไม่ได้มีสถานภาพแต่งงาน และมีช่วงของข้อมูลที่แบ่งได้ชัดกว่าข้อมูลอื่นๆ"
   ]
  },
  {
   "cell_type": "code",
   "execution_count": null,
   "metadata": {},
   "outputs": [],
   "source": [
    "for i in num_data:\n",
    "    sns.boxplot(data=df, x='Marital_Status', y= i, hue = 'Attrition_Flag')\n",
    "    plt.show()\n",
    "cat_data.remove('Marital_Status')\n",
    "for j in cat_data:\n",
    "    sns.countplot(data=df, x=j, hue=\"Marital_Status\")\n",
    "    plt.show()"
   ]
  },
  {
   "cell_type": "markdown",
   "metadata": {},
   "source": [
    "- Gender\n",
    "    - ความสัมพันธุ์ของข้อมูลเทียบกับ Output เห็นการแบ่งกลุ่มในเพศหญิงแต่ในเพศชายยังคงมีความซ้อนทับกันอยู่มาก"
   ]
  },
  {
   "cell_type": "code",
   "execution_count": null,
   "metadata": {},
   "outputs": [],
   "source": [
    "for i in num_data:\n",
    "    sns.boxplot(data=df, x='Gender', y= i, hue = 'Attrition_Flag')\n",
    "    plt.show()\n",
    "cat_data.remove('Gender')\n",
    "for j in cat_data:\n",
    "    sns.countplot(data=df, x=j, hue=\"Gender\")\n",
    "    plt.show()"
   ]
  },
  {
   "cell_type": "markdown",
   "metadata": {},
   "source": [
    "- Card Category\n",
    "    - จากกราฟทั้งหมดไม่เห็นถึงการแบ่งกลุ่มของข้อมูล Output ที่ชัดเจนจึงทำให้เลือกพิจารณาตัดข้อมูลทิ้ง"
   ]
  },
  {
   "cell_type": "code",
   "execution_count": null,
   "metadata": {},
   "outputs": [],
   "source": [
    "for i in num_data:\n",
    "    sns.boxplot(data=df, x='Card_Category', y= i, hue = 'Attrition_Flag')\n",
    "    plt.show()\n",
    "cat_data.remove('Card_Category')\n",
    "for j in cat_data:\n",
    "    sns.countplot(data=df, x=j, hue=\"Card_Category\")\n",
    "    plt.show()\n",
    "df = df.drop(['Card_Category'], axis = 1)"
   ]
  },
  {
   "cell_type": "markdown",
   "metadata": {},
   "source": [
    "Plot Heatmap สำหรับข้อมูล Categorical ที่เหลือ\n",
    "- ฟีเจอร์ที่เห็นได้ชัดว่ามีความสัมพันธุ์กับข้อมูลอื่นจำนวนมากคือ Gender จึงเลือกที่จะตัดทิ้ง\n",
    "- ส่วนข้อมูล Credit_Limit และ Avg_Utilization_Ratio มีความสัมพันธุ์กับข้อมูลอื่นโดยรวมจึงพิจารณาตัดออก"
   ]
  },
  {
   "cell_type": "code",
   "execution_count": null,
   "metadata": {},
   "outputs": [],
   "source": [
    "df['Gender'] = df['Gender'].replace(['M', 'F'], [0, 1])\n",
    "df = pd.get_dummies(df)\n",
    "plt.figure(figsize = (32,18))\n",
    "sns.heatmap(round(df.corr(),2),annot=True)\n",
    "plt.show()"
   ]
  },
  {
   "cell_type": "markdown",
   "metadata": {},
   "source": [
    "สรุป Feature ที่ทำการตัดทั้งหมดจากการ exploring data\n",
    "- Card_Category\n",
    "- Avg_Open_To_Buy\n",
    "- Months_on_book\n",
    "- Customer_Age\n",
    "- Gender\n",
    "- Credit_Limit\n",
    "- Avg_Utilization_Ratio"
   ]
  },
  {
   "cell_type": "markdown",
   "metadata": {},
   "source": [
    "##### Data Preprocessing"
   ]
  },
  {
   "cell_type": "code",
   "execution_count": null,
   "metadata": {},
   "outputs": [],
   "source": [
    "import pandas as pd\n",
    "import seaborn as sns\n",
    "import matplotlib.pyplot as plt\n",
    "import numpy as np\n",
    "from scipy import stats\n",
    "from sklearn.preprocessing import MinMaxScaler\n",
    "from sklearn.model_selection import GridSearchCV\n",
    "from sklearn.linear_model import LogisticRegression\n",
    "from sklearn.metrics import classification_report, confusion_matrix\n",
    "from sklearn.model_selection import train_test_split\n",
    "from sklearn.metrics import ConfusionMatrixDisplay\n",
    "\n",
    "def preprocessData(lst):\n",
    "    ##### import dataset\n",
    "    df = pd.read_csv('credit_card_churn.csv')\n",
    "    df = df.drop(['Naive_Bayes_Classifier_Attrition_Flag_Card_Category_Contacts_Count_12_mon_Dependent_count_Education_Level_Months_Inactive_12_mon_1', 'Naive_Bayes_Classifier_Attrition_Flag_Card_Category_Contacts_Count_12_mon_Dependent_count_Education_Level_Months_Inactive_12_mon_2', 'CLIENTNUM'], axis=1)\n",
    "    ##### remove outlier\n",
    "    df = df.loc[df['Customer_Age'] <= 66]\n",
    "    df = df.loc[df['Total_Ct_Chng_Q4_Q1'] <= 1.6]\n",
    "    df = df.loc[df['Months_Inactive_12_mon'] < 6]\n",
    "    df = df.loc[df['Total_Amt_Chng_Q4_Q1'] <= 1.6]\n",
    "\n",
    "    ##### correct skewed data\n",
    "    df['Credit_Limit'] = np.log10(df['Credit_Limit'])\n",
    "    fitted_data, fitted_lambda = stats.boxcox(df['Avg_Open_To_Buy'])\n",
    "    df['Avg_Open_To_Buy'] = fitted_data\n",
    "    df['Total_Trans_Amt'] = np.log10(df['Total_Trans_Amt'])\n",
    "    df['Avg_Utilization_Ratio'] = (df['Avg_Utilization_Ratio'])**(1/2)\n",
    "\n",
    "    ##### Data Selection\n",
    "    df = df.drop(lst, axis = 1)\n",
    "\n",
    "    ##### Data Preprocessing\n",
    "    x = df.drop(['Attrition_Flag'], axis=1)\n",
    "    y = df['Attrition_Flag']\n",
    "    y = y.replace(['Existing Customer', 'Attrited Customer'], [0, 1])\n",
    "\n",
    "    ##### Using one-hot\n",
    "    x = pd.get_dummies(x)\n",
    "    x = x.values\n",
    "    y = y.values\n",
    "    \n",
    "    ##### scaling data\n",
    "    scaler = MinMaxScaler()\n",
    "    x = scaler.fit_transform(x)\n",
    "\n",
    "    return x, y"
   ]
  },
  {
   "cell_type": "markdown",
   "metadata": {},
   "source": [
    "##### Model Construction and Analysis"
   ]
  },
  {
   "cell_type": "code",
   "execution_count": null,
   "metadata": {},
   "outputs": [],
   "source": [
    "def trainModel(lst):\n",
    "    ##### get x and y data from preprocessing\n",
    "    x, y = preprocessData(lst)\n",
    "    ##### Split train and test data\n",
    "    x_train,x_test,y_train,y_test = train_test_split(x, y, test_size = 0.1, random_state = 1)\n",
    "\n",
    "    ##### Declare model and model parameters\n",
    "    logisReg = LogisticRegression()\n",
    "    parameters = {'C':[0.01, 0.1, 1, 10, 100],\n",
    "                'solver':('newton-cg', 'liblinear', 'sag', 'saga')}\n",
    "\n",
    "    ##### Train model with gridsearchCV and split k-fold = 10\n",
    "    clf = GridSearchCV(logisReg, parameters, scoring='f1', verbose=5, return_train_score=True, n_jobs=-1, cv = 10)\n",
    "    clf.fit(x_train, y_train)\n",
    "\n",
    "    ##### Test model, visualize classification report and confusion matrix\n",
    "    \n",
    "    y_pred = clf.predict(x_test)\n",
    "    print(\"Classification report \\n=======================\")\n",
    "    print(classification_report(y_true=y_test, y_pred=y_pred))\n",
    "    print(\"Confusion matrix \\n=======================\")\n",
    "    #print(confusion_matrix(y_true=y_test, y_pred=y_pred))\n",
    "    ConfusionMatrixDisplay.from_predictions(y_test, y_pred)\n",
    "    plt.show()\n",
    "\n",
    "    return clf"
   ]
  },
  {
   "cell_type": "markdown",
   "metadata": {},
   "source": [
    "- First Model \n",
    "    - ไม่ได้ตัดข้อมูลใดๆออกจากตารางแต่มีการ preprocessing ข้อมูล"
   ]
  },
  {
   "cell_type": "code",
   "execution_count": null,
   "metadata": {},
   "outputs": [],
   "source": [
    "model1drop_list = []\n",
    "model1 = trainModel(model1drop_list)"
   ]
  },
  {
   "cell_type": "markdown",
   "metadata": {},
   "source": [
    "- Second Model <br>\n",
    "\n",
    "    - เลือกตัดข้อมูลที่ list เอาไว้จากการ explore data ซึ่งได้แก่ <br>\n",
    "    \n",
    "        - Card_Category\n",
    "        - Avg_Open_To_Buy\n",
    "        - Months_on_book\n",
    "        - Customer_Age\n",
    "        - Gender\n",
    "        - Credit_Limit\n",
    "        - Avg_Utilization_Ratio"
   ]
  },
  {
   "cell_type": "code",
   "execution_count": null,
   "metadata": {},
   "outputs": [],
   "source": [
    "model2drop_list = ['Card_Category', 'Avg_Open_To_Buy', 'Months_on_book', 'Customer_Age', 'Gender', 'Credit_Limit', 'Avg_Utilization_Ratio']\n",
    "model2 = trainModel(model2drop_list)"
   ]
  },
  {
   "cell_type": "markdown",
   "metadata": {},
   "source": [
    "- Thrid Model <br>\n",
    "\n",
    "    - จากโมเดลที่ 2 หรือโมเดลที่เทรนจากการทำ feature selection พบว่ามี recall และ f1-score ที่ต่ำลงจึงลองลดข้อมูลที่ทำการตัดออก 1 ข้อมูล<br>\n",
    "    \n",
    "        - เก็บ Avg_Open_To_Buy เอาไว้ช่วยเพิ่มประสิทธิภาพของโมเดลเพิ่มเติมจากโมเดลที่ 2 โดยที่ recall เพิ่ม 1%"
   ]
  },
  {
   "cell_type": "code",
   "execution_count": null,
   "metadata": {},
   "outputs": [],
   "source": [
    "print('Card_Category')\n",
    "model3drop_list = ['Avg_Open_To_Buy', 'Months_on_book', 'Customer_Age', 'Gender', 'Credit_Limit', 'Avg_Utilization_Ratio']\n",
    "model3 = trainModel(model3drop_list)\n",
    "######\n",
    "print('Avg_Open_To_Buy')\n",
    "model3drop_list = ['Card_Category', 'Months_on_book', 'Customer_Age', 'Gender', 'Credit_Limit', 'Avg_Utilization_Ratio']\n",
    "model3 = trainModel(model3drop_list)\n",
    "######\n",
    "print('Months_on_book')\n",
    "model3drop_list = ['Card_Category', 'Avg_Open_To_Buy', 'Customer_Age', 'Gender', 'Credit_Limit', 'Avg_Utilization_Ratio']\n",
    "model3 = trainModel(model3drop_list)\n",
    "######\n",
    "print('Customer_Age')\n",
    "model3drop_list = ['Card_Category', 'Avg_Open_To_Buy', 'Months_on_book', 'Gender', 'Credit_Limit', 'Avg_Utilization_Ratio']\n",
    "model3 = trainModel(model3drop_list)\n",
    "######\n",
    "print('Gender')\n",
    "model3drop_list = ['Card_Category', 'Avg_Open_To_Buy', 'Months_on_book', 'Customer_Age', 'Credit_Limit', 'Avg_Utilization_Ratio']\n",
    "model3 = trainModel(model3drop_list)\n",
    "######\n",
    "print('Credit_Limit')\n",
    "model3drop_list = ['Card_Category', 'Avg_Open_To_Buy', 'Months_on_book', 'Customer_Age', 'Gender', 'Avg_Utilization_Ratio']\n",
    "model3 = trainModel(model3drop_list)\n",
    "######\n",
    "print('Avg_Utilization_Ratio')\n",
    "model3drop_list = ['Card_Category', 'Avg_Open_To_Buy', 'Months_on_book', 'Customer_Age', 'Gender', 'Credit_Limit']\n",
    "model3 = trainModel(model3drop_list)\n"
   ]
  },
  {
   "cell_type": "markdown",
   "metadata": {},
   "source": [
    "- Fourth Model <br>\n",
    "\n",
    "    - ทดลองลดข้อมูลที่ตัดออก 1 ข้อมูลจากโมเดลที่ 3<br>\n",
    "\n",
    "        - เมื่อเก็บข้อมูล Avg_Utilization_Ratio เอาไว้พบว่าโมเดลมีประสิทธิภาพมากขึ้นทั้ง precision และ recall"
   ]
  },
  {
   "cell_type": "code",
   "execution_count": null,
   "metadata": {},
   "outputs": [],
   "source": [
    "print('Card_Category')\n",
    "model4drop_list = ['Months_on_book', 'Customer_Age', 'Gender', 'Credit_Limit', 'Avg_Utilization_Ratio']\n",
    "model4 = trainModel(model4drop_list)\n",
    "#####\n",
    "print('Months_on_book')\n",
    "model4drop_list = ['Card_Category', 'Customer_Age', 'Gender', 'Credit_Limit', 'Avg_Utilization_Ratio']\n",
    "model4 = trainModel(model4drop_list)\n",
    "#####\n",
    "print('Customer_Age')\n",
    "model4drop_list = ['Card_Category', 'Months_on_book', 'Gender', 'Credit_Limit', 'Avg_Utilization_Ratio']\n",
    "model4 = trainModel(model4drop_list)\n",
    "#####\n",
    "print('Gender')\n",
    "model4drop_list = ['Card_Category', 'Months_on_book', 'Customer_Age', 'Credit_Limit', 'Avg_Utilization_Ratio']\n",
    "model4 = trainModel(model4drop_list)\n",
    "#####\n",
    "print('Credit_Limit')\n",
    "model4drop_list = ['Card_Category', 'Months_on_book', 'Customer_Age', 'Gender', 'Avg_Utilization_Ratio']\n",
    "model4 = trainModel(model4drop_list)\n",
    "#####\n",
    "print('Avg_Utilization_Ratio')\n",
    "model4drop_list = ['Card_Category', 'Months_on_book', 'Customer_Age', 'Gender', 'Credit_Limit']\n",
    "model4 = trainModel(model4drop_list)"
   ]
  },
  {
   "cell_type": "markdown",
   "metadata": {},
   "source": [
    "- Fifth Model\n",
    "    - ทดลองลดข้อมูลที่ตัดออก 1 ข้อมูลจากโมเดลที่ 4<br>\n",
    "        - ถ้าเก็บข้อมูล Card_Category ไว้จะทำให้ f1-score เพิ่มขึ้นจากเดิม 1% \n",
    "        - ถ้าเก็บข้อมูล Credit_Limit ไว้จะทำให้ precision เพิ่มขึ้นจากเดิม 1% แต่แลกมากับ recall ที่ลดลง 1%\n",
    "    "
   ]
  },
  {
   "cell_type": "code",
   "execution_count": null,
   "metadata": {},
   "outputs": [],
   "source": [
    "#####\n",
    "print('Card_Category')\n",
    "model5drop_list = ['Months_on_book', 'Customer_Age', 'Gender', 'Credit_Limit']\n",
    "model5 = trainModel(model5drop_list)\n",
    "#####\n",
    "print('Months_on_book')\n",
    "model5drop_list = ['Card_Category', 'Customer_Age', 'Gender', 'Credit_Limit']\n",
    "model5 = trainModel(model5drop_list)\n",
    "#####\n",
    "print('Customer_Age')\n",
    "model5drop_list = ['Card_Category', 'Months_on_book', 'Gender', 'Credit_Limit']\n",
    "model5 = trainModel(model5drop_list)\n",
    "#####\n",
    "print('Gender')\n",
    "model5drop_list = ['Card_Category', 'Months_on_book', 'Customer_Age', 'Credit_Limit']\n",
    "model5 = trainModel(model5drop_list)\n",
    "#####\n",
    "print('Credit_Limit')\n",
    "model5drop_list = ['Card_Category', 'Months_on_book', 'Customer_Age', 'Gender']\n",
    "model5 = trainModel(model5drop_list)"
   ]
  },
  {
   "cell_type": "markdown",
   "metadata": {},
   "source": [
    "- Sixth Model\n",
    "    - ทดลองลดข้อมูลที่ตัดออก 1 ข้อมูลจากโมเดลที่ 5<br>\n",
    "        - เมื่อเก็บข้อมูล Credit_Limit เอาไว้ precision และ recall เพิ่มขึ้น 1%"
   ]
  },
  {
   "cell_type": "code",
   "execution_count": null,
   "metadata": {},
   "outputs": [],
   "source": [
    "#####\n",
    "print('Months_on_book')\n",
    "model6drop_list = ['Customer_Age', 'Gender', 'Credit_Limit']\n",
    "model6 = trainModel(model6drop_list)\n",
    "#####\n",
    "print('Customer_Age')\n",
    "model6drop_list = ['Months_on_book', 'Gender', 'Credit_Limit']\n",
    "model6 = trainModel(model6drop_list)\n",
    "#####\n",
    "print('Gender')\n",
    "model6drop_list = ['Months_on_book', 'Customer_Age', 'Credit_Limit']\n",
    "model6 = trainModel(model6drop_list)\n",
    "#####\n",
    "print('Credit_Limit')\n",
    "model6drop_list = ['Months_on_book', 'Customer_Age', 'Gender']\n",
    "model6 = trainModel(model6drop_list)"
   ]
  },
  {
   "cell_type": "markdown",
   "metadata": {},
   "source": [
    "- Seventh Model\n",
    "    - ทดลองลดข้อมูลที่ตัดออก 1 ข้อมูลจากโมเดลที่ 6<br>\n",
    "        - ไม่มีโมเดลใดที่ทำให้ประสิทธิภาพของโมเดลดีขึ้น"
   ]
  },
  {
   "cell_type": "code",
   "execution_count": null,
   "metadata": {},
   "outputs": [],
   "source": [
    "#####\n",
    "print('Months_on_book')\n",
    "model6drop_list = ['Customer_Age', 'Gender']\n",
    "model6 = trainModel(model6drop_list)\n",
    "#####\n",
    "print('Customer_Age')\n",
    "model6drop_list = ['Months_on_book','Gender']\n",
    "model6 = trainModel(model6drop_list)\n",
    "#####\n",
    "print('Gender')\n",
    "model6drop_list = ['Months_on_book', 'Customer_Age']\n",
    "model6 = trainModel(model6drop_list)"
   ]
  },
  {
   "cell_type": "markdown",
   "metadata": {},
   "source": [
    "วิเคราะห์ข้อมูลที่เราไม่ควรตัดทิ้งจากการ explore data <br>\n",
    "\n",
    "- จาก list data columns ที่เลือกตัดซึ่งได้แก่\n",
    "    - Card_Category\n",
    "    - Avg_Open_To_Buy\n",
    "    - Months_on_book\n",
    "    - Customer_Age\n",
    "    - Gender\n",
    "    - Credit_Limit\n",
    "    - Avg_Utilization_Ratio\n",
    "<br>\n",
    "<br>\n",
    "\n",
    "- พบว่าข้อมูลที่ไม่ควรตัดออกได้แก่\n",
    "    - Credit_Limit\n",
    "    - Avg_Utilization_Ratio\n",
    "    - Avg_Open_To_Buy\n",
    "    - Card_Category"
   ]
  },
  {
   "cell_type": "code",
   "execution_count": null,
   "metadata": {},
   "outputs": [],
   "source": [
    "#explore_cut_data = ['Card_Category', 'Avg_Open_To_Buy', 'Months_on_book', 'Customer_Age', 'Gender', 'Credit_Limit', 'Avg_Utilization_Ratio']\n",
    "explore_cut_data = ['Card_Category', 'Avg_Open_To_Buy', 'Months_on_book', 'Customer_Age', 'Gender', 'Credit_Limit', 'Avg_Utilization_Ratio', 'Attrition_Flag']\n",
    "final_cut_data = ['Months_on_book', 'Customer_Age', 'Gender']\n",
    "keep_data = list(set(explore_cut_data) - set(final_cut_data))\n",
    "print('keep data: ' + str(keep_data))"
   ]
  },
  {
   "cell_type": "markdown",
   "metadata": {},
   "source": [
    "Plot กราฟหาความผิดพลาดจากการตัดข้อมูลที่ไม่ควรตัดออกพบว่า\n",
    "- ข้อมูล Credit_Limit เมื่อ plot กับ Total_Trans_Amt, Total_Trans_Ct เห็นการแบ่งกลุ่มของข้อมูล Output ซึ่งควรเป็นข้อมูลที่เก็บเอาไว้\n",
    "- ข้อมูล Avg_Utilization_Ratio เมื่อ plot กับ Credit_Limit, Avg_Open_To_Buy เห็นถึงความสัมพันธุ์ทางคณิตศาสตร์จริงแต่บริเวณขอบพบถึงการแบ่งกลุ่มของ Output ประเภท Attrited Customer ซึ่งอาจเป็นเหตุผลที่ส่งผลให้การมีข้อมูลประเภทนี้ส่งผลดีต่อโมเดล\n",
    "- ข้อมูล Card_Category เมื่อ plot กับ Total_Trans_Ct พบเห็นการแบ่งกลุ่มของ Output ได้อย่างดี"
   ]
  },
  {
   "cell_type": "code",
   "execution_count": null,
   "metadata": {},
   "outputs": [],
   "source": [
    "##### import dataset\n",
    "df = pd.read_csv('credit_card_churn.csv')\n",
    "df = df.drop(['Naive_Bayes_Classifier_Attrition_Flag_Card_Category_Contacts_Count_12_mon_Dependent_count_Education_Level_Months_Inactive_12_mon_1', 'Naive_Bayes_Classifier_Attrition_Flag_Card_Category_Contacts_Count_12_mon_Dependent_count_Education_Level_Months_Inactive_12_mon_2', 'CLIENTNUM'], axis=1)\n",
    "##### remove outlier\n",
    "df = df.loc[df['Customer_Age'] <= 66]\n",
    "df = df.loc[df['Total_Ct_Chng_Q4_Q1'] <= 1.6]\n",
    "df = df.loc[df['Months_Inactive_12_mon'] < 6]\n",
    "df = df.loc[df['Total_Amt_Chng_Q4_Q1'] <= 1.6]\n",
    "##### correct skewed data\n",
    "df['Credit_Limit'] = np.log10(df['Credit_Limit'])\n",
    "fitted_data, fitted_lambda = stats.boxcox(df['Avg_Open_To_Buy'])\n",
    "df['Avg_Open_To_Buy'] = fitted_data\n",
    "df['Total_Trans_Amt'] = np.log10(df['Total_Trans_Amt'])\n",
    "df['Avg_Utilization_Ratio'] = (df['Avg_Utilization_Ratio'])**(1/2)\n",
    "\n",
    "sns.jointplot(data = df, x = 'Credit_Limit', y = 'Total_Trans_Amt', hue = 'Attrition_Flag')\n",
    "plt.show()\n",
    "sns.jointplot(data = df, x = 'Credit_Limit', y = 'Total_Trans_Ct', hue = 'Attrition_Flag')\n",
    "plt.show()\n",
    "sns.jointplot(data = df, x = 'Avg_Utilization_Ratio', y = 'Credit_Limit', hue = 'Attrition_Flag')\n",
    "plt.show()\n",
    "sns.jointplot(data = df, x = 'Avg_Utilization_Ratio', y = 'Avg_Open_To_Buy', hue = 'Attrition_Flag')\n",
    "plt.show()\n",
    "sns.boxplot(data = df, x = 'Card_Category', y = 'Total_Trans_Ct', hue = 'Attrition_Flag')\n",
    "plt.show()\n"
   ]
  },
  {
   "cell_type": "markdown",
   "metadata": {},
   "source": [
    "##### Result and Analysis"
   ]
  },
  {
   "cell_type": "code",
   "execution_count": null,
   "metadata": {},
   "outputs": [],
   "source": [
    "final_data_list = ['Months_on_book', 'Customer_Age', 'Gender']\n",
    "final_model = trainModel(final_data_list)"
   ]
  },
  {
   "cell_type": "markdown",
   "metadata": {},
   "source": [
    "- จาก confusion matrix แสดงถึงซึ่งจำนวนของข้อมูลที่โมเดลทำนายเทียบกับข้อมูลจริงเพื่อเปรียบเทียบความถูกต้องและแม่นยำของโมเดล \n",
    "    โดยจาก การใช้ชุดข้อมูล จำนวน  988 ตัว โดยมี Existing Customer 860 คน และ Attried Customer 128 คน ผลลัพธ์จากการทดสอบโมเดลนี้สามารถ ทำนาย Existing Customer ได้ 804 คน ซึ่งทำนายผิดไป 56 คน\n",
    "    และทำนาย Attried Customer ได้ 109 และทำนายผิดไป 19 คน\n",
    "\n",
    "- ผลลัพธ์เมื่อพจารณาจาก Attried Customer ที่ได้คือ\n",
    "    - ค่า precision คือ 0.85 ที่มาจากค่าที่ได้จากการคำนวณอัตราส่วนของจำนวนข้อมูลที่โมเดลทำนายว่าเป็น Attried Customer ได้ถูกต้อง ต่อ จำนวนที่ข้อมูลที่ถูกทายว่า Attried Customer ทั้งหมด จาก Confusion matrix ซึ่งก็คือ $$\\frac{109}{19 + 109} = 85\\text{\\%} $$\n",
    "    - ค่า recall    คือ 0.66 ที่มาจากค่าที่ได้จากการคำนวณอัตราส่วนของจำนวนข้อมูลที่โมเดลทำนายว่าเป็น Attried Customer ได้ถูกต้อง ต่อ จำนวนที่ข้อมูลที่เป็น Attried Customer ในความเป็นจริง  จาก Confusion matrix ซึ่งก็คือ $$\\frac{109}{56 + 109} = 66\\text{\\%} $$\n",
    "    - ค่า f1-score  คือ 0.74  คือค่าเฉลี่ยระหว่างค่า recall และ precision คือ $$\\frac{2*0.85*0.66}{0.85 + 0.66} = 0.74 $$\n",
    "<br>\n",
    "<br>\n",
    "\n",
    "- ผลลัพธ์เมื่อพจารณาจาก Exsiting Customer ที่ได้คือ\n",
    "    - ค่า precision คือ 0.93 ที่มาจากค่าที่ได้จากคำนวณอัตราส่วนของจำนวนข้อมูลที่โมเดลทำนายว่าเป็น Exsiting Customer ได้ถูกต้อง ต่อ จำนวนที่ข้อมูลที่ถูกทายว่า  Exsiting Customer  ทั้งหมด จาก Confusion matrix ซึ่งก็คือ $$\\frac{804}{56 + 804} = 93\\text{\\%} $$\n",
    "    - ค่า recall    คือ 0.98 ที่มาจากค่าที่ได้จากคำนวณอัตราส่วนของจำนวนข้อมูลที่โมเดลทำนายว่าเป็น Exsiting Customer ได้ถูกต้อง ต่อ จำนวนที่ข้อมูลที่เป็น Exsiting Customer ในความเป็นจริง จาก Confusion matrix ซึ่งก็คือ $$\\frac{804}{19 + 804} = 98\\text{\\%} $$\n",
    "    - ค่า f1-score  คือ 0.96 คือค่าเฉลี่ยระหว่างค่า recall และ precision คือ $$\\frac{2*0.0.93*0.98}{0.93 + 0.98} = 0.96 $$\n",
    "<br>\n",
    "<br>\n",
    "\n",
    "- ซึ่งสาเหตุที่โมเดลมีค่า precision และ recall ของ Existing Customer สูงกว่า Attried Cunstomer เพราะว่า ชุดข้อมูลที่ใช้ได้การเทรนมีความไม่สมดุลกันระหว่าง Existing Customer และ Attried Cunstomer\n",
    "ทำให้ model สามารถทำนายข้อมูลที่เป็น Existing Customer  เพราะ ข้อมูลที่เป็นExisting Customer มีมากกว่า แต่หากเรานำโมเดลนี้ไปใช้กับชุดข้อมูลอื่นๆ ที่มีความสมดุลมากกว่านี้อาจทำให้ความเป็นยำของโมเดลมีค่าลดลง\n",
    "\n",
    "- เนื่องจากจุดประสงค์ของการทำโมเดลคือการสร้างโมเดลที่สามารถทำนายกลุ่มลูกค้าที่เลิกใช้บัตรเครดิต <br>\n",
    " เราจึงเลือกที่จะพิจารณา Classification Report และ Confusion Matrix เฉพาะในส่วนของ Attried Customer ซึ่งเป็นกลุ่มที่เราสนใจ\n",
    " ในการเลือกโมเดล ่วาโมเดลใดมีประสิธิภาพและเหมาะที่จะนำมาใช้มากที่สุด \n"
   ]
  },
  {
   "cell_type": "markdown",
   "metadata": {},
   "source": [
    "การพิจารณาเลือก model ขึ้นอยู่กับจุประสงค์ของผู้ใช้ซึ่งก็คือธนาคารผู้ให้บริการบัตรเครดิต \n",
    "ว่าจะเลือกใช้โมเดลที่เน้นค้า precision สูง หรือค่า recall สูง\n",
    "\n",
    "- หากต้องการที่จะหาลูกค้าได้อย่างแม่นยำและไม่อยากสูญเสียทุนในการกระตุ้นลูกค้าให้กลับมาใช้บัตรเครดิตให้กับคนที่ใช้บัตรอยู่แล้ว ก็จะต้องเลือกพิจารณาเลือก โมเดลที่มีค่า Precision สูง \n",
    "เพราะเป็นการเทียบจำนวนการทายว่าเป็น Attried Customer ได้อย่างถูกต้องกับจำนวนที่ถูกทายว่าเป็น Attried Customer ทั้งหมดโดยไม่สนใจจำนวนข้อมูลที่ถูกทายว่าไม่ได้เป็น Attried Customer ทั้งๆที่ใช่\n",
    "\n",
    "- หรือว่าหากต้องการที่จะหาลูกค้าได้อย่างแม่นยำโดย ไม่อยากสูญเสียโอกาสที่จะเจอ และไม่คำนึงถึงต้นทุนที่ใช้ในการกระตุ้นลูกค้า ก็ควรเลือกพิจารณาเลือกโมเดลที่มีค่า Recall สูง เพราะเป็นการเทียบจำนวนการทายว่าเป็น Attried Customer ได้อย่างถูกต้อง เทียบกับ จำนวนของข้อมูลที่เป้น Attried Customer จริงและไม่สนใจข้อมูลที่ถูกมายว่าเป็น Attried Customer ทั้งๆที่ใม่ใช่\n",
    "\n"
   ]
  }
 ],
 "metadata": {
  "kernelspec": {
   "display_name": "Python 3.7.9 ('FRA503': venv)",
   "language": "python",
   "name": "python3"
  },
  "language_info": {
   "codemirror_mode": {
    "name": "ipython",
    "version": 3
   },
   "file_extension": ".py",
   "mimetype": "text/x-python",
   "name": "python",
   "nbconvert_exporter": "python",
   "pygments_lexer": "ipython3",
   "version": "3.7.9"
  },
  "orig_nbformat": 4,
  "vscode": {
   "interpreter": {
    "hash": "64dadede5b611bea0003f916b3ffa8d6ffd0cb12e9e46b2f5e54ff5aa5c7df92"
   }
  }
 },
 "nbformat": 4,
 "nbformat_minor": 2
}
