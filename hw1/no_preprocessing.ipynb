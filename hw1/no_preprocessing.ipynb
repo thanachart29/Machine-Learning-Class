{
 "cells": [
  {
   "cell_type": "code",
   "execution_count": 1,
   "metadata": {},
   "outputs": [],
   "source": [
    "import pandas as pd\n",
    "import seaborn as sns\n",
    "import matplotlib.pyplot as plt\n",
    "import numpy as np\n",
    "from scipy import stats\n",
    "\n",
    "df = pd.read_csv('credit_card_churn.csv')\n",
    "df = df.drop(['Naive_Bayes_Classifier_Attrition_Flag_Card_Category_Contacts_Count_12_mon_Dependent_count_Education_Level_Months_Inactive_12_mon_1', 'Naive_Bayes_Classifier_Attrition_Flag_Card_Category_Contacts_Count_12_mon_Dependent_count_Education_Level_Months_Inactive_12_mon_2', 'CLIENTNUM'], axis=1)\n",
    "cols = df.columns\n",
    "num_data = list(df._get_numeric_data().columns)\n",
    "cat_data = list(set(cols) - set(num_data))\n",
    "num_data.remove('Dependent_count')\n",
    "num_data.remove('Total_Relationship_Count')\n",
    "num_data.remove('Months_Inactive_12_mon')\n",
    "num_data.remove('Contacts_Count_12_mon')\n",
    "cat_data.append('Dependent_count')\n",
    "cat_data.append('Total_Relationship_Count')\n",
    "cat_data.append('Months_Inactive_12_mon')\n",
    "cat_data.append('Contacts_Count_12_mon')\n",
    "num_data_plot = num_data\n",
    "cat_data_plot = cat_data\n",
    "\n",
    "df = df.loc[df['Card_Category'] != 'Platinum']\n",
    "df = df.loc[df['Total_Ct_Chng_Q4_Q1'] <= 1.6]\n",
    "df = df.loc[df['Months_Inactive_12_mon'] >= 1]\n",
    "df = df.loc[df['Months_Inactive_12_mon'] < 6]\n",
    "df = df.loc[df['Customer_Age'] <= 66]\n",
    "df = df.loc[df['Total_Amt_Chng_Q4_Q1'] <= 1.5]\n",
    "df['Credit_Limit'] = np.log10(df['Credit_Limit'])\n",
    "fitted_data, fitted_lambda = stats.boxcox(df['Avg_Open_To_Buy'])\n",
    "df['Avg_Open_To_Buy'] = fitted_data\n",
    "df['Total_Trans_Amt'] = np.log10(df['Total_Trans_Amt'])\n",
    "df['Avg_Utilization_Ratio'] = (df['Avg_Utilization_Ratio'])**(1/2)\n",
    "y = df['Attrition_Flag']\n",
    "x = df.drop(['Attrition_Flag'], axis=1)\n",
    "x = pd.get_dummies(x)\n",
    "y = y.replace(['Existing Customer', 'Attrited Customer'], [1, 0])"
   ]
  },
  {
   "cell_type": "code",
   "execution_count": 2,
   "metadata": {},
   "outputs": [],
   "source": [
    "from sklearn.preprocessing import MinMaxScaler\n",
    "from sklearn.model_selection import train_test_split\n",
    "\n",
    "x = x.values\n",
    "y = y.values\n",
    "scaler = MinMaxScaler()\n",
    "x_scaled = scaler.fit_transform(x)\n",
    "x_train,x_test,y_train,y_test = train_test_split(x_scaled, y, test_size = 0.1, random_state = 1)\n"
   ]
  },
  {
   "cell_type": "code",
   "execution_count": 3,
   "metadata": {},
   "outputs": [
    {
     "name": "stderr",
     "output_type": "stream",
     "text": [
      "c:\\Users\\thana\\Desktop\\TheShit\\FRA503\\lib\\site-packages\\sklearn\\linear_model\\_sag.py:354: ConvergenceWarning: The max_iter was reached which means the coef_ did not converge\n",
      "  ConvergenceWarning,\n",
      "c:\\Users\\thana\\Desktop\\TheShit\\FRA503\\lib\\site-packages\\sklearn\\linear_model\\_sag.py:354: ConvergenceWarning: The max_iter was reached which means the coef_ did not converge\n",
      "  ConvergenceWarning,\n",
      "c:\\Users\\thana\\Desktop\\TheShit\\FRA503\\lib\\site-packages\\sklearn\\linear_model\\_sag.py:354: ConvergenceWarning: The max_iter was reached which means the coef_ did not converge\n",
      "  ConvergenceWarning,\n",
      "c:\\Users\\thana\\Desktop\\TheShit\\FRA503\\lib\\site-packages\\sklearn\\linear_model\\_sag.py:354: ConvergenceWarning: The max_iter was reached which means the coef_ did not converge\n",
      "  ConvergenceWarning,\n",
      "c:\\Users\\thana\\Desktop\\TheShit\\FRA503\\lib\\site-packages\\sklearn\\linear_model\\_sag.py:354: ConvergenceWarning: The max_iter was reached which means the coef_ did not converge\n",
      "  ConvergenceWarning,\n",
      "c:\\Users\\thana\\Desktop\\TheShit\\FRA503\\lib\\site-packages\\sklearn\\linear_model\\_sag.py:354: ConvergenceWarning: The max_iter was reached which means the coef_ did not converge\n",
      "  ConvergenceWarning,\n",
      "c:\\Users\\thana\\Desktop\\TheShit\\FRA503\\lib\\site-packages\\sklearn\\linear_model\\_sag.py:354: ConvergenceWarning: The max_iter was reached which means the coef_ did not converge\n",
      "  ConvergenceWarning,\n",
      "c:\\Users\\thana\\Desktop\\TheShit\\FRA503\\lib\\site-packages\\sklearn\\linear_model\\_sag.py:354: ConvergenceWarning: The max_iter was reached which means the coef_ did not converge\n",
      "  ConvergenceWarning,\n",
      "c:\\Users\\thana\\Desktop\\TheShit\\FRA503\\lib\\site-packages\\sklearn\\linear_model\\_sag.py:354: ConvergenceWarning: The max_iter was reached which means the coef_ did not converge\n",
      "  ConvergenceWarning,\n",
      "c:\\Users\\thana\\Desktop\\TheShit\\FRA503\\lib\\site-packages\\sklearn\\linear_model\\_sag.py:354: ConvergenceWarning: The max_iter was reached which means the coef_ did not converge\n",
      "  ConvergenceWarning,\n",
      "c:\\Users\\thana\\Desktop\\TheShit\\FRA503\\lib\\site-packages\\sklearn\\linear_model\\_sag.py:354: ConvergenceWarning: The max_iter was reached which means the coef_ did not converge\n",
      "  ConvergenceWarning,\n",
      "c:\\Users\\thana\\Desktop\\TheShit\\FRA503\\lib\\site-packages\\sklearn\\linear_model\\_sag.py:354: ConvergenceWarning: The max_iter was reached which means the coef_ did not converge\n",
      "  ConvergenceWarning,\n",
      "c:\\Users\\thana\\Desktop\\TheShit\\FRA503\\lib\\site-packages\\sklearn\\linear_model\\_sag.py:354: ConvergenceWarning: The max_iter was reached which means the coef_ did not converge\n",
      "  ConvergenceWarning,\n",
      "c:\\Users\\thana\\Desktop\\TheShit\\FRA503\\lib\\site-packages\\sklearn\\linear_model\\_sag.py:354: ConvergenceWarning: The max_iter was reached which means the coef_ did not converge\n",
      "  ConvergenceWarning,\n",
      "c:\\Users\\thana\\Desktop\\TheShit\\FRA503\\lib\\site-packages\\sklearn\\linear_model\\_sag.py:354: ConvergenceWarning: The max_iter was reached which means the coef_ did not converge\n",
      "  ConvergenceWarning,\n",
      "c:\\Users\\thana\\Desktop\\TheShit\\FRA503\\lib\\site-packages\\sklearn\\linear_model\\_sag.py:354: ConvergenceWarning: The max_iter was reached which means the coef_ did not converge\n",
      "  ConvergenceWarning,\n",
      "c:\\Users\\thana\\Desktop\\TheShit\\FRA503\\lib\\site-packages\\sklearn\\linear_model\\_sag.py:354: ConvergenceWarning: The max_iter was reached which means the coef_ did not converge\n",
      "  ConvergenceWarning,\n",
      "c:\\Users\\thana\\Desktop\\TheShit\\FRA503\\lib\\site-packages\\sklearn\\linear_model\\_sag.py:354: ConvergenceWarning: The max_iter was reached which means the coef_ did not converge\n",
      "  ConvergenceWarning,\n",
      "c:\\Users\\thana\\Desktop\\TheShit\\FRA503\\lib\\site-packages\\sklearn\\linear_model\\_sag.py:354: ConvergenceWarning: The max_iter was reached which means the coef_ did not converge\n",
      "  ConvergenceWarning,\n"
     ]
    },
    {
     "data": {
      "text/plain": [
       "GridSearchCV(estimator=LogisticRegression(),\n",
       "             param_grid={'C': [0.01, 0.1, 1, 10, 100],\n",
       "                         'solver': ('newton-cg', 'liblinear', 'sag', 'saga')},\n",
       "             scoring='f1')"
      ]
     },
     "execution_count": 3,
     "metadata": {},
     "output_type": "execute_result"
    }
   ],
   "source": [
    "from sklearn.model_selection import GridSearchCV\n",
    "from sklearn.linear_model import LogisticRegression\n",
    "\n",
    "parameters = {'C':[0.01, 0.1, 1, 10, 100],\n",
    "                'solver':('newton-cg', 'liblinear', 'sag', 'saga')}\n",
    "logisReg = LogisticRegression()\n",
    "clf = GridSearchCV(logisReg, parameters, scoring='f1')\n",
    "clf.fit(x_train, y_train)"
   ]
  },
  {
   "cell_type": "code",
   "execution_count": 4,
   "metadata": {},
   "outputs": [
    {
     "name": "stdout",
     "output_type": "stream",
     "text": [
      "{'C': 100, 'solver': 'liblinear'}\n",
      "              precision    recall  f1-score   support\n",
      "\n",
      "           0       0.79      0.63      0.70       154\n",
      "           1       0.93      0.97      0.95       825\n",
      "\n",
      "    accuracy                           0.92       979\n",
      "   macro avg       0.86      0.80      0.83       979\n",
      "weighted avg       0.91      0.92      0.91       979\n",
      "\n"
     ]
    }
   ],
   "source": [
    "from sklearn.metrics import classification_report\n",
    "print(clf.best_params_)\n",
    "y_pred = clf.predict(x_test)\n",
    "print(classification_report(y_test, y_pred))"
   ]
  },
  {
   "cell_type": "code",
   "execution_count": null,
   "metadata": {},
   "outputs": [],
   "source": []
  }
 ],
 "metadata": {
  "kernelspec": {
   "display_name": "Python 3.7.9 ('FRA503': venv)",
   "language": "python",
   "name": "python3"
  },
  "language_info": {
   "codemirror_mode": {
    "name": "ipython",
    "version": 3
   },
   "file_extension": ".py",
   "mimetype": "text/x-python",
   "name": "python",
   "nbconvert_exporter": "python",
   "pygments_lexer": "ipython3",
   "version": "3.7.9"
  },
  "orig_nbformat": 4,
  "vscode": {
   "interpreter": {
    "hash": "64dadede5b611bea0003f916b3ffa8d6ffd0cb12e9e46b2f5e54ff5aa5c7df92"
   }
  }
 },
 "nbformat": 4,
 "nbformat_minor": 2
}
