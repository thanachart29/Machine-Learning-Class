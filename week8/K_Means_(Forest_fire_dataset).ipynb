{
  "nbformat": 4,
  "nbformat_minor": 0,
  "metadata": {
    "colab": {
      "provenance": [],
      "collapsed_sections": []
    },
    "kernelspec": {
      "name": "python3",
      "display_name": "Python 3"
    },
    "language_info": {
      "name": "python"
    }
  },
  "cells": [
    {
      "cell_type": "code",
      "metadata": {
        "id": "jGNv2Rcgy30b"
      },
      "source": [
        "# import library\n",
        "import pandas as pd\n",
        "import numpy as np\n",
        "from matplotlib import pyplot as plt"
      ],
      "execution_count": 1,
      "outputs": []
    },
    {
      "cell_type": "code",
      "metadata": {
        "colab": {
          "base_uri": "https://localhost:8080/",
          "height": 457
        },
        "id": "qFy93NTOptrI",
        "outputId": "87c78562-3536-4aa7-c1b2-1e19ac224412"
      },
      "source": [
        "#Example\n",
        "#Dataset\n",
        "#https://raw.githubusercontent.com/adminho/machine-learning/master/Datasets/forest_fires.csv\n",
        "df = pd.read_csv(\"https://raw.githubusercontent.com/adminho/machine-learning/master/Datasets/forest_fires.csv\")\n",
        "df"
      ],
      "execution_count": 2,
      "outputs": [
        {
          "output_type": "execute_result",
          "data": {
            "text/plain": [
              "    Temperature  Humidity Fires\n",
              "0          22.8        40    No\n",
              "1          29.6        27   Yes\n",
              "2          17.8        51    No\n",
              "3          19.3        38    No\n",
              "4          28.6        27   Yes\n",
              "5          17.8        56   Yes\n",
              "6          17.7        25   Yes\n",
              "7          18.2        46   Yes\n",
              "8          25.1        27    No\n",
              "9          30.2        24    No\n",
              "10         19.6        48    No\n",
              "11         24.1        29    No\n",
              "12         20.3        45    No"
            ],
            "text/html": [
              "\n",
              "  <div id=\"df-b089b372-7ddf-49c1-a733-77a57dc2f5c4\">\n",
              "    <div class=\"colab-df-container\">\n",
              "      <div>\n",
              "<style scoped>\n",
              "    .dataframe tbody tr th:only-of-type {\n",
              "        vertical-align: middle;\n",
              "    }\n",
              "\n",
              "    .dataframe tbody tr th {\n",
              "        vertical-align: top;\n",
              "    }\n",
              "\n",
              "    .dataframe thead th {\n",
              "        text-align: right;\n",
              "    }\n",
              "</style>\n",
              "<table border=\"1\" class=\"dataframe\">\n",
              "  <thead>\n",
              "    <tr style=\"text-align: right;\">\n",
              "      <th></th>\n",
              "      <th>Temperature</th>\n",
              "      <th>Humidity</th>\n",
              "      <th>Fires</th>\n",
              "    </tr>\n",
              "  </thead>\n",
              "  <tbody>\n",
              "    <tr>\n",
              "      <th>0</th>\n",
              "      <td>22.8</td>\n",
              "      <td>40</td>\n",
              "      <td>No</td>\n",
              "    </tr>\n",
              "    <tr>\n",
              "      <th>1</th>\n",
              "      <td>29.6</td>\n",
              "      <td>27</td>\n",
              "      <td>Yes</td>\n",
              "    </tr>\n",
              "    <tr>\n",
              "      <th>2</th>\n",
              "      <td>17.8</td>\n",
              "      <td>51</td>\n",
              "      <td>No</td>\n",
              "    </tr>\n",
              "    <tr>\n",
              "      <th>3</th>\n",
              "      <td>19.3</td>\n",
              "      <td>38</td>\n",
              "      <td>No</td>\n",
              "    </tr>\n",
              "    <tr>\n",
              "      <th>4</th>\n",
              "      <td>28.6</td>\n",
              "      <td>27</td>\n",
              "      <td>Yes</td>\n",
              "    </tr>\n",
              "    <tr>\n",
              "      <th>5</th>\n",
              "      <td>17.8</td>\n",
              "      <td>56</td>\n",
              "      <td>Yes</td>\n",
              "    </tr>\n",
              "    <tr>\n",
              "      <th>6</th>\n",
              "      <td>17.7</td>\n",
              "      <td>25</td>\n",
              "      <td>Yes</td>\n",
              "    </tr>\n",
              "    <tr>\n",
              "      <th>7</th>\n",
              "      <td>18.2</td>\n",
              "      <td>46</td>\n",
              "      <td>Yes</td>\n",
              "    </tr>\n",
              "    <tr>\n",
              "      <th>8</th>\n",
              "      <td>25.1</td>\n",
              "      <td>27</td>\n",
              "      <td>No</td>\n",
              "    </tr>\n",
              "    <tr>\n",
              "      <th>9</th>\n",
              "      <td>30.2</td>\n",
              "      <td>24</td>\n",
              "      <td>No</td>\n",
              "    </tr>\n",
              "    <tr>\n",
              "      <th>10</th>\n",
              "      <td>19.6</td>\n",
              "      <td>48</td>\n",
              "      <td>No</td>\n",
              "    </tr>\n",
              "    <tr>\n",
              "      <th>11</th>\n",
              "      <td>24.1</td>\n",
              "      <td>29</td>\n",
              "      <td>No</td>\n",
              "    </tr>\n",
              "    <tr>\n",
              "      <th>12</th>\n",
              "      <td>20.3</td>\n",
              "      <td>45</td>\n",
              "      <td>No</td>\n",
              "    </tr>\n",
              "  </tbody>\n",
              "</table>\n",
              "</div>\n",
              "      <button class=\"colab-df-convert\" onclick=\"convertToInteractive('df-b089b372-7ddf-49c1-a733-77a57dc2f5c4')\"\n",
              "              title=\"Convert this dataframe to an interactive table.\"\n",
              "              style=\"display:none;\">\n",
              "        \n",
              "  <svg xmlns=\"http://www.w3.org/2000/svg\" height=\"24px\"viewBox=\"0 0 24 24\"\n",
              "       width=\"24px\">\n",
              "    <path d=\"M0 0h24v24H0V0z\" fill=\"none\"/>\n",
              "    <path d=\"M18.56 5.44l.94 2.06.94-2.06 2.06-.94-2.06-.94-.94-2.06-.94 2.06-2.06.94zm-11 1L8.5 8.5l.94-2.06 2.06-.94-2.06-.94L8.5 2.5l-.94 2.06-2.06.94zm10 10l.94 2.06.94-2.06 2.06-.94-2.06-.94-.94-2.06-.94 2.06-2.06.94z\"/><path d=\"M17.41 7.96l-1.37-1.37c-.4-.4-.92-.59-1.43-.59-.52 0-1.04.2-1.43.59L10.3 9.45l-7.72 7.72c-.78.78-.78 2.05 0 2.83L4 21.41c.39.39.9.59 1.41.59.51 0 1.02-.2 1.41-.59l7.78-7.78 2.81-2.81c.8-.78.8-2.07 0-2.86zM5.41 20L4 18.59l7.72-7.72 1.47 1.35L5.41 20z\"/>\n",
              "  </svg>\n",
              "      </button>\n",
              "      \n",
              "  <style>\n",
              "    .colab-df-container {\n",
              "      display:flex;\n",
              "      flex-wrap:wrap;\n",
              "      gap: 12px;\n",
              "    }\n",
              "\n",
              "    .colab-df-convert {\n",
              "      background-color: #E8F0FE;\n",
              "      border: none;\n",
              "      border-radius: 50%;\n",
              "      cursor: pointer;\n",
              "      display: none;\n",
              "      fill: #1967D2;\n",
              "      height: 32px;\n",
              "      padding: 0 0 0 0;\n",
              "      width: 32px;\n",
              "    }\n",
              "\n",
              "    .colab-df-convert:hover {\n",
              "      background-color: #E2EBFA;\n",
              "      box-shadow: 0px 1px 2px rgba(60, 64, 67, 0.3), 0px 1px 3px 1px rgba(60, 64, 67, 0.15);\n",
              "      fill: #174EA6;\n",
              "    }\n",
              "\n",
              "    [theme=dark] .colab-df-convert {\n",
              "      background-color: #3B4455;\n",
              "      fill: #D2E3FC;\n",
              "    }\n",
              "\n",
              "    [theme=dark] .colab-df-convert:hover {\n",
              "      background-color: #434B5C;\n",
              "      box-shadow: 0px 1px 3px 1px rgba(0, 0, 0, 0.15);\n",
              "      filter: drop-shadow(0px 1px 2px rgba(0, 0, 0, 0.3));\n",
              "      fill: #FFFFFF;\n",
              "    }\n",
              "  </style>\n",
              "\n",
              "      <script>\n",
              "        const buttonEl =\n",
              "          document.querySelector('#df-b089b372-7ddf-49c1-a733-77a57dc2f5c4 button.colab-df-convert');\n",
              "        buttonEl.style.display =\n",
              "          google.colab.kernel.accessAllowed ? 'block' : 'none';\n",
              "\n",
              "        async function convertToInteractive(key) {\n",
              "          const element = document.querySelector('#df-b089b372-7ddf-49c1-a733-77a57dc2f5c4');\n",
              "          const dataTable =\n",
              "            await google.colab.kernel.invokeFunction('convertToInteractive',\n",
              "                                                     [key], {});\n",
              "          if (!dataTable) return;\n",
              "\n",
              "          const docLinkHtml = 'Like what you see? Visit the ' +\n",
              "            '<a target=\"_blank\" href=https://colab.research.google.com/notebooks/data_table.ipynb>data table notebook</a>'\n",
              "            + ' to learn more about interactive tables.';\n",
              "          element.innerHTML = '';\n",
              "          dataTable['output_type'] = 'display_data';\n",
              "          await google.colab.output.renderOutput(dataTable, element);\n",
              "          const docLink = document.createElement('div');\n",
              "          docLink.innerHTML = docLinkHtml;\n",
              "          element.appendChild(docLink);\n",
              "        }\n",
              "      </script>\n",
              "    </div>\n",
              "  </div>\n",
              "  "
            ]
          },
          "metadata": {},
          "execution_count": 2
        }
      ]
    },
    {
      "cell_type": "code",
      "metadata": {
        "colab": {
          "base_uri": "https://localhost:8080/",
          "height": 350
        },
        "id": "WTSisETspvHh",
        "outputId": "65d32801-b6d6-4abf-faa3-1583710c2083"
      },
      "source": [
        "#plot results\n",
        "GroupNo = df[df['Fires']=='No']\n",
        "GroupYes = df[df['Fires']=='Yes']\n",
        "plt.figure(figsize=(5,5))\n",
        "plt.title(\"Is fires or not\")\n",
        "plt.scatter(GroupNo['Temperature'],GroupNo['Humidity'],color='green',marker = 'o',label='No fires')\n",
        "plt.scatter(GroupYes['Temperature'],GroupYes['Humidity'],color='red',marker = 'x',label='Fires')\n",
        "plt.xlabel('Temperature')\n",
        "plt.ylabel('Humidity')\n",
        "plt.legend(loc='upper right')\n",
        "plt.show()"
      ],
      "execution_count": 3,
      "outputs": [
        {
          "output_type": "display_data",
          "data": {
            "text/plain": [
              "<Figure size 360x360 with 1 Axes>"
            ],
            "image/png": "[encoded data removed]"
          },
          "metadata": {
            "needs_background": "light"
          }
        }
      ]
    },
    {
      "cell_type": "code",
      "source": [
        "#plot results\n",
        "GroupNo = df[df['Fires']=='No']\n",
        "GroupYes = df[df['Fires']=='Yes']\n",
        "plt.figure(figsize=(5,5))\n",
        "plt.title(\"Is fires or not\")\n",
        "plt.scatter(GroupNo['Temperature'],GroupNo['Humidity'],color='red',marker = 'o')\n",
        "plt.scatter(GroupYes['Temperature'],GroupYes['Humidity'],color='red',marker = 'o')\n",
        "plt.xlabel('Temperature')\n",
        "plt.ylabel('Humidity')\n",
        "plt.legend(loc='upper right')\n",
        "plt.show()"
      ],
      "metadata": {
        "colab": {
          "base_uri": "https://localhost:8080/",
          "height": 367
        },
        "id": "fO92H2gcCYpY",
        "outputId": "105c820d-32b0-45f1-cce7-c354e7965223"
      },
      "execution_count": 4,
      "outputs": [
        {
          "output_type": "stream",
          "name": "stderr",
          "text": [
            "WARNING:matplotlib.legend:No handles with labels found to put in legend.\n"
          ]
        },
        {
          "output_type": "display_data",
          "data": {
            "text/plain": [
              "<Figure size 360x360 with 1 Axes>"
            ],
            "image/png": "[encoded data removed]"
          },
          "metadata": {
            "needs_background": "light"
          }
        }
      ]
    },
    {
      "cell_type": "code",
      "metadata": {
        "id": "xjEc1MT9qyRW"
      },
      "source": [
        "#import machine learning library\n",
        "from sklearn.cluster import KMeans"
      ],
      "execution_count": 5,
      "outputs": []
    },
    {
      "cell_type": "code",
      "metadata": {
        "id": "ZTNyfJW8pNBZ"
      },
      "source": [
        "kmeans = KMeans(n_clusters=2, random_state=1,)"
      ],
      "execution_count": 6,
      "outputs": []
    },
    {
      "cell_type": "code",
      "metadata": {
        "id": "pPbO_vzfpfGJ"
      },
      "source": [
        "model = kmeans.fit(df[['Temperature','Humidity']])"
      ],
      "execution_count": 7,
      "outputs": []
    },
    {
      "cell_type": "code",
      "metadata": {
        "colab": {
          "base_uri": "https://localhost:8080/"
        },
        "id": "b90_8J8Krvbm",
        "outputId": "494001d5-7d21-4dc5-c1a5-9507415ef57d"
      },
      "source": [
        "from sklearn import metrics\n",
        "labels = model.labels_\n",
        "labels"
      ],
      "execution_count": 8,
      "outputs": [
        {
          "output_type": "execute_result",
          "data": {
            "text/plain": [
              "array([0, 1, 0, 0, 1, 0, 1, 0, 1, 1, 0, 1, 0], dtype=int32)"
            ]
          },
          "metadata": {},
          "execution_count": 8
        }
      ]
    },
    {
      "cell_type": "code",
      "source": [
        "metrics.silhouette_score(df[['Temperature','Humidity']], labels, metric='euclidean')"
      ],
      "metadata": {
        "colab": {
          "base_uri": "https://localhost:8080/"
        },
        "id": "6If0gIa2_4wU",
        "outputId": "6d395716-8d72-479a-9928-81b2da470c22"
      },
      "execution_count": 9,
      "outputs": [
        {
          "output_type": "execute_result",
          "data": {
            "text/plain": [
              "0.6448316893338306"
            ]
          },
          "metadata": {},
          "execution_count": 9
        }
      ]
    },
    {
      "cell_type": "code",
      "metadata": {
        "colab": {
          "base_uri": "https://localhost:8080/"
        },
        "id": "wqRUusW_rcOU",
        "outputId": "88545070-eed8-4ed0-d1ba-7d5665cab3c2"
      },
      "source": [
        "#New data\n",
        "new_temperature = 25.1 \n",
        "new_humidity = 33\n",
        "\n",
        "answer = model.predict([[new_temperature,new_humidity]])\n",
        "print(\"The answer is\",answer[0])"
      ],
      "execution_count": 10,
      "outputs": [
        {
          "output_type": "stream",
          "name": "stdout",
          "text": [
            "The answer is 1\n"
          ]
        },
        {
          "output_type": "stream",
          "name": "stderr",
          "text": [
            "/usr/local/lib/python3.7/dist-packages/sklearn/base.py:451: UserWarning: X does not have valid feature names, but KMeans was fitted with feature names\n",
            "  \"X does not have valid feature names, but\"\n"
          ]
        }
      ]
    },
    {
      "cell_type": "code",
      "metadata": {
        "colab": {
          "base_uri": "https://localhost:8080/"
        },
        "id": "0QLvUvbgtF8m",
        "outputId": "89d7b139-6b88-4907-99e9-83ac9503cbdd"
      },
      "source": [
        "#Calcutate distance\n",
        "def get_distance(X,Y,x_point,y_point):\n",
        "  return np.sort(np.sqrt((X-x_point)**2 + (Y-y_point)**2))\n",
        "distance = get_distance(df['Temperature'],df['Humidity'],new_temperature,new_humidity)\n",
        "distance"
      ],
      "execution_count": 11,
      "outputs": [
        {
          "output_type": "execute_result",
          "data": {
            "text/plain": [
              "array([ 4.12310563,  6.        ,  6.94622199,  7.36817481,  7.5       ,\n",
              "        7.65767589, 10.34456379, 10.89770618, 12.92439554, 14.71767645,\n",
              "       15.97654531, 19.42395428, 24.13068586])"
            ]
          },
          "metadata": {},
          "execution_count": 11
        }
      ]
    },
    {
      "cell_type": "code",
      "metadata": {
        "colab": {
          "base_uri": "https://localhost:8080/",
          "height": 312
        },
        "id": "_FyqYXWvwYNN",
        "outputId": "134d0dbb-b942-4924-b290-1be00b0ce680"
      },
      "source": [
        "#Plot results\n",
        "Cluster0 = df[model.labels_ == 0]\n",
        "Cluster1 = df[model.labels_ == 1]\n",
        "\n",
        "cx1,cy1 = model.cluster_centers_[0]\n",
        "cx2,cy2 = model.cluster_centers_[1]\n",
        "\n",
        "distance1 = get_distance(Cluster0['Temperature'],Cluster0['Humidity'],cx1,cy1)\n",
        "distance2 = get_distance(Cluster1['Temperature'],Cluster1['Humidity'],cx2,cy2)\n",
        "\n",
        "radious1 = max(distance1)\n",
        "radious2 = max(distance2)\n",
        "\n",
        "plt.title(\"Is fires or not\")\n",
        "plt.xlabel('Temperature')\n",
        "plt.ylabel('Humidity')\n",
        "plt.axis('equal')\n",
        "\n",
        "circle1 = plt.Circle((cx1,cy1),radious1,alpha=0.2,color='b')\n",
        "plt.gcf().gca().add_artist(circle1)\n",
        "circle2 = plt.Circle((cx2,cy2),radious2,alpha=0.2,color='r')\n",
        "plt.gcf().gca().add_artist(circle2)\n",
        "\n",
        "plt.scatter(new_temperature,new_humidity,c='g',label = 'New data')\n",
        "plt.scatter(Cluster0['Temperature'],Cluster0['Humidity'],c='b',label = 'Cluster 0')\n",
        "plt.scatter(Cluster1['Temperature'],Cluster1['Humidity'],c='r',label = 'Cluster 1')\n",
        "plt.scatter(cx1,cy1,c='b',marker='+',label='Centroid 0')\n",
        "plt.scatter(cx2,cy2,c='r',marker='+',label='Centroid 1')\n",
        "plt.legend()"
      ],
      "execution_count": 12,
      "outputs": [
        {
          "output_type": "execute_result",
          "data": {
            "text/plain": [
              "<matplotlib.legend.Legend at 0x7f9d61323450>"
            ]
          },
          "metadata": {},
          "execution_count": 12
        },
        {
          "output_type": "display_data",
          "data": {
            "text/plain": [
              "<Figure size 432x288 with 1 Axes>"
            ],
            "image/png": "[encoded data removed]"
          },
          "metadata": {
            "needs_background": "light"
          }
        }
      ]
    },
    {
      "cell_type": "code",
      "metadata": {
        "colab": {
          "base_uri": "https://localhost:8080/"
        },
        "id": "F-POVRk9vOXE",
        "outputId": "ba9562b4-77e9-40af-fbcd-4d110b5f24a7"
      },
      "source": [
        "Num_K = [i+2 for i in range(9)]\n",
        "silhouette_coef = []\n",
        "\n",
        "for k in Num_K:\n",
        "  kmeans = KMeans(n_clusters=k, random_state=1,)\n",
        "  model = kmeans.fit(df[['Temperature','Humidity']])\n",
        "  labels = model.labels_\n",
        "  silhouette_coef.append(metrics.silhouette_score(df[['Temperature','Humidity']], labels, metric='euclidean'))\n",
        "silhouette_coef"
      ],
      "execution_count": 13,
      "outputs": [
        {
          "output_type": "execute_result",
          "data": {
            "text/plain": [
              "[0.6448316893338306,\n",
              " 0.4720235020455968,\n",
              " 0.4714652472357601,\n",
              " 0.4637338439400513,\n",
              " 0.4627505525569149,\n",
              " 0.38833953783072483,\n",
              " 0.30986731993924904,\n",
              " 0.2813138918989939,\n",
              " 0.20748088532957415]"
            ]
          },
          "metadata": {},
          "execution_count": 13
        }
      ]
    },
    {
      "cell_type": "code",
      "metadata": {
        "colab": {
          "base_uri": "https://localhost:8080/",
          "height": 295
        },
        "id": "tFOb_0vb0jl7",
        "outputId": "221acc79-a7a0-4603-d753-9f5dc70f3ccc"
      },
      "source": [
        "plt.scatter(Num_K,silhouette_coef)\n",
        "plt.plot(Num_K,silhouette_coef)\n",
        "plt.title('Silhouette coefficients')\n",
        "plt.ylabel('Scores')\n",
        "plt.xlabel('k')\n",
        "plt.show()"
      ],
      "execution_count": 14,
      "outputs": [
        {
          "output_type": "display_data",
          "data": {
            "text/plain": [
              "<Figure size 432x288 with 1 Axes>"
            ],
            "image/png": "[encoded data removed]"
          },
          "metadata": {
            "needs_background": "light"
          }
        }
      ]
    },
    {
      "cell_type": "code",
      "metadata": {
        "colab": {
          "base_uri": "https://localhost:8080/"
        },
        "id": "Bhefcky23fcb",
        "outputId": "f090cba3-940f-4d1f-cfb3-cde440bb706b"
      },
      "source": [
        "Num_K = [i+1 for i in range(10)]\n",
        "WCSS = []\n",
        "\n",
        "for k in Num_K:\n",
        "  kmeans = KMeans(n_clusters=k, random_state=1,)\n",
        "  model = kmeans.fit(df[['Temperature','Humidity']])\n",
        "  WCSS.append(model.inertia_)\n",
        "WCSS"
      ],
      "execution_count": 15,
      "outputs": [
        {
          "output_type": "execute_result",
          "data": {
            "text/plain": [
              "[1775.0615384615385,\n",
              " 374.4969047619048,\n",
              " 217.52833333333336,\n",
              " 135.185,\n",
              " 70.60633333333332,\n",
              " 37.385,\n",
              " 24.884999999999998,\n",
              " 16.76,\n",
              " 9.953333333333337,\n",
              " 5.705000000000004]"
            ]
          },
          "metadata": {},
          "execution_count": 15
        }
      ]
    },
    {
      "cell_type": "code",
      "metadata": {
        "colab": {
          "base_uri": "https://localhost:8080/",
          "height": 295
        },
        "id": "vljDxTjB03Zo",
        "outputId": "1e65b3da-5a1a-4a90-a438-b927100be42b"
      },
      "source": [
        "plt.scatter(Num_K,WCSS )\n",
        "plt.plot(Num_K,WCSS )\n",
        "plt.title('WCSS')\n",
        "plt.ylabel('Scores')\n",
        "plt.xlabel('k')\n",
        "plt.show()"
      ],
      "execution_count": 16,
      "outputs": [
        {
          "output_type": "display_data",
          "data": {
            "text/plain": [
              "<Figure size 432x288 with 1 Axes>"
            ],
            "image/png": "[encoded data removed]"
          },
          "metadata": {
            "needs_background": "light"
          }
        }
      ]
    },
    {
      "cell_type": "code",
      "metadata": {
        "id": "g-xaQGUM3zfY"
      },
      "source": [],
      "execution_count": 16,
      "outputs": []
    }
  ]
}